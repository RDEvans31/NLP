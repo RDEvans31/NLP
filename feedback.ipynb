{
 "cells": [
  {
   "cell_type": "code",
   "execution_count": 22,
   "metadata": {},
   "outputs": [],
   "source": [
    "from gql import gql, Client\n",
    "from gql.transport.aiohttp import AIOHTTPTransport\n",
    "\n",
    "transport = AIOHTTPTransport(url=\"http://chronogramfeedback-api.localtest.me/v1/graphql\", headers={'x-hasura-admin-secret': '6hB53WeFFkZ7FSBXkqcXW2LbZ39rrKHf2DfWEKff'})\n",
    "\n",
    "# Create a GraphQL client using the defined transport\n",
    "client = Client(transport=transport, fetch_schema_from_transport=True)\n",
    "\n",
    "async def main():\n",
    "    # Select your transport with a defined url endpoint\n",
    "\n",
    "    # Provide a GraphQL query\n",
    "    query = gql(\n",
    "        \"\"\"\n",
    "    query MyQuery {\n",
    "    feedback(where: {accepted: {_eq: false}}) {\n",
    "        dosage_instruction\n",
    "        labels\n",
    "        rrule\n",
    "    }\n",
    "    }\n",
    "    \"\"\"\n",
    "    )\n",
    "\n",
    "    # Execute the query on the transport\n",
    "    result = await client.execute_async(query)\n",
    "    return result"
   ]
  },
  {
   "cell_type": "code",
   "execution_count": 24,
   "metadata": {},
   "outputs": [
    {
     "name": "stdout",
     "output_type": "stream",
     "text": [
      "{'feedback': [{'dosage_instruction': 'take one capsule twice a day', 'labels': [['one', 'QUANTITY'], ['twice a day', 'FREQUENCY']], 'rrule': 'FREQ=DAILY;BYHOUR=8,20'}, {'dosage_instruction': 'take one capsule twice daily', 'labels': [['one', 'QUANTITY'], ['twice daily', 'FREQUENCY']], 'rrule': 'FREQ=DAILY;BYHOUR=8,20'}, {'dosage_instruction': 'take one daily', 'labels': [['one', 'QUANTITY'], ['daily', 'FREQUENCY']], 'rrule': 'FREQ=DAILY;BYHOUR=9'}, {'dosage_instruction': 'Take ONE daily  (BLOOD PRESSURE)', 'labels': [['one', 'QUANTITY'], ['daily', 'FREQUENCY']], 'rrule': 'FREQ=DAILY;BYHOUR=9'}, {'dosage_instruction': 'TAKE ONE DAILY ## FOR LFT CHECK EVERY        AND        ##', 'labels': [['one', 'QUANTITY'], ['daily', 'FREQUENCY'], ['every and', 'FREQUENCY']], 'rrule': 'FREQ=DAILY;BYHOUR=9'}, {'dosage_instruction': 'take one daily', 'labels': [['one', 'QUANTITY'], ['daily', 'FREQUENCY']], 'rrule': 'FREQ=DAILY;BYHOUR=9'}, {'dosage_instruction': 'Take ONE daily  (BLOOD PRESSURE)', 'labels': [['one', 'QUANTITY'], ['daily', 'FREQUENCY']], 'rrule': 'FREQ=DAILY;BYHOUR=9'}, {'dosage_instruction': 'TAKE ONE DAILY ## FOR LFT CHECK EVERY        &        ##', 'labels': [['one', 'QUANTITY'], ['daily', 'FREQUENCY']], 'rrule': 'FREQ=DAILY;BYHOUR=9'}, {'dosage_instruction': 'TAKE ONE DAILY ## FOR LFT CHECK EVERY        AND        ##', 'labels': [['one', 'QUANTITY'], ['daily', 'FREQUENCY'], ['every and', 'FREQUENCY']], 'rrule': 'FREQ=DAILY;BYHOUR=9'}, {'dosage_instruction': 'Take ONE daily (BLOOD PRESSURE)', 'labels': [['one', 'QUANTITY'], ['daily', 'FREQUENCY']], 'rrule': 'FREQ=DAILY;BYHOUR=9'}]}\n"
     ]
    }
   ],
   "source": [
    "await main()"
   ]
  }
 ],
 "metadata": {
  "interpreter": {
   "hash": "2c5ec772b99178770ac0194ca9985994694157a29a02b915fafba62034c4d3a3"
  },
  "kernelspec": {
   "display_name": "Python 3.9.7 ('mercury')",
   "language": "python",
   "name": "python3"
  },
  "language_info": {
   "codemirror_mode": {
    "name": "ipython",
    "version": 3
   },
   "file_extension": ".py",
   "mimetype": "text/x-python",
   "name": "python",
   "nbconvert_exporter": "python",
   "pygments_lexer": "ipython3",
   "version": "3.9.7"
  },
  "orig_nbformat": 4
 },
 "nbformat": 4,
 "nbformat_minor": 2
}
