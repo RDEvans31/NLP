{
 "cells": [
  {
   "cell_type": "code",
   "execution_count": 1,
   "metadata": {},
   "outputs": [
    {
     "name": "stdout",
     "output_type": "stream",
     "text": [
      "2022-04-26 14:08:09,912 loading file /Users/rob/.flair/models/ner-english-ontonotes-fast/0d55dd3b912da9cf26e003035a0c269a0e9ab222f0be1e48a3bbba3a58c0fed0.c9907cd5fde3ce84b71a4172e7ca03841cd81ab71d13eb68aa08b259f57c00b6\n",
      "2022-04-26 14:08:17,367 SequenceTagger predicts: Dictionary with 76 tags: <unk>, O, B-CARDINAL, E-CARDINAL, S-PERSON, S-CARDINAL, S-PRODUCT, B-PRODUCT, I-PRODUCT, E-PRODUCT, B-WORK_OF_ART, I-WORK_OF_ART, E-WORK_OF_ART, B-PERSON, E-PERSON, S-GPE, B-DATE, I-DATE, E-DATE, S-ORDINAL, S-LANGUAGE, I-PERSON, S-EVENT, S-DATE, B-QUANTITY, E-QUANTITY, S-TIME, B-TIME, I-TIME, E-TIME, B-GPE, E-GPE, S-ORG, I-GPE, S-NORP, B-FAC, I-FAC, E-FAC, B-NORP, E-NORP, S-PERCENT, B-ORG, E-ORG, B-LANGUAGE, E-LANGUAGE, I-CARDINAL, I-ORG, S-WORK_OF_ART, I-QUANTITY, B-MONEY\n"
     ]
    }
   ],
   "source": [
    "from flair.data import Sentence\n",
    "from flair.models import SequenceTagger\n",
    "tagger = SequenceTagger.load('flair/ner-english-ontonotes-fast')"
   ]
  },
  {
   "cell_type": "code",
   "execution_count": 2,
   "metadata": {},
   "outputs": [],
   "source": [
    "import pandas as pd\n",
    "import numpy as np\n",
    "\n",
    "import nltk\n",
    "\n",
    "import spacy as sp\n",
    "nlp = sp.load('en_core_web_sm')"
   ]
  },
  {
   "cell_type": "code",
   "execution_count": 3,
   "metadata": {},
   "outputs": [],
   "source": [
    "dosage_df= pd.read_json('data/dosage-map.json')"
   ]
  },
  {
   "cell_type": "code",
   "execution_count": 4,
   "metadata": {},
   "outputs": [
    {
     "data": {
      "text/html": [
       "<div>\n",
       "<style scoped>\n",
       "    .dataframe tbody tr th:only-of-type {\n",
       "        vertical-align: middle;\n",
       "    }\n",
       "\n",
       "    .dataframe tbody tr th {\n",
       "        vertical-align: top;\n",
       "    }\n",
       "\n",
       "    .dataframe thead th {\n",
       "        text-align: right;\n",
       "    }\n",
       "</style>\n",
       "<table border=\"1\" class=\"dataframe\">\n",
       "  <thead>\n",
       "    <tr style=\"text-align: right;\">\n",
       "      <th></th>\n",
       "      <th>prescriber_dosage</th>\n",
       "    </tr>\n",
       "  </thead>\n",
       "  <tbody>\n",
       "    <tr>\n",
       "      <th>0</th>\n",
       "      <td>#take one daily</td>\n",
       "    </tr>\n",
       "    <tr>\n",
       "      <th>1</th>\n",
       "      <td>(!THIS IS CO-CODAMOL!!)TAKE 1 OR 2 UP TO 4 TIM...</td>\n",
       "    </tr>\n",
       "    <tr>\n",
       "      <th>2</th>\n",
       "      <td>(2mg) four BD PRN max 4mg/24hours</td>\n",
       "    </tr>\n",
       "    <tr>\n",
       "      <th>3</th>\n",
       "      <td>(Buprenorphine) Apply one patch and replace ev...</td>\n",
       "    </tr>\n",
       "    <tr>\n",
       "      <th>4</th>\n",
       "      <td>(Co-codamol 30/500) ONE or TWO caplets to be t...</td>\n",
       "    </tr>\n",
       "    <tr>\n",
       "      <th>...</th>\n",
       "      <td>...</td>\n",
       "    </tr>\n",
       "    <tr>\n",
       "      <th>2181</th>\n",
       "      <td>1 nocte## please do u&amp;e twice a year in jan an...</td>\n",
       "    </tr>\n",
       "    <tr>\n",
       "      <th>2182</th>\n",
       "      <td>half tab nocte</td>\n",
       "    </tr>\n",
       "    <tr>\n",
       "      <th>2183</th>\n",
       "      <td>take two at night (total dose 700mg nocte)</td>\n",
       "    </tr>\n",
       "    <tr>\n",
       "      <th>2184</th>\n",
       "      <td>take one in the morning and one in the evening...</td>\n",
       "    </tr>\n",
       "    <tr>\n",
       "      <th>2185</th>\n",
       "      <td>take one tablet nocte as directed by hospital</td>\n",
       "    </tr>\n",
       "  </tbody>\n",
       "</table>\n",
       "<p>2186 rows × 1 columns</p>\n",
       "</div>"
      ],
      "text/plain": [
       "                                      prescriber_dosage\n",
       "0                                       #take one daily\n",
       "1     (!THIS IS CO-CODAMOL!!)TAKE 1 OR 2 UP TO 4 TIM...\n",
       "2                     (2mg) four BD PRN max 4mg/24hours\n",
       "3     (Buprenorphine) Apply one patch and replace ev...\n",
       "4     (Co-codamol 30/500) ONE or TWO caplets to be t...\n",
       "...                                                 ...\n",
       "2181  1 nocte## please do u&e twice a year in jan an...\n",
       "2182                                     half tab nocte\n",
       "2183         take two at night (total dose 700mg nocte)\n",
       "2184  take one in the morning and one in the evening...\n",
       "2185      take one tablet nocte as directed by hospital\n",
       "\n",
       "[2186 rows x 1 columns]"
      ]
     },
     "execution_count": 4,
     "metadata": {},
     "output_type": "execute_result"
    }
   ],
   "source": [
    "dosage_df\n",
    "dosage_df_modified=dosage_df[[\"prescriber_dosage\"]]\n",
    "dosage_df_modified"
   ]
  },
  {
   "cell_type": "markdown",
   "metadata": {},
   "source": [
    "## Pre-processing:\n",
    "- Convert everything to lowercase, remove special characters, tokenise.\n",
    "\n",
    "I will try two different popular libraries - nltk and spacy, to decide which one to use for the pipeline."
   ]
  },
  {
   "cell_type": "markdown",
   "metadata": {},
   "source": [
    "Trying two different tokenizers as I'm having toruble with RegEx"
   ]
  },
  {
   "cell_type": "code",
   "execution_count": 5,
   "metadata": {},
   "outputs": [
    {
     "data": {
      "text/html": [
       "<div>\n",
       "<style scoped>\n",
       "    .dataframe tbody tr th:only-of-type {\n",
       "        vertical-align: middle;\n",
       "    }\n",
       "\n",
       "    .dataframe tbody tr th {\n",
       "        vertical-align: top;\n",
       "    }\n",
       "\n",
       "    .dataframe thead th {\n",
       "        text-align: right;\n",
       "    }\n",
       "</style>\n",
       "<table border=\"1\" class=\"dataframe\">\n",
       "  <thead>\n",
       "    <tr style=\"text-align: right;\">\n",
       "      <th></th>\n",
       "      <th>prescriber_dosage</th>\n",
       "      <th>string</th>\n",
       "    </tr>\n",
       "  </thead>\n",
       "  <tbody>\n",
       "    <tr>\n",
       "      <th>0</th>\n",
       "      <td>#take one daily</td>\n",
       "      <td>take one daily</td>\n",
       "    </tr>\n",
       "    <tr>\n",
       "      <th>1</th>\n",
       "      <td>(!THIS IS CO-CODAMOL!!)TAKE 1 OR 2 UP TO 4 TIM...</td>\n",
       "      <td>this is co-codamol take 1 or 2 up to 4 times a...</td>\n",
       "    </tr>\n",
       "    <tr>\n",
       "      <th>2</th>\n",
       "      <td>(2mg) four BD PRN max 4mg/24hours</td>\n",
       "      <td>2mg four bd prn max 4mg 24hours</td>\n",
       "    </tr>\n",
       "    <tr>\n",
       "      <th>3</th>\n",
       "      <td>(Buprenorphine) Apply one patch and replace ev...</td>\n",
       "      <td>buprenorphine apply one patch and replace ever...</td>\n",
       "    </tr>\n",
       "    <tr>\n",
       "      <th>4</th>\n",
       "      <td>(Co-codamol 30/500) ONE or TWO caplets to be t...</td>\n",
       "      <td>co-codamol 30 500 one or two caplets to be tak...</td>\n",
       "    </tr>\n",
       "    <tr>\n",
       "      <th>...</th>\n",
       "      <td>...</td>\n",
       "      <td>...</td>\n",
       "    </tr>\n",
       "    <tr>\n",
       "      <th>2181</th>\n",
       "      <td>1 nocte## please do u&amp;e twice a year in jan an...</td>\n",
       "      <td>1 nocte please do u e twice a year in jan and ...</td>\n",
       "    </tr>\n",
       "    <tr>\n",
       "      <th>2182</th>\n",
       "      <td>half tab nocte</td>\n",
       "      <td>half tab nocte</td>\n",
       "    </tr>\n",
       "    <tr>\n",
       "      <th>2183</th>\n",
       "      <td>take two at night (total dose 700mg nocte)</td>\n",
       "      <td>take two at night total dose 700mg nocte</td>\n",
       "    </tr>\n",
       "    <tr>\n",
       "      <th>2184</th>\n",
       "      <td>take one in the morning and one in the evening...</td>\n",
       "      <td>take one in the morning and one in the evening...</td>\n",
       "    </tr>\n",
       "    <tr>\n",
       "      <th>2185</th>\n",
       "      <td>take one tablet nocte as directed by hospital</td>\n",
       "      <td>take one tablet nocte as directed by hospital</td>\n",
       "    </tr>\n",
       "  </tbody>\n",
       "</table>\n",
       "<p>2186 rows × 2 columns</p>\n",
       "</div>"
      ],
      "text/plain": [
       "                                      prescriber_dosage  \\\n",
       "0                                       #take one daily   \n",
       "1     (!THIS IS CO-CODAMOL!!)TAKE 1 OR 2 UP TO 4 TIM...   \n",
       "2                     (2mg) four BD PRN max 4mg/24hours   \n",
       "3     (Buprenorphine) Apply one patch and replace ev...   \n",
       "4     (Co-codamol 30/500) ONE or TWO caplets to be t...   \n",
       "...                                                 ...   \n",
       "2181  1 nocte## please do u&e twice a year in jan an...   \n",
       "2182                                     half tab nocte   \n",
       "2183         take two at night (total dose 700mg nocte)   \n",
       "2184  take one in the morning and one in the evening...   \n",
       "2185      take one tablet nocte as directed by hospital   \n",
       "\n",
       "                                                 string  \n",
       "0                                        take one daily  \n",
       "1     this is co-codamol take 1 or 2 up to 4 times a...  \n",
       "2                       2mg four bd prn max 4mg 24hours  \n",
       "3     buprenorphine apply one patch and replace ever...  \n",
       "4     co-codamol 30 500 one or two caplets to be tak...  \n",
       "...                                                 ...  \n",
       "2181  1 nocte please do u e twice a year in jan and ...  \n",
       "2182                                     half tab nocte  \n",
       "2183           take two at night total dose 700mg nocte  \n",
       "2184  take one in the morning and one in the evening...  \n",
       "2185      take one tablet nocte as directed by hospital  \n",
       "\n",
       "[2186 rows x 2 columns]"
      ]
     },
     "execution_count": 5,
     "metadata": {},
     "output_type": "execute_result"
    }
   ],
   "source": [
    "tokenizer = nltk.RegexpTokenizer(r\"[\\w'-]+\") #removes symbols and tokenizes\n",
    "tokenizer2 = nltk.RegexpTokenizer(r\"(?=\\S*['(-|\\/])([w'(-|\\/]+)|[\\w'-]+\") # this one has issues with brackets\n",
    "# tokenizer2 = nltk.RegexpTokenizer(r\"(\\d+|\\D+)\")\n",
    "# tokenizer2 = nltk.RegexpTokenizer(r\"(\\d+|\\D+)\") \n",
    "tokens1 = []\n",
    "tokens2 = []\n",
    "processed_strings1 = []\n",
    "processed_strings2 = []\n",
    "for i in range(len(dosage_df_modified)):\n",
    "    string = list(map(lambda x: x.casefold(), tokenizer.tokenize(dosage_df_modified.iloc[i][\"prescriber_dosage\"])))\n",
    "    string2 = list(map(lambda x: x.casefold(), tokenizer2.tokenize(dosage_df_modified.iloc[i][\"prescriber_dosage\"])))\n",
    "    # string=list(map(lambda X: tokenizer2.tokenize(X.casefold()), tokenizer.tokenize(dosage_df_modified.iloc[i][\"prescriber_dosage\"]))) #reduces to lower case\n",
    "    # string=[item for sublist in string for item in sublist]\n",
    "    tokens1.append(string)\n",
    "    tokens2.append(string2)\n",
    "    processed_strings1.append(' '.join(string))\n",
    "    processed_strings2.append(' '.join(string2))\n",
    "\n",
    "pre_processed_dosage_df = dosage_df_modified.__copy__()\n",
    "pre_processed_dosage_df.loc[:,\"string\"]=np.array(processed_strings1, dtype=object)\n",
    "# pre_processed_dosage_df.loc[:,\"string2\"]=np.array(processed_strings2, dtype=object)\n",
    "# pre_processed_dosage_df.loc[:,\"tokens1\"]=np.array(tokens1, dtype=object)\n",
    "# pre_processed_dosage_df.loc[:,\"tokens2\"]=np.array(tokens2, dtype=object)\n",
    "pre_processed_dosage_df"
   ]
  },
  {
   "cell_type": "markdown",
   "metadata": {},
   "source": [
    "### Review-SpaCy\n",
    "It would appear that spaCy is much more easy to use than nltk and much more powerful in terms of out of the box NER (nltk only supports 3 tags whereas spaCy supports 18 tags), from now on I will use spaCy for all basic NLP purposes. I will also experiment with Flair and see how that performs. As seen above, SpaCy cannot identify all entities correctly - datapoint 2185 for example. This may be improved by better pre-processing. \n",
    "\n",
    "### NER with Flair"
   ]
  },
  {
   "cell_type": "code",
   "execution_count": 6,
   "metadata": {},
   "outputs": [
    {
     "data": {
      "text/html": [
       "<div>\n",
       "<style scoped>\n",
       "    .dataframe tbody tr th:only-of-type {\n",
       "        vertical-align: middle;\n",
       "    }\n",
       "\n",
       "    .dataframe tbody tr th {\n",
       "        vertical-align: top;\n",
       "    }\n",
       "\n",
       "    .dataframe thead th {\n",
       "        text-align: right;\n",
       "    }\n",
       "</style>\n",
       "<table border=\"1\" class=\"dataframe\">\n",
       "  <thead>\n",
       "    <tr style=\"text-align: right;\">\n",
       "      <th></th>\n",
       "      <th>prescriber_dosage</th>\n",
       "      <th>string</th>\n",
       "      <th>spacy_entities</th>\n",
       "      <th>flair_entities</th>\n",
       "    </tr>\n",
       "  </thead>\n",
       "  <tbody>\n",
       "    <tr>\n",
       "      <th>0</th>\n",
       "      <td>#take one daily</td>\n",
       "      <td>take one daily</td>\n",
       "      <td>[(one, CARDINAL), (daily, DATE)]</td>\n",
       "      <td>[(one, CARDINAL)]</td>\n",
       "    </tr>\n",
       "    <tr>\n",
       "      <th>1</th>\n",
       "      <td>(!THIS IS CO-CODAMOL!!)TAKE 1 OR 2 UP TO 4 TIM...</td>\n",
       "      <td>this is co-codamol take 1 or 2 up to 4 times a...</td>\n",
       "      <td>[(1, CARDINAL), (8, CARDINAL), (24hrs, CARDINAL)]</td>\n",
       "      <td>[(1, CARDINAL), (2, CARDINAL), (4, CARDINAL), ...</td>\n",
       "    </tr>\n",
       "    <tr>\n",
       "      <th>2</th>\n",
       "      <td>(2mg) four BD PRN max 4mg/24hours</td>\n",
       "      <td>2mg four bd prn max 4mg 24hours</td>\n",
       "      <td>[(2, CARDINAL)]</td>\n",
       "      <td>[(four, CARDINAL)]</td>\n",
       "    </tr>\n",
       "    <tr>\n",
       "      <th>3</th>\n",
       "      <td>(Buprenorphine) Apply one patch and replace ev...</td>\n",
       "      <td>buprenorphine apply one patch and replace ever...</td>\n",
       "      <td>[(one, CARDINAL), (every 7 days, DATE)]</td>\n",
       "      <td>[(one, CARDINAL), (7 days, DATE)]</td>\n",
       "    </tr>\n",
       "    <tr>\n",
       "      <th>4</th>\n",
       "      <td>(Co-codamol 30/500) ONE or TWO caplets to be t...</td>\n",
       "      <td>co-codamol 30 500 one or two caplets to be tak...</td>\n",
       "      <td>[(one, CARDINAL), (two, CARDINAL), (4-6 hours,...</td>\n",
       "      <td>[(30, CARDINAL), (500, CARDINAL), (one, CARDIN...</td>\n",
       "    </tr>\n",
       "    <tr>\n",
       "      <th>...</th>\n",
       "      <td>...</td>\n",
       "      <td>...</td>\n",
       "      <td>...</td>\n",
       "      <td>...</td>\n",
       "    </tr>\n",
       "    <tr>\n",
       "      <th>2181</th>\n",
       "      <td>1 nocte## please do u&amp;e twice a year in jan an...</td>\n",
       "      <td>1 nocte please do u e twice a year in jan and ...</td>\n",
       "      <td>[(1, CARDINAL), (u e twice a year, ORG), (jan ...</td>\n",
       "      <td>[(1, CARDINAL)]</td>\n",
       "    </tr>\n",
       "    <tr>\n",
       "      <th>2182</th>\n",
       "      <td>half tab nocte</td>\n",
       "      <td>half tab nocte</td>\n",
       "      <td>[(half, CARDINAL)]</td>\n",
       "      <td>[]</td>\n",
       "    </tr>\n",
       "    <tr>\n",
       "      <th>2183</th>\n",
       "      <td>take two at night (total dose 700mg nocte)</td>\n",
       "      <td>take two at night total dose 700mg nocte</td>\n",
       "      <td>[(two, CARDINAL), (700, CARDINAL), (nocte, ORG)]</td>\n",
       "      <td>[(two, CARDINAL)]</td>\n",
       "    </tr>\n",
       "    <tr>\n",
       "      <th>2184</th>\n",
       "      <td>take one in the morning and one in the evening...</td>\n",
       "      <td>take one in the morning and one in the evening...</td>\n",
       "      <td>[(one, CARDINAL), (50, CARDINAL), (nocte, ORG)]</td>\n",
       "      <td>[]</td>\n",
       "    </tr>\n",
       "    <tr>\n",
       "      <th>2185</th>\n",
       "      <td>take one tablet nocte as directed by hospital</td>\n",
       "      <td>take one tablet nocte as directed by hospital</td>\n",
       "      <td>[(one, CARDINAL)]</td>\n",
       "      <td>[]</td>\n",
       "    </tr>\n",
       "  </tbody>\n",
       "</table>\n",
       "<p>2186 rows × 4 columns</p>\n",
       "</div>"
      ],
      "text/plain": [
       "                                      prescriber_dosage  \\\n",
       "0                                       #take one daily   \n",
       "1     (!THIS IS CO-CODAMOL!!)TAKE 1 OR 2 UP TO 4 TIM...   \n",
       "2                     (2mg) four BD PRN max 4mg/24hours   \n",
       "3     (Buprenorphine) Apply one patch and replace ev...   \n",
       "4     (Co-codamol 30/500) ONE or TWO caplets to be t...   \n",
       "...                                                 ...   \n",
       "2181  1 nocte## please do u&e twice a year in jan an...   \n",
       "2182                                     half tab nocte   \n",
       "2183         take two at night (total dose 700mg nocte)   \n",
       "2184  take one in the morning and one in the evening...   \n",
       "2185      take one tablet nocte as directed by hospital   \n",
       "\n",
       "                                                 string  \\\n",
       "0                                        take one daily   \n",
       "1     this is co-codamol take 1 or 2 up to 4 times a...   \n",
       "2                       2mg four bd prn max 4mg 24hours   \n",
       "3     buprenorphine apply one patch and replace ever...   \n",
       "4     co-codamol 30 500 one or two caplets to be tak...   \n",
       "...                                                 ...   \n",
       "2181  1 nocte please do u e twice a year in jan and ...   \n",
       "2182                                     half tab nocte   \n",
       "2183           take two at night total dose 700mg nocte   \n",
       "2184  take one in the morning and one in the evening...   \n",
       "2185      take one tablet nocte as directed by hospital   \n",
       "\n",
       "                                         spacy_entities  \\\n",
       "0                      [(one, CARDINAL), (daily, DATE)]   \n",
       "1     [(1, CARDINAL), (8, CARDINAL), (24hrs, CARDINAL)]   \n",
       "2                                       [(2, CARDINAL)]   \n",
       "3               [(one, CARDINAL), (every 7 days, DATE)]   \n",
       "4     [(one, CARDINAL), (two, CARDINAL), (4-6 hours,...   \n",
       "...                                                 ...   \n",
       "2181  [(1, CARDINAL), (u e twice a year, ORG), (jan ...   \n",
       "2182                                 [(half, CARDINAL)]   \n",
       "2183   [(two, CARDINAL), (700, CARDINAL), (nocte, ORG)]   \n",
       "2184    [(one, CARDINAL), (50, CARDINAL), (nocte, ORG)]   \n",
       "2185                                  [(one, CARDINAL)]   \n",
       "\n",
       "                                         flair_entities  \n",
       "0                                     [(one, CARDINAL)]  \n",
       "1     [(1, CARDINAL), (2, CARDINAL), (4, CARDINAL), ...  \n",
       "2                                    [(four, CARDINAL)]  \n",
       "3                     [(one, CARDINAL), (7 days, DATE)]  \n",
       "4     [(30, CARDINAL), (500, CARDINAL), (one, CARDIN...  \n",
       "...                                                 ...  \n",
       "2181                                    [(1, CARDINAL)]  \n",
       "2182                                                 []  \n",
       "2183                                  [(two, CARDINAL)]  \n",
       "2184                                                 []  \n",
       "2185                                                 []  \n",
       "\n",
       "[2186 rows x 4 columns]"
      ]
     },
     "execution_count": 6,
     "metadata": {},
     "output_type": "execute_result"
    }
   ],
   "source": [
    "lemmas_df = []\n",
    "pos_tags_df = []\n",
    "tag_df = []\n",
    "norm_df = []\n",
    "ents_df = []\n",
    "for i in range(len(pre_processed_dosage_df[\"string\"])):\n",
    "    string = nlp(pre_processed_dosage_df[\"string\"].iloc[i])\n",
    "    lemmas = []\n",
    "    pos_tags = []\n",
    "    tag = []\n",
    "    norm = []\n",
    "    ents = []\n",
    "    for token in string:\n",
    "        lemmas.append(token.lemma_)\n",
    "        pos_tags.append(token.pos_)\n",
    "        tag.append(token.tag_)\n",
    "        norm.append(token.norm_)\n",
    "\n",
    "    for entity in string.ents:\n",
    "        ents.append((str(entity.text), str(entity.label_)))\n",
    "\n",
    "    lemmas_df.append(lemmas)\n",
    "    pos_tags_df.append(pos_tags)\n",
    "    tag_df.append(pos_tags)\n",
    "    norm_df.append(norm)\n",
    "    ents_df.append(ents)\n",
    "\n",
    "ner_df = pre_processed_dosage_df.__copy__()\n",
    "ner_df.loc[:,\"spacy_entities\"] = ents_df\n",
    "\n",
    "ents_df = []\n",
    "for i in range(len(pre_processed_dosage_df)):\n",
    "    string = Sentence(pre_processed_dosage_df[\"string\"].iloc[i])\n",
    "    # load the NER tagger\n",
    "\n",
    "    # run NER over sentence\n",
    "    tagger.predict(string)\n",
    "    ents = [(entity.text, entity.get_label(\"ner\").value) for entity in string.get_spans('ner')] #getting NER spans\n",
    "    ents_df.append(ents)\n",
    "\n",
    "# pre_processed_dosage_df = dosage_df_modified.__copy__()\n",
    "# pre_processed_dosage_df.loc[:,\"lemmas\"] = lemmas_df\n",
    "# pre_processed_dosage_df.loc[:,\"pos_tags\"] = pos_tags_df\n",
    "# pre_processed_dosage_df.loc[:,\"tags\"] = tag_df\n",
    "# pre_processed_dosage_df.loc[:,\"norms\"] = norm_df\n",
    "ner_df.loc[:,\"flair_entities\"] = ents_df\n",
    "ner_df"
   ]
  },
  {
   "cell_type": "markdown",
   "metadata": {},
   "source": [
    "Take random sample, for annotation. "
   ]
  },
  {
   "cell_type": "code",
   "execution_count": 7,
   "metadata": {},
   "outputs": [
    {
     "data": {
      "text/html": [
       "<div>\n",
       "<style scoped>\n",
       "    .dataframe tbody tr th:only-of-type {\n",
       "        vertical-align: middle;\n",
       "    }\n",
       "\n",
       "    .dataframe tbody tr th {\n",
       "        vertical-align: top;\n",
       "    }\n",
       "\n",
       "    .dataframe thead th {\n",
       "        text-align: right;\n",
       "    }\n",
       "</style>\n",
       "<table border=\"1\" class=\"dataframe\">\n",
       "  <thead>\n",
       "    <tr style=\"text-align: right;\">\n",
       "      <th></th>\n",
       "      <th>prescriber_dosage</th>\n",
       "      <th>string</th>\n",
       "    </tr>\n",
       "  </thead>\n",
       "  <tbody>\n",
       "    <tr>\n",
       "      <th>0</th>\n",
       "      <td>#take one daily</td>\n",
       "      <td>take one daily</td>\n",
       "    </tr>\n",
       "    <tr>\n",
       "      <th>1</th>\n",
       "      <td>(!THIS IS CO-CODAMOL!!)TAKE 1 OR 2 UP TO 4 TIM...</td>\n",
       "      <td>this is co-codamol take 1 or 2 up to 4 times a...</td>\n",
       "    </tr>\n",
       "    <tr>\n",
       "      <th>2</th>\n",
       "      <td>(2mg) four BD PRN max 4mg/24hours</td>\n",
       "      <td>2mg four bd prn max 4mg 24hours</td>\n",
       "    </tr>\n",
       "    <tr>\n",
       "      <th>3</th>\n",
       "      <td>(Buprenorphine) Apply one patch and replace ev...</td>\n",
       "      <td>buprenorphine apply one patch and replace ever...</td>\n",
       "    </tr>\n",
       "    <tr>\n",
       "      <th>4</th>\n",
       "      <td>(Co-codamol 30/500) ONE or TWO caplets to be t...</td>\n",
       "      <td>co-codamol 30 500 one or two caplets to be tak...</td>\n",
       "    </tr>\n",
       "    <tr>\n",
       "      <th>...</th>\n",
       "      <td>...</td>\n",
       "      <td>...</td>\n",
       "    </tr>\n",
       "    <tr>\n",
       "      <th>2181</th>\n",
       "      <td>1 nocte## please do u&amp;e twice a year in jan an...</td>\n",
       "      <td>1 nocte please do u e twice a year in jan and ...</td>\n",
       "    </tr>\n",
       "    <tr>\n",
       "      <th>2182</th>\n",
       "      <td>half tab nocte</td>\n",
       "      <td>half tab nocte</td>\n",
       "    </tr>\n",
       "    <tr>\n",
       "      <th>2183</th>\n",
       "      <td>take two at night (total dose 700mg nocte)</td>\n",
       "      <td>take two at night total dose 700mg nocte</td>\n",
       "    </tr>\n",
       "    <tr>\n",
       "      <th>2184</th>\n",
       "      <td>take one in the morning and one in the evening...</td>\n",
       "      <td>take one in the morning and one in the evening...</td>\n",
       "    </tr>\n",
       "    <tr>\n",
       "      <th>2185</th>\n",
       "      <td>take one tablet nocte as directed by hospital</td>\n",
       "      <td>take one tablet nocte as directed by hospital</td>\n",
       "    </tr>\n",
       "  </tbody>\n",
       "</table>\n",
       "<p>2186 rows × 2 columns</p>\n",
       "</div>"
      ],
      "text/plain": [
       "                                      prescriber_dosage  \\\n",
       "0                                       #take one daily   \n",
       "1     (!THIS IS CO-CODAMOL!!)TAKE 1 OR 2 UP TO 4 TIM...   \n",
       "2                     (2mg) four BD PRN max 4mg/24hours   \n",
       "3     (Buprenorphine) Apply one patch and replace ev...   \n",
       "4     (Co-codamol 30/500) ONE or TWO caplets to be t...   \n",
       "...                                                 ...   \n",
       "2181  1 nocte## please do u&e twice a year in jan an...   \n",
       "2182                                     half tab nocte   \n",
       "2183         take two at night (total dose 700mg nocte)   \n",
       "2184  take one in the morning and one in the evening...   \n",
       "2185      take one tablet nocte as directed by hospital   \n",
       "\n",
       "                                                 string  \n",
       "0                                        take one daily  \n",
       "1     this is co-codamol take 1 or 2 up to 4 times a...  \n",
       "2                       2mg four bd prn max 4mg 24hours  \n",
       "3     buprenorphine apply one patch and replace ever...  \n",
       "4     co-codamol 30 500 one or two caplets to be tak...  \n",
       "...                                                 ...  \n",
       "2181  1 nocte please do u e twice a year in jan and ...  \n",
       "2182                                     half tab nocte  \n",
       "2183           take two at night total dose 700mg nocte  \n",
       "2184  take one in the morning and one in the evening...  \n",
       "2185      take one tablet nocte as directed by hospital  \n",
       "\n",
       "[2186 rows x 2 columns]"
      ]
     },
     "execution_count": 7,
     "metadata": {},
     "output_type": "execute_result"
    }
   ],
   "source": [
    "pre_processed_dosage_df"
   ]
  },
  {
   "cell_type": "code",
   "execution_count": 8,
   "metadata": {},
   "outputs": [],
   "source": [
    "random_indices = [22, 37, 88, 102, 195, 203, 290, 333, 381, 383, 427, 490, 507, 514, 543, 576, 696, 715, 748, 843, 901, 936, 941, 971, 1013, 1024, 1047, 1053, 1121, 1129, 1173, 1232, 1322, 1406, 1433, 1455, 1575, 1589, 1593, 1608, 1646, 1673, 1696, 1705, 1718, 1749, 1880, 1965, 1984, 2091]\n",
    "# pre_processed_dosage_df.iloc[random_indices][['prescriber_dosage', 'string']].to_csv('data/random_sample.csv')\n",
    "#preparing for annotion with doccanno\n",
    "training_data = pre_processed_dosage_df.iloc[random_indices][['string']] # trying with standardised string first\n",
    "training_data['label']=np.nan\n",
    "training_data.columns = ['text', 'label']\n",
    "# training_data.to_json(path_or_buf='training_data.json', orient='records')"
   ]
  },
  {
   "cell_type": "markdown",
   "metadata": {},
   "source": [
    "Important notes: \n",
    "- Using Docanno for NER annotation of training set\n",
    "- Medical abbreviations are an issue\n",
    "- Other important instructions are being ignored for now \"take only when needed\", only focusing on frequency and mealtimes for now."
   ]
  },
  {
   "cell_type": "markdown",
   "metadata": {},
   "source": [
    "After annotation:"
   ]
  },
  {
   "cell_type": "code",
   "execution_count": 9,
   "metadata": {},
   "outputs": [],
   "source": [
    "annotated_data=pd.read_json('data/training_data_annotated_v1.json', orient='records')\n",
    "annotated_data.drop([\"id\"], inplace=True, axis=1)\n",
    "annotated_data.columns = ['text', 'annotation']\n",
    "training = annotated_data.iloc[:80]\n",
    "test = annotated_data.iloc[80:87]\n",
    "dev = annotated_data.iloc[87:]"
   ]
  },
  {
   "cell_type": "markdown",
   "metadata": {},
   "source": [
    "This code is copied from: https://medium.com/thecyphy/training-custom-ner-model-using-flair-df1f9ea9c762 and adapted for my purposes."
   ]
  },
  {
   "cell_type": "markdown",
   "metadata": {},
   "source": [
    "Creating training data for corpus"
   ]
  },
  {
   "cell_type": "code",
   "execution_count": 10,
   "metadata": {},
   "outputs": [],
   "source": [
    "from difflib import SequenceMatcher\n",
    "\n",
    "def matcher(string, pattern):\n",
    "    '''\n",
    "    Return the start and end index of any pattern present in the text.\n",
    "    '''\n",
    "    match_list = []\n",
    "    pattern = pattern.strip()\n",
    "    seqMatch = SequenceMatcher(None, string, pattern, autojunk=False)\n",
    "    match = seqMatch.find_longest_match(0, len(string), 0, len(pattern))\n",
    "    if (match.size == len(pattern)):\n",
    "        start = match.a\n",
    "        end = match.a + match.size\n",
    "        match_tup = (start, end)\n",
    "        string = string.replace(pattern, \"X\" * len(pattern), 1)\n",
    "        match_list.append(match_tup)\n",
    "    return match_list, string\n",
    "\n",
    "def matcher_indices(string: str, annotations):\n",
    "    '''\n",
    "    Return the start and end index of any pattern present in the text.\n",
    "    '''\n",
    "    match = (annotations[0], annotations[1])\n",
    "    string = string.replace(string[match[0]: match[1]], 'X' * (match[1]-match[0]),1)\n",
    "    return [match], string\n",
    "\n",
    "def mark_sentence(s, match_list):\n",
    "    '''\n",
    "    Marks all the entities in the sentence as per the BIO scheme. \n",
    "    '''\n",
    "    word_dict = {}\n",
    "    for word in s.split():\n",
    "        word_dict[word] = 'O'\n",
    "        \n",
    "    for start, end, e_type in match_list:\n",
    "        temp_str = s[start:end]\n",
    "        tmp_list = temp_str.split()\n",
    "        if len(tmp_list) > 1:\n",
    "            word_dict[tmp_list[0]] = 'B-' + e_type\n",
    "            for w in tmp_list[1:]:\n",
    "                word_dict[w] = 'I-' + e_type\n",
    "        else:\n",
    "            word_dict[temp_str] = 'B-' + e_type\n",
    "    return word_dict\n",
    "\n",
    "def clean(text): #not really relevant\n",
    "    '''\n",
    "    Just a helper fuction to add a space before the punctuations for better tokenization\n",
    "    '''\n",
    "    filters = [\"!\", \"#\", \"$\", \"%\", \"&\", \"(\", \")\", \"/\", \"*\", \".\", \":\", \";\", \"<\", \"=\", \">\", \"?\", \"@\", \"[\",\n",
    "               \"\\\\\", \"]\", \"_\", \"`\", \"{\", \"}\", \"~\", \"'\"]\n",
    "    for i in text:\n",
    "        if i in filters:\n",
    "            text = text.replace(i, \" \" + i)\n",
    "            \n",
    "    return text\n",
    "\n",
    "def create_data(df, filepath):\n",
    "    '''\n",
    "    The function responsible for the creation of data in the said format.\n",
    "    '''\n",
    "    with open(filepath , 'w') as f:\n",
    "        for text, annotation in zip(df.text, df.annotation):\n",
    "            # text = clean(text)\n",
    "            text_ = text        \n",
    "            match_list = []\n",
    "            for i in annotation:\n",
    "                # a, text_ = matcher(text, i[0])\n",
    "                a, text_ = matcher_indices(text, i)\n",
    "                match_list.append((a[0][0], a[0][1], i[2]))\n",
    "                \n",
    "            d = mark_sentence(text, match_list)\n",
    "\n",
    "            for i in d.keys():\n",
    "                f.writelines(i + ' ' + d[i] +'\\n')\n",
    "            f.writelines('\\n')"
   ]
  },
  {
   "cell_type": "markdown",
   "metadata": {},
   "source": [
    "This is an example I ran so I could gain a better understanding of how the functino worked so I could adapt it to my data"
   ]
  },
  {
   "cell_type": "code",
   "execution_count": 11,
   "metadata": {},
   "outputs": [],
   "source": [
    "def main():\n",
    "    ## An example dataframe.\n",
    "    # data = pd.DataFrame([[\"Horses are too tall and they pretend to care about your feelings\", [(\"Horses\", \"ANIMAL\")]],\n",
    "    #               [\"Who is Shaka Khan?\", [(\"Shaka Khan\", \"PERSON\")]],\n",
    "    #               [\"I like London and Berlin.\", [(\"London\", \"LOCATION\"), (\"Berlin\", \"LOCATION\")]],\n",
    "    #               [\"There is a banyan tree in the courtyard\", [(\"banyan tree\", \"TREE\")]]], columns=['text', 'annotation'])\n",
    "    \n",
    "    ## path to save the txt file.\n",
    "    filepath = 'custom_model/dev.txt'\n",
    "    ## creating the file.\n",
    "    create_data(dev, filepath)\n",
    "\n",
    "# main()\n"
   ]
  },
  {
   "cell_type": "code",
   "execution_count": 12,
   "metadata": {},
   "outputs": [
    {
     "name": "stdout",
     "output_type": "stream",
     "text": [
      "2022-04-26 14:10:30,519 Reading data from custom_model\n",
      "2022-04-26 14:10:30,520 Train: custom_model/train.txt\n",
      "2022-04-26 14:10:30,520 Dev: custom_model/dev.txt\n",
      "2022-04-26 14:10:30,520 Test: custom_model/test.txt\n"
     ]
    }
   ],
   "source": [
    "from flair.data import Corpus\n",
    "from flair.datasets import ColumnCorpus\n",
    "\n",
    "columns = {0: 'text', 1: 'ner'}\n",
    "\n",
    "data_folder = 'custom_model'\n",
    "\n",
    "corpus : Corpus = ColumnCorpus(data_folder, columns,\n",
    "                                train_file='train.txt',\n",
    "                                test_file='test.txt',\n",
    "                                dev_file='dev.txt')"
   ]
  },
  {
   "cell_type": "code",
   "execution_count": 13,
   "metadata": {},
   "outputs": [
    {
     "name": "stdout",
     "output_type": "stream",
     "text": [
      "2022-04-26 14:10:30,557 Computing label dictionary. Progress:\n"
     ]
    },
    {
     "name": "stderr",
     "output_type": "stream",
     "text": [
      "80it [00:00, 18677.67it/s]"
     ]
    },
    {
     "name": "stdout",
     "output_type": "stream",
     "text": [
      "2022-04-26 14:10:30,632 Dictionary created for label 'ner' with 4 values: FREQUENCY (seen 76 times), QUANTITY (seen 68 times), MEALTIME (seen 8 times)\n"
     ]
    },
    {
     "name": "stderr",
     "output_type": "stream",
     "text": [
      "\n"
     ]
    },
    {
     "name": "stdout",
     "output_type": "stream",
     "text": [
      "2022-04-26 14:10:42,968 SequenceTagger predicts: Dictionary with 13 tags: O, S-FREQUENCY, B-FREQUENCY, E-FREQUENCY, I-FREQUENCY, S-QUANTITY, B-QUANTITY, E-QUANTITY, I-QUANTITY, S-MEALTIME, B-MEALTIME, E-MEALTIME, I-MEALTIME\n"
     ]
    }
   ],
   "source": [
    "# tag to predict\n",
    "tag_type = 'ner'\n",
    "# make tag dictionary from the corpus\n",
    "tag_dictionary = corpus.make_label_dictionary(label_type=tag_type)\n",
    "\n",
    "from flair.embeddings import WordEmbeddings, StackedEmbeddings, TokenEmbeddings\n",
    "from typing import List\n",
    "\n",
    "glove_embedding = WordEmbeddings('glove')\n",
    "\n",
    "fasttext_embeddings = WordEmbeddings('en')\n",
    "\n",
    "embeddings : StackedEmbeddings = StackedEmbeddings([glove_embedding])\n",
    " \n",
    "from flair.models import SequenceTagger\n",
    "tagger : SequenceTagger = SequenceTagger(hidden_size=256,\n",
    "                                       embeddings=embeddings,\n",
    "                                       tag_dictionary=tag_dictionary,\n",
    "                                       tag_type=tag_type,\n",
    "                                       use_crf=True)"
   ]
  },
  {
   "cell_type": "code",
   "execution_count": 14,
   "metadata": {},
   "outputs": [],
   "source": [
    "# training the model\n",
    "from flair.trainers import ModelTrainer\n",
    "trainer : ModelTrainer = ModelTrainer(tagger, corpus)\n",
    "# TRAINED\n",
    "# trainer.train('models/resources/taggers/ner',\n",
    "#               learning_rate=0.1,\n",
    "#               mini_batch_size=32,\n",
    "#               max_epochs=150)"
   ]
  },
  {
   "cell_type": "code",
   "execution_count": 15,
   "metadata": {},
   "outputs": [
    {
     "name": "stdout",
     "output_type": "stream",
     "text": [
      "2022-04-26 14:10:43,052 loading file models/resources/taggers/ner/best-model.pt\n",
      "2022-04-26 14:10:43,584 SequenceTagger predicts: Dictionary with 10 tags: <unk>, B-QUANTITY, I-QUANTITY, B-FREQUENCY, I-FREQUENCY, O, B-MEALTIME, I-MEALTIME, <START>, <STOP>\n"
     ]
    },
    {
     "data": {
      "text/html": [
       "<div>\n",
       "<style scoped>\n",
       "    .dataframe tbody tr th:only-of-type {\n",
       "        vertical-align: middle;\n",
       "    }\n",
       "\n",
       "    .dataframe tbody tr th {\n",
       "        vertical-align: top;\n",
       "    }\n",
       "\n",
       "    .dataframe thead th {\n",
       "        text-align: right;\n",
       "    }\n",
       "</style>\n",
       "<table border=\"1\" class=\"dataframe\">\n",
       "  <thead>\n",
       "    <tr style=\"text-align: right;\">\n",
       "      <th></th>\n",
       "      <th>prescriber_dosage</th>\n",
       "      <th>string</th>\n",
       "      <th>spacy_entities</th>\n",
       "      <th>flair_entities</th>\n",
       "      <th>custom_entities</th>\n",
       "    </tr>\n",
       "  </thead>\n",
       "  <tbody>\n",
       "    <tr>\n",
       "      <th>0</th>\n",
       "      <td>#take one daily</td>\n",
       "      <td>take one daily</td>\n",
       "      <td>[(one, CARDINAL), (daily, DATE)]</td>\n",
       "      <td>[(one, CARDINAL)]</td>\n",
       "      <td>[(one daily, FREQUENCY)]</td>\n",
       "    </tr>\n",
       "    <tr>\n",
       "      <th>1</th>\n",
       "      <td>(!THIS IS CO-CODAMOL!!)TAKE 1 OR 2 UP TO 4 TIM...</td>\n",
       "      <td>this is co-codamol take 1 or 2 up to 4 times a...</td>\n",
       "      <td>[(1, CARDINAL), (8, CARDINAL), (24hrs, CARDINAL)]</td>\n",
       "      <td>[(1, CARDINAL), (2, CARDINAL), (4, CARDINAL), ...</td>\n",
       "      <td>[(this, QUANTITY), (1, QUANTITY), (2, QUANTITY...</td>\n",
       "    </tr>\n",
       "    <tr>\n",
       "      <th>2</th>\n",
       "      <td>(2mg) four BD PRN max 4mg/24hours</td>\n",
       "      <td>2mg four bd prn max 4mg 24hours</td>\n",
       "      <td>[(2, CARDINAL)]</td>\n",
       "      <td>[(four, CARDINAL)]</td>\n",
       "      <td>[(four, QUANTITY)]</td>\n",
       "    </tr>\n",
       "    <tr>\n",
       "      <th>3</th>\n",
       "      <td>(Buprenorphine) Apply one patch and replace ev...</td>\n",
       "      <td>buprenorphine apply one patch and replace ever...</td>\n",
       "      <td>[(one, CARDINAL), (every 7 days, DATE)]</td>\n",
       "      <td>[(one, CARDINAL), (7 days, DATE)]</td>\n",
       "      <td>[(7 days, FREQUENCY)]</td>\n",
       "    </tr>\n",
       "    <tr>\n",
       "      <th>4</th>\n",
       "      <td>(Co-codamol 30/500) ONE or TWO caplets to be t...</td>\n",
       "      <td>co-codamol 30 500 one or two caplets to be tak...</td>\n",
       "      <td>[(one, CARDINAL), (two, CARDINAL), (4-6 hours,...</td>\n",
       "      <td>[(30, CARDINAL), (500, CARDINAL), (one, CARDIN...</td>\n",
       "      <td>[(co-codamol 30, QUANTITY), (500, MEALTIME), (...</td>\n",
       "    </tr>\n",
       "    <tr>\n",
       "      <th>...</th>\n",
       "      <td>...</td>\n",
       "      <td>...</td>\n",
       "      <td>...</td>\n",
       "      <td>...</td>\n",
       "      <td>...</td>\n",
       "    </tr>\n",
       "    <tr>\n",
       "      <th>2181</th>\n",
       "      <td>1 nocte## please do u&amp;e twice a year in jan an...</td>\n",
       "      <td>1 nocte please do u e twice a year in jan and ...</td>\n",
       "      <td>[(1, CARDINAL), (u e twice a year, ORG), (jan ...</td>\n",
       "      <td>[(1, CARDINAL)]</td>\n",
       "      <td>[(1, QUANTITY), (twice a, FREQUENCY)]</td>\n",
       "    </tr>\n",
       "    <tr>\n",
       "      <th>2182</th>\n",
       "      <td>half tab nocte</td>\n",
       "      <td>half tab nocte</td>\n",
       "      <td>[(half, CARDINAL)]</td>\n",
       "      <td>[]</td>\n",
       "      <td>[(half, QUANTITY)]</td>\n",
       "    </tr>\n",
       "    <tr>\n",
       "      <th>2183</th>\n",
       "      <td>take two at night (total dose 700mg nocte)</td>\n",
       "      <td>take two at night total dose 700mg nocte</td>\n",
       "      <td>[(two, CARDINAL), (700, CARDINAL), (nocte, ORG)]</td>\n",
       "      <td>[(two, CARDINAL)]</td>\n",
       "      <td>[(two, QUANTITY)]</td>\n",
       "    </tr>\n",
       "    <tr>\n",
       "      <th>2184</th>\n",
       "      <td>take one in the morning and one in the evening...</td>\n",
       "      <td>take one in the morning and one in the evening...</td>\n",
       "      <td>[(one, CARDINAL), (50, CARDINAL), (nocte, ORG)]</td>\n",
       "      <td>[]</td>\n",
       "      <td>[(one, QUANTITY)]</td>\n",
       "    </tr>\n",
       "    <tr>\n",
       "      <th>2185</th>\n",
       "      <td>take one tablet nocte as directed by hospital</td>\n",
       "      <td>take one tablet nocte as directed by hospital</td>\n",
       "      <td>[(one, CARDINAL)]</td>\n",
       "      <td>[]</td>\n",
       "      <td>[]</td>\n",
       "    </tr>\n",
       "  </tbody>\n",
       "</table>\n",
       "<p>2186 rows × 5 columns</p>\n",
       "</div>"
      ],
      "text/plain": [
       "                                      prescriber_dosage  \\\n",
       "0                                       #take one daily   \n",
       "1     (!THIS IS CO-CODAMOL!!)TAKE 1 OR 2 UP TO 4 TIM...   \n",
       "2                     (2mg) four BD PRN max 4mg/24hours   \n",
       "3     (Buprenorphine) Apply one patch and replace ev...   \n",
       "4     (Co-codamol 30/500) ONE or TWO caplets to be t...   \n",
       "...                                                 ...   \n",
       "2181  1 nocte## please do u&e twice a year in jan an...   \n",
       "2182                                     half tab nocte   \n",
       "2183         take two at night (total dose 700mg nocte)   \n",
       "2184  take one in the morning and one in the evening...   \n",
       "2185      take one tablet nocte as directed by hospital   \n",
       "\n",
       "                                                 string  \\\n",
       "0                                        take one daily   \n",
       "1     this is co-codamol take 1 or 2 up to 4 times a...   \n",
       "2                       2mg four bd prn max 4mg 24hours   \n",
       "3     buprenorphine apply one patch and replace ever...   \n",
       "4     co-codamol 30 500 one or two caplets to be tak...   \n",
       "...                                                 ...   \n",
       "2181  1 nocte please do u e twice a year in jan and ...   \n",
       "2182                                     half tab nocte   \n",
       "2183           take two at night total dose 700mg nocte   \n",
       "2184  take one in the morning and one in the evening...   \n",
       "2185      take one tablet nocte as directed by hospital   \n",
       "\n",
       "                                         spacy_entities  \\\n",
       "0                      [(one, CARDINAL), (daily, DATE)]   \n",
       "1     [(1, CARDINAL), (8, CARDINAL), (24hrs, CARDINAL)]   \n",
       "2                                       [(2, CARDINAL)]   \n",
       "3               [(one, CARDINAL), (every 7 days, DATE)]   \n",
       "4     [(one, CARDINAL), (two, CARDINAL), (4-6 hours,...   \n",
       "...                                                 ...   \n",
       "2181  [(1, CARDINAL), (u e twice a year, ORG), (jan ...   \n",
       "2182                                 [(half, CARDINAL)]   \n",
       "2183   [(two, CARDINAL), (700, CARDINAL), (nocte, ORG)]   \n",
       "2184    [(one, CARDINAL), (50, CARDINAL), (nocte, ORG)]   \n",
       "2185                                  [(one, CARDINAL)]   \n",
       "\n",
       "                                         flair_entities  \\\n",
       "0                                     [(one, CARDINAL)]   \n",
       "1     [(1, CARDINAL), (2, CARDINAL), (4, CARDINAL), ...   \n",
       "2                                    [(four, CARDINAL)]   \n",
       "3                     [(one, CARDINAL), (7 days, DATE)]   \n",
       "4     [(30, CARDINAL), (500, CARDINAL), (one, CARDIN...   \n",
       "...                                                 ...   \n",
       "2181                                    [(1, CARDINAL)]   \n",
       "2182                                                 []   \n",
       "2183                                  [(two, CARDINAL)]   \n",
       "2184                                                 []   \n",
       "2185                                                 []   \n",
       "\n",
       "                                        custom_entities  \n",
       "0                              [(one daily, FREQUENCY)]  \n",
       "1     [(this, QUANTITY), (1, QUANTITY), (2, QUANTITY...  \n",
       "2                                    [(four, QUANTITY)]  \n",
       "3                                 [(7 days, FREQUENCY)]  \n",
       "4     [(co-codamol 30, QUANTITY), (500, MEALTIME), (...  \n",
       "...                                                 ...  \n",
       "2181              [(1, QUANTITY), (twice a, FREQUENCY)]  \n",
       "2182                                 [(half, QUANTITY)]  \n",
       "2183                                  [(two, QUANTITY)]  \n",
       "2184                                  [(one, QUANTITY)]  \n",
       "2185                                                 []  \n",
       "\n",
       "[2186 rows x 5 columns]"
      ]
     },
     "execution_count": 15,
     "metadata": {},
     "output_type": "execute_result"
    }
   ],
   "source": [
    "model = SequenceTagger.load('models/resources/taggers/ner/best-model.pt')\n",
    "ents_df = []\n",
    "for i in range(len(pre_processed_dosage_df)):\n",
    "    string = Sentence(pre_processed_dosage_df[\"string\"].iloc[i])\n",
    "    # load the NER tagger\n",
    "\n",
    "    # run NER over sentence\n",
    "    model.predict(string)\n",
    "    ents = [(entity.text, entity.get_label(\"ner\").value) for entity in string.get_spans('ner')] #getting NER spans\n",
    "    ents_df.append(ents)\n",
    "\n",
    "ner_df.loc[:,\"custom_entities\"] = ents_df\n",
    "ner_df"
   ]
  },
  {
   "cell_type": "markdown",
   "metadata": {},
   "source": [
    "Now that all the data is annotated (not necessarily correctly), that makes it much easier for me to go through and build a larger training set with the ones that are correct."
   ]
  },
  {
   "cell_type": "code",
   "execution_count": 16,
   "metadata": {},
   "outputs": [
    {
     "data": {
      "text/html": [
       "<div>\n",
       "<style scoped>\n",
       "    .dataframe tbody tr th:only-of-type {\n",
       "        vertical-align: middle;\n",
       "    }\n",
       "\n",
       "    .dataframe tbody tr th {\n",
       "        vertical-align: top;\n",
       "    }\n",
       "\n",
       "    .dataframe thead th {\n",
       "        text-align: right;\n",
       "    }\n",
       "</style>\n",
       "<table border=\"1\" class=\"dataframe\">\n",
       "  <thead>\n",
       "    <tr style=\"text-align: right;\">\n",
       "      <th></th>\n",
       "      <th>text</th>\n",
       "      <th>label</th>\n",
       "    </tr>\n",
       "  </thead>\n",
       "  <tbody>\n",
       "    <tr>\n",
       "      <th>0</th>\n",
       "      <td>take one daily</td>\n",
       "      <td>[[5, 14, FREQUENCY]]</td>\n",
       "    </tr>\n",
       "    <tr>\n",
       "      <th>1</th>\n",
       "      <td>this is co-codamol take 1 or 2 up to 4 times a...</td>\n",
       "      <td>[[0, 4, QUANTITY], [24, 25, QUANTITY], [29, 30...</td>\n",
       "    </tr>\n",
       "    <tr>\n",
       "      <th>2</th>\n",
       "      <td>2mg four bd prn max 4mg 24hours</td>\n",
       "      <td>[[4, 8, QUANTITY]]</td>\n",
       "    </tr>\n",
       "    <tr>\n",
       "      <th>3</th>\n",
       "      <td>buprenorphine apply one patch and replace ever...</td>\n",
       "      <td>[[48, 54, FREQUENCY]]</td>\n",
       "    </tr>\n",
       "    <tr>\n",
       "      <th>4</th>\n",
       "      <td>co-codamol 30 500 one or two caplets to be tak...</td>\n",
       "      <td>[[0, 13, QUANTITY], [14, 17, MEALTIME], [55, 6...</td>\n",
       "    </tr>\n",
       "    <tr>\n",
       "      <th>...</th>\n",
       "      <td>...</td>\n",
       "      <td>...</td>\n",
       "    </tr>\n",
       "    <tr>\n",
       "      <th>2181</th>\n",
       "      <td>1 nocte please do u e twice a year in jan and ...</td>\n",
       "      <td>[[0, 1, QUANTITY], [22, 29, FREQUENCY]]</td>\n",
       "    </tr>\n",
       "    <tr>\n",
       "      <th>2182</th>\n",
       "      <td>half tab nocte</td>\n",
       "      <td>[[0, 4, QUANTITY]]</td>\n",
       "    </tr>\n",
       "    <tr>\n",
       "      <th>2183</th>\n",
       "      <td>take two at night total dose 700mg nocte</td>\n",
       "      <td>[[5, 8, QUANTITY]]</td>\n",
       "    </tr>\n",
       "    <tr>\n",
       "      <th>2184</th>\n",
       "      <td>take one in the morning and one in the evening...</td>\n",
       "      <td>[[5, 8, QUANTITY]]</td>\n",
       "    </tr>\n",
       "    <tr>\n",
       "      <th>2185</th>\n",
       "      <td>take one tablet nocte as directed by hospital</td>\n",
       "      <td>[]</td>\n",
       "    </tr>\n",
       "  </tbody>\n",
       "</table>\n",
       "<p>2186 rows × 2 columns</p>\n",
       "</div>"
      ],
      "text/plain": [
       "                                                   text  \\\n",
       "0                                        take one daily   \n",
       "1     this is co-codamol take 1 or 2 up to 4 times a...   \n",
       "2                       2mg four bd prn max 4mg 24hours   \n",
       "3     buprenorphine apply one patch and replace ever...   \n",
       "4     co-codamol 30 500 one or two caplets to be tak...   \n",
       "...                                                 ...   \n",
       "2181  1 nocte please do u e twice a year in jan and ...   \n",
       "2182                                     half tab nocte   \n",
       "2183           take two at night total dose 700mg nocte   \n",
       "2184  take one in the morning and one in the evening...   \n",
       "2185      take one tablet nocte as directed by hospital   \n",
       "\n",
       "                                                  label  \n",
       "0                                  [[5, 14, FREQUENCY]]  \n",
       "1     [[0, 4, QUANTITY], [24, 25, QUANTITY], [29, 30...  \n",
       "2                                    [[4, 8, QUANTITY]]  \n",
       "3                                 [[48, 54, FREQUENCY]]  \n",
       "4     [[0, 13, QUANTITY], [14, 17, MEALTIME], [55, 6...  \n",
       "...                                                 ...  \n",
       "2181            [[0, 1, QUANTITY], [22, 29, FREQUENCY]]  \n",
       "2182                                 [[0, 4, QUANTITY]]  \n",
       "2183                                 [[5, 8, QUANTITY]]  \n",
       "2184                                 [[5, 8, QUANTITY]]  \n",
       "2185                                                 []  \n",
       "\n",
       "[2186 rows x 2 columns]"
      ]
     },
     "execution_count": 16,
     "metadata": {},
     "output_type": "execute_result"
    }
   ],
   "source": [
    "# converting to format for doccanno interpretation\n",
    "def matcher(string, pattern):\n",
    "    '''\n",
    "    Return the start and end index of any pattern present in the text.\n",
    "    '''\n",
    "    match_list = []\n",
    "    pattern = pattern.strip()\n",
    "    seqMatch = SequenceMatcher(None, string, pattern, autojunk=False)\n",
    "    match = seqMatch.find_longest_match(0, len(string), 0, len(pattern))\n",
    "    if (match.size == len(pattern)):\n",
    "        start = match.a\n",
    "        end = match.a + match.size\n",
    "        match_tup = (start, end)\n",
    "        string = string.replace(pattern, \"X\" * len(pattern), 1)\n",
    "        match_list.append(match_tup)\n",
    "    return match_list, string\n",
    "\n",
    "strings=[]\n",
    "labels=[]\n",
    "for string, annotation in zip(ner_df.string, ner_df.custom_entities):\n",
    "    # text = clean(text)\n",
    "    text_ = string        \n",
    "    match_list = []\n",
    "    for i in annotation:\n",
    "        a, text_ = matcher(string, i[0])\n",
    "        match_list.append([a[0][0], a[0][1], i[1]])\n",
    "    \n",
    "    strings.append(string)\n",
    "    labels.append(match_list)\n",
    "\n",
    "dataset = pd.DataFrame({'text': strings, 'label': labels})\n",
    "dataset.to_json('data/labelled_set_full_v1.json', 'records')\n",
    "dataset"
   ]
  },
  {
   "cell_type": "markdown",
   "metadata": {},
   "source": [
    "It is clear from the full labelled training set that there are few things I can do to improve the results:\n",
    "- Remove brackets\n",
    "- replace all the medical abbreviations with their true meaning <br>\n",
    "I will focus on the medical abbreviations in the next step"
   ]
  },
  {
   "cell_type": "code",
   "execution_count": 17,
   "metadata": {},
   "outputs": [],
   "source": [
    "f = open('data/abbreviations.txt', \"r\")\n",
    "abb_dict = {}\n",
    "multiple_abbreviations = []\n",
    "for line in f:\n",
    "    strings = line.split(':')\n",
    "    long_form = ' '.join(strings[1].split())\n",
    "    if len(long_form.split('/'))>1:\n",
    "        print(long_form.split('/'))\n",
    "    abbreviation_list=strings[0].split(',')\n",
    "    if len(abbreviation_list) > 1:\n",
    "        multiple_abbreviations.append(abbreviation_list)\n",
    "    abb = abbreviation_list[0] if len(abbreviation_list) == 1 else abbreviation_list[1]\n",
    "    abbreviation, text = ' '.join(abb.split()), long_form\n",
    "    abb_dict[abbreviation] = text"
   ]
  },
  {
   "cell_type": "code",
   "execution_count": 18,
   "metadata": {},
   "outputs": [],
   "source": [
    "multiple_abb_mapping = [(','.join(abb),abb[1]) for abb in multiple_abbreviations]\n",
    "\n",
    "abb_mappings_dict = {}\n",
    "for mapping in multiple_abb_mapping:\n",
    "    temp = list(map(lambda x : x.split(),mapping[0].split(',')))\n",
    "    key = [item for sublist in temp for item in sublist]\n",
    "    abb_mappings_dict[tuple(key)] = ''.join(mapping[1].split())"
   ]
  },
  {
   "cell_type": "code",
   "execution_count": 19,
   "metadata": {},
   "outputs": [
    {
     "data": {
      "text/html": [
       "<div>\n",
       "<style scoped>\n",
       "    .dataframe tbody tr th:only-of-type {\n",
       "        vertical-align: middle;\n",
       "    }\n",
       "\n",
       "    .dataframe tbody tr th {\n",
       "        vertical-align: top;\n",
       "    }\n",
       "\n",
       "    .dataframe thead th {\n",
       "        text-align: right;\n",
       "    }\n",
       "</style>\n",
       "<table border=\"1\" class=\"dataframe\">\n",
       "  <thead>\n",
       "    <tr style=\"text-align: right;\">\n",
       "      <th></th>\n",
       "      <th>prescriber_dosage</th>\n",
       "      <th>text</th>\n",
       "      <th>labels_worded</th>\n",
       "      <th>label</th>\n",
       "    </tr>\n",
       "  </thead>\n",
       "  <tbody>\n",
       "    <tr>\n",
       "      <th>0</th>\n",
       "      <td>#take one daily</td>\n",
       "      <td>take one daily</td>\n",
       "      <td>[(one daily, FREQUENCY)]</td>\n",
       "      <td>[[5, 14, FREQUENCY]]</td>\n",
       "    </tr>\n",
       "    <tr>\n",
       "      <th>1</th>\n",
       "      <td>(!THIS IS CO-CODAMOL!!)TAKE 1 OR 2 UP TO 4 TIM...</td>\n",
       "      <td>this is co-codamol take 1 or 2 up to 4 times a...</td>\n",
       "      <td>[(this, QUANTITY), (1, QUANTITY), (2, QUANTITY...</td>\n",
       "      <td>[[0, 4, QUANTITY], [24, 25, QUANTITY], [29, 30...</td>\n",
       "    </tr>\n",
       "    <tr>\n",
       "      <th>2</th>\n",
       "      <td>(2mg) four BD PRN max 4mg/24hours</td>\n",
       "      <td>2mg four twice daily as needed (also pertactin...</td>\n",
       "      <td>[(four, QUANTITY), (twice daily, FREQUENCY)]</td>\n",
       "      <td>[[4, 8, QUANTITY], [9, 20, FREQUENCY]]</td>\n",
       "    </tr>\n",
       "    <tr>\n",
       "      <th>3</th>\n",
       "      <td>(Buprenorphine) Apply one patch and replace ev...</td>\n",
       "      <td>buprenorphine apply one patch and replace ever...</td>\n",
       "      <td>[(7 days, FREQUENCY)]</td>\n",
       "      <td>[[48, 54, FREQUENCY]]</td>\n",
       "    </tr>\n",
       "    <tr>\n",
       "      <th>4</th>\n",
       "      <td>(Co-codamol 30/500) ONE or TWO caplets to be t...</td>\n",
       "      <td>co-codamol 30 500 one or two caplets to be tak...</td>\n",
       "      <td>[(co-codamol 30, QUANTITY), (500, MEALTIME), (...</td>\n",
       "      <td>[[0, 13, QUANTITY], [14, 17, MEALTIME], [55, 6...</td>\n",
       "    </tr>\n",
       "    <tr>\n",
       "      <th>...</th>\n",
       "      <td>...</td>\n",
       "      <td>...</td>\n",
       "      <td>...</td>\n",
       "      <td>...</td>\n",
       "    </tr>\n",
       "    <tr>\n",
       "      <th>196</th>\n",
       "      <td>1 sachet twice daily</td>\n",
       "      <td>1 sachet twice daily</td>\n",
       "      <td>[(1, QUANTITY), (twice daily, FREQUENCY)]</td>\n",
       "      <td>[[0, 1, QUANTITY], [9, 20, FREQUENCY]]</td>\n",
       "    </tr>\n",
       "    <tr>\n",
       "      <th>197</th>\n",
       "      <td>1 SPRAY INTO EACH NOSTRIL TWICE DAILY</td>\n",
       "      <td>1 spray into each nostril twice daily</td>\n",
       "      <td>[(1, QUANTITY), (each, FREQUENCY), (twice dail...</td>\n",
       "      <td>[[0, 1, QUANTITY], [13, 17, FREQUENCY], [26, 3...</td>\n",
       "    </tr>\n",
       "    <tr>\n",
       "      <th>198</th>\n",
       "      <td>1 spray tds</td>\n",
       "      <td>1 spray 3 times a day</td>\n",
       "      <td>[(1, QUANTITY), (3 times a day, FREQUENCY)]</td>\n",
       "      <td>[[0, 1, QUANTITY], [8, 21, FREQUENCY]]</td>\n",
       "    </tr>\n",
       "    <tr>\n",
       "      <th>199</th>\n",
       "      <td>1 SPRAY THREE TIMES DAILY</td>\n",
       "      <td>1 spray three times daily</td>\n",
       "      <td>[(1, QUANTITY), (three times daily, FREQUENCY)]</td>\n",
       "      <td>[[0, 1, QUANTITY], [8, 25, FREQUENCY]]</td>\n",
       "    </tr>\n",
       "    <tr>\n",
       "      <th>200</th>\n",
       "      <td>1 T ONCE DAILY</td>\n",
       "      <td>1 t once daily</td>\n",
       "      <td>[(1, QUANTITY), (daily, FREQUENCY)]</td>\n",
       "      <td>[[0, 1, QUANTITY], [9, 14, FREQUENCY]]</td>\n",
       "    </tr>\n",
       "  </tbody>\n",
       "</table>\n",
       "<p>201 rows × 4 columns</p>\n",
       "</div>"
      ],
      "text/plain": [
       "                                     prescriber_dosage  \\\n",
       "0                                      #take one daily   \n",
       "1    (!THIS IS CO-CODAMOL!!)TAKE 1 OR 2 UP TO 4 TIM...   \n",
       "2                    (2mg) four BD PRN max 4mg/24hours   \n",
       "3    (Buprenorphine) Apply one patch and replace ev...   \n",
       "4    (Co-codamol 30/500) ONE or TWO caplets to be t...   \n",
       "..                                                 ...   \n",
       "196                               1 sachet twice daily   \n",
       "197              1 SPRAY INTO EACH NOSTRIL TWICE DAILY   \n",
       "198                                        1 spray tds   \n",
       "199                          1 SPRAY THREE TIMES DAILY   \n",
       "200                                     1 T ONCE DAILY   \n",
       "\n",
       "                                                  text  \\\n",
       "0                                       take one daily   \n",
       "1    this is co-codamol take 1 or 2 up to 4 times a...   \n",
       "2    2mg four twice daily as needed (also pertactin...   \n",
       "3    buprenorphine apply one patch and replace ever...   \n",
       "4    co-codamol 30 500 one or two caplets to be tak...   \n",
       "..                                                 ...   \n",
       "196                               1 sachet twice daily   \n",
       "197              1 spray into each nostril twice daily   \n",
       "198                              1 spray 3 times a day   \n",
       "199                          1 spray three times daily   \n",
       "200                                     1 t once daily   \n",
       "\n",
       "                                         labels_worded  \\\n",
       "0                             [(one daily, FREQUENCY)]   \n",
       "1    [(this, QUANTITY), (1, QUANTITY), (2, QUANTITY...   \n",
       "2         [(four, QUANTITY), (twice daily, FREQUENCY)]   \n",
       "3                                [(7 days, FREQUENCY)]   \n",
       "4    [(co-codamol 30, QUANTITY), (500, MEALTIME), (...   \n",
       "..                                                 ...   \n",
       "196          [(1, QUANTITY), (twice daily, FREQUENCY)]   \n",
       "197  [(1, QUANTITY), (each, FREQUENCY), (twice dail...   \n",
       "198        [(1, QUANTITY), (3 times a day, FREQUENCY)]   \n",
       "199    [(1, QUANTITY), (three times daily, FREQUENCY)]   \n",
       "200                [(1, QUANTITY), (daily, FREQUENCY)]   \n",
       "\n",
       "                                                 label  \n",
       "0                                 [[5, 14, FREQUENCY]]  \n",
       "1    [[0, 4, QUANTITY], [24, 25, QUANTITY], [29, 30...  \n",
       "2               [[4, 8, QUANTITY], [9, 20, FREQUENCY]]  \n",
       "3                                [[48, 54, FREQUENCY]]  \n",
       "4    [[0, 13, QUANTITY], [14, 17, MEALTIME], [55, 6...  \n",
       "..                                                 ...  \n",
       "196             [[0, 1, QUANTITY], [9, 20, FREQUENCY]]  \n",
       "197  [[0, 1, QUANTITY], [13, 17, FREQUENCY], [26, 3...  \n",
       "198             [[0, 1, QUANTITY], [8, 21, FREQUENCY]]  \n",
       "199             [[0, 1, QUANTITY], [8, 25, FREQUENCY]]  \n",
       "200             [[0, 1, QUANTITY], [9, 14, FREQUENCY]]  \n",
       "\n",
       "[201 rows x 4 columns]"
      ]
     },
     "execution_count": 19,
     "metadata": {},
     "output_type": "execute_result"
    }
   ],
   "source": [
    "# defining a function to tokenise find and replace abbreviations in text:\n",
    "def process(text):\n",
    "    tokens = list(map(lambda x: x.casefold(), tokenizer.tokenize(text)))\n",
    "    keys1 = abb_mappings_dict.keys() # multiple abbreviations\n",
    "    for i in range(len(tokens)):\n",
    "        token = tokens[i]\n",
    "        mult_abb = next((x for x in keys1 if token in x), None)\n",
    "        if mult_abb != None:\n",
    "            token = abb_mappings_dict[mult_abb]\n",
    "        \n",
    "        if token in abb_dict.keys():\n",
    "            tokens[i] = abb_dict[token]\n",
    "    \n",
    "    return ' '.join(tokens)\n",
    "\n",
    "def label(text, model):\n",
    "    # run NER over sentence\n",
    "    text=Sentence(process(text))\n",
    "    model.predict(text)\n",
    "    ents = [(entity.text, entity.get_label(\"ner\").value) for entity in text.get_spans('ner')] #getting NER spans\n",
    "    return ents\n",
    "\n",
    "def df_matcher(df: pd.DataFrame):\n",
    "    labels = []\n",
    "    for string, annotation in zip(df.string, df.annotation):\n",
    "        # text = clean(text)\n",
    "        text_ = string        \n",
    "        match_list = []\n",
    "        for i in annotation:\n",
    "            a, text_ = matcher(string, i[0])\n",
    "            match_list.append([a[0][0], a[0][1], i[1]])\n",
    "        labels.append(match_list)\n",
    "    df.loc[:,'label'] =labels\n",
    "    return df\n",
    "new_training_set = pre_processed_dosage_df.loc[:,['prescriber_dosage']]\n",
    "new_training_set.loc[:,'string'] = pre_processed_dosage_df['prescriber_dosage'].apply(process)\n",
    "new_training_set.loc[:,'annotation'] = pre_processed_dosage_df['prescriber_dosage'].apply(label, args=[model])\n",
    "new_training_set = new_training_set.iloc[:201]\n",
    "new_training_set = df_matcher(new_training_set)\n",
    "new_training_set.columns = ['prescriber_dosage', 'text', 'labels_worded', 'label']\n",
    "new_training_set.to_json('data/labelled_training_data_v2.json', 'records')\n",
    "new_training_set"
   ]
  },
  {
   "cell_type": "markdown",
   "metadata": {},
   "source": [
    "To do:\n",
    "- lable sample training data on processed strings\n",
    "- train new model"
   ]
  },
  {
   "cell_type": "code",
   "execution_count": 20,
   "metadata": {},
   "outputs": [
    {
     "data": {
      "text/html": [
       "<div>\n",
       "<style scoped>\n",
       "    .dataframe tbody tr th:only-of-type {\n",
       "        vertical-align: middle;\n",
       "    }\n",
       "\n",
       "    .dataframe tbody tr th {\n",
       "        vertical-align: top;\n",
       "    }\n",
       "\n",
       "    .dataframe thead th {\n",
       "        text-align: right;\n",
       "    }\n",
       "</style>\n",
       "<table border=\"1\" class=\"dataframe\">\n",
       "  <thead>\n",
       "    <tr style=\"text-align: right;\">\n",
       "      <th></th>\n",
       "      <th>text</th>\n",
       "      <th>annotation</th>\n",
       "    </tr>\n",
       "  </thead>\n",
       "  <tbody>\n",
       "    <tr>\n",
       "      <th>0</th>\n",
       "      <td>take one daily</td>\n",
       "      <td>[[5, 8, QUANTITY], [9, 14, FREQUENCY]]</td>\n",
       "    </tr>\n",
       "    <tr>\n",
       "      <th>1</th>\n",
       "      <td>this is co-codamol take 1 or 2 up to 4 times a...</td>\n",
       "      <td>[[37, 50, FREQUENCY], [69, 70, QUANTITY], [24,...</td>\n",
       "    </tr>\n",
       "    <tr>\n",
       "      <th>2</th>\n",
       "      <td>2mg four twice daily as needed (also pertactin...</td>\n",
       "      <td>[[9, 21, FREQUENCY], [4, 8, QUANTITY]]</td>\n",
       "    </tr>\n",
       "    <tr>\n",
       "      <th>3</th>\n",
       "      <td>buprenorphine apply one patch and replace ever...</td>\n",
       "      <td>[[20, 23, QUANTITY], [42, 54, FREQUENCY]]</td>\n",
       "    </tr>\n",
       "    <tr>\n",
       "      <th>4</th>\n",
       "      <td>co-codamol 30 500 one or two caplets to be tak...</td>\n",
       "      <td>[[0, 10, QUANTITY], [11, 13, QUANTITY], [49, 6...</td>\n",
       "    </tr>\n",
       "    <tr>\n",
       "      <th>...</th>\n",
       "      <td>...</td>\n",
       "      <td>...</td>\n",
       "    </tr>\n",
       "    <tr>\n",
       "      <th>196</th>\n",
       "      <td>1 sachet twice daily</td>\n",
       "      <td>[[0, 1, QUANTITY], [9, 20, FREQUENCY]]</td>\n",
       "    </tr>\n",
       "    <tr>\n",
       "      <th>197</th>\n",
       "      <td>1 spray into each nostril twice daily</td>\n",
       "      <td>[[0, 1, QUANTITY], [26, 37, FREQUENCY]]</td>\n",
       "    </tr>\n",
       "    <tr>\n",
       "      <th>198</th>\n",
       "      <td>1 spray 3 times a day</td>\n",
       "      <td>[[0, 1, QUANTITY], [8, 21, FREQUENCY]]</td>\n",
       "    </tr>\n",
       "    <tr>\n",
       "      <th>199</th>\n",
       "      <td>1 spray three times daily</td>\n",
       "      <td>[[0, 1, QUANTITY], [8, 25, FREQUENCY]]</td>\n",
       "    </tr>\n",
       "    <tr>\n",
       "      <th>200</th>\n",
       "      <td>1 t once daily</td>\n",
       "      <td>[[0, 1, QUANTITY], [4, 14, FREQUENCY]]</td>\n",
       "    </tr>\n",
       "  </tbody>\n",
       "</table>\n",
       "<p>201 rows × 2 columns</p>\n",
       "</div>"
      ],
      "text/plain": [
       "                                                  text  \\\n",
       "0                                       take one daily   \n",
       "1    this is co-codamol take 1 or 2 up to 4 times a...   \n",
       "2    2mg four twice daily as needed (also pertactin...   \n",
       "3    buprenorphine apply one patch and replace ever...   \n",
       "4    co-codamol 30 500 one or two caplets to be tak...   \n",
       "..                                                 ...   \n",
       "196                               1 sachet twice daily   \n",
       "197              1 spray into each nostril twice daily   \n",
       "198                              1 spray 3 times a day   \n",
       "199                          1 spray three times daily   \n",
       "200                                     1 t once daily   \n",
       "\n",
       "                                            annotation  \n",
       "0               [[5, 8, QUANTITY], [9, 14, FREQUENCY]]  \n",
       "1    [[37, 50, FREQUENCY], [69, 70, QUANTITY], [24,...  \n",
       "2               [[9, 21, FREQUENCY], [4, 8, QUANTITY]]  \n",
       "3            [[20, 23, QUANTITY], [42, 54, FREQUENCY]]  \n",
       "4    [[0, 10, QUANTITY], [11, 13, QUANTITY], [49, 6...  \n",
       "..                                                 ...  \n",
       "196             [[0, 1, QUANTITY], [9, 20, FREQUENCY]]  \n",
       "197            [[0, 1, QUANTITY], [26, 37, FREQUENCY]]  \n",
       "198             [[0, 1, QUANTITY], [8, 21, FREQUENCY]]  \n",
       "199             [[0, 1, QUANTITY], [8, 25, FREQUENCY]]  \n",
       "200             [[0, 1, QUANTITY], [4, 14, FREQUENCY]]  \n",
       "\n",
       "[201 rows x 2 columns]"
      ]
     },
     "execution_count": 20,
     "metadata": {},
     "output_type": "execute_result"
    }
   ],
   "source": [
    "data_v2 = pd.read_json(open(\"data/training_data_annotated_v2.json\", \"r\", encoding=\"utf8\"), orient='records')\n",
    "data_v2.drop(['id','prescriber_dosage', 'labels_worded'], inplace=True, axis=1)\n",
    "data_v2.columns=['text','annotation']\n",
    "data_v2"
   ]
  },
  {
   "cell_type": "code",
   "execution_count": 21,
   "metadata": {},
   "outputs": [
    {
     "name": "stdout",
     "output_type": "stream",
     "text": [
      "2022-04-26 14:10:52,335 Reading data from custom_model_2\n",
      "2022-04-26 14:10:52,335 Train: custom_model_2/train.txt\n",
      "2022-04-26 14:10:52,336 Dev: custom_model_2/dev.txt\n",
      "2022-04-26 14:10:52,336 Test: custom_model_2/test.txt\n",
      "2022-04-26 14:10:52,353 Computing label dictionary. Progress:\n"
     ]
    },
    {
     "name": "stderr",
     "output_type": "stream",
     "text": [
      "151it [00:00, 49541.61it/s]"
     ]
    },
    {
     "name": "stdout",
     "output_type": "stream",
     "text": [
      "2022-04-26 14:10:52,358 Dictionary created for label 'ner' with 4 values: QUANTITY (seen 157 times), FREQUENCY (seen 138 times), MEALTIME (seen 9 times)\n"
     ]
    },
    {
     "name": "stderr",
     "output_type": "stream",
     "text": [
      "\n"
     ]
    },
    {
     "name": "stdout",
     "output_type": "stream",
     "text": [
      "2022-04-26 14:10:54,995 SequenceTagger predicts: Dictionary with 13 tags: O, S-QUANTITY, B-QUANTITY, E-QUANTITY, I-QUANTITY, S-FREQUENCY, B-FREQUENCY, E-FREQUENCY, I-FREQUENCY, S-MEALTIME, B-MEALTIME, E-MEALTIME, I-MEALTIME\n"
     ]
    }
   ],
   "source": [
    "columns = {0: 'text', 1: 'ner'}\n",
    "\n",
    "train_v2 = data_v2.sample(frac = 0.75, random_state=1)\n",
    "rest = data_v2.drop(train_v2.index)\n",
    "test_v2 = rest.sample(frac=0.5, random_state=1)\n",
    "dev_v2 = rest.drop(test_v2.index)\n",
    "# create_data(dev_v2, 'custom_model_2/dev.txt')\n",
    "# create_data(test_v2, 'custom_model_2/test.txt')\n",
    "# create_data(train_v2, 'custom_model_2/train.txt')\n",
    "\n",
    "data_folder = 'custom_model_2'\n",
    "\n",
    "corpus : Corpus = ColumnCorpus(data_folder, columns,\n",
    "                                train_file='train.txt',\n",
    "                                test_file='test.txt',\n",
    "                                dev_file='dev.txt')\n",
    "\n",
    "# tag to predict\n",
    "tag_type = 'ner'\n",
    "# make tag dictionary from the corpus\n",
    "tag_dictionary = corpus.make_label_dictionary(label_type=tag_type)\n",
    "\n",
    "embedding_types : List[TokenEmbeddings] = [\n",
    "        WordEmbeddings('glove'),\n",
    "        ## other embeddings\n",
    "        ]\n",
    "embeddings : StackedEmbeddings = StackedEmbeddings(\n",
    "                                 embeddings=embedding_types)\n",
    "\n",
    "tagger : SequenceTagger = SequenceTagger(hidden_size=256,\n",
    "                                       embeddings=embeddings,\n",
    "                                       tag_dictionary=tag_dictionary,\n",
    "                                       tag_type=tag_type,\n",
    "                                       use_crf=True)"
   ]
  },
  {
   "cell_type": "code",
   "execution_count": 22,
   "metadata": {},
   "outputs": [],
   "source": [
    "trainer : ModelTrainer = ModelTrainer(tagger, corpus)\n",
    "# TRAINED\n",
    "# trainer.train('models/resources_v2/taggers/ner',\n",
    "#               learning_rate=0.1,\n",
    "#               mini_batch_size=32,\n",
    "#               max_epochs=150)"
   ]
  },
  {
   "cell_type": "code",
   "execution_count": 23,
   "metadata": {},
   "outputs": [
    {
     "name": "stdout",
     "output_type": "stream",
     "text": [
      "2022-04-26 14:10:55,044 loading file models/resources_v2/taggers/ner/best-model.pt\n",
      "2022-04-26 14:10:55,555 SequenceTagger predicts: Dictionary with 10 tags: <unk>, B-QUANTITY, B-FREQUENCY, O, I-FREQUENCY, I-QUANTITY, B-MEALTIME, I-MEALTIME, <START>, <STOP>\n"
     ]
    },
    {
     "data": {
      "text/html": [
       "<div>\n",
       "<style scoped>\n",
       "    .dataframe tbody tr th:only-of-type {\n",
       "        vertical-align: middle;\n",
       "    }\n",
       "\n",
       "    .dataframe tbody tr th {\n",
       "        vertical-align: top;\n",
       "    }\n",
       "\n",
       "    .dataframe thead th {\n",
       "        text-align: right;\n",
       "    }\n",
       "</style>\n",
       "<table border=\"1\" class=\"dataframe\">\n",
       "  <thead>\n",
       "    <tr style=\"text-align: right;\">\n",
       "      <th></th>\n",
       "      <th>prescriber_dosage</th>\n",
       "      <th>string</th>\n",
       "      <th>annotation-best</th>\n",
       "    </tr>\n",
       "  </thead>\n",
       "  <tbody>\n",
       "    <tr>\n",
       "      <th>0</th>\n",
       "      <td>#take one daily</td>\n",
       "      <td>take one daily</td>\n",
       "      <td>[(take, QUANTITY), (one daily, FREQUENCY)]</td>\n",
       "    </tr>\n",
       "    <tr>\n",
       "      <th>1</th>\n",
       "      <td>(!THIS IS CO-CODAMOL!!)TAKE 1 OR 2 UP TO 4 TIM...</td>\n",
       "      <td>this is co-codamol take 1 or 2 up to 4 times a...</td>\n",
       "      <td>[(this, QUANTITY), (1 or 2, QUANTITY), (4 time...</td>\n",
       "    </tr>\n",
       "    <tr>\n",
       "      <th>2</th>\n",
       "      <td>(2mg) four BD PRN max 4mg/24hours</td>\n",
       "      <td>2mg four twice daily as needed (also pertactin...</td>\n",
       "      <td>[(2mg, QUANTITY), (four twice daily, FREQUENCY)]</td>\n",
       "    </tr>\n",
       "    <tr>\n",
       "      <th>3</th>\n",
       "      <td>(Buprenorphine) Apply one patch and replace ev...</td>\n",
       "      <td>buprenorphine apply one patch and replace ever...</td>\n",
       "      <td>[(every 7 days, FREQUENCY)]</td>\n",
       "    </tr>\n",
       "    <tr>\n",
       "      <th>4</th>\n",
       "      <td>(Co-codamol 30/500) ONE or TWO caplets to be t...</td>\n",
       "      <td>co-codamol 30 500 one or two caplets to be tak...</td>\n",
       "      <td>[(co-codamol, QUANTITY), (every 4-6 hours, FRE...</td>\n",
       "    </tr>\n",
       "    <tr>\n",
       "      <th>...</th>\n",
       "      <td>...</td>\n",
       "      <td>...</td>\n",
       "      <td>...</td>\n",
       "    </tr>\n",
       "    <tr>\n",
       "      <th>2181</th>\n",
       "      <td>1 nocte## please do u&amp;e twice a year in jan an...</td>\n",
       "      <td>1 every night please do u e twice a year in ja...</td>\n",
       "      <td>[(1, QUANTITY), (every night, FREQUENCY), (twi...</td>\n",
       "    </tr>\n",
       "    <tr>\n",
       "      <th>2182</th>\n",
       "      <td>half tab nocte</td>\n",
       "      <td>half tab every night</td>\n",
       "      <td>[(half, QUANTITY), (every night, FREQUENCY)]</td>\n",
       "    </tr>\n",
       "    <tr>\n",
       "      <th>2183</th>\n",
       "      <td>take two at night (total dose 700mg nocte)</td>\n",
       "      <td>take two at night total dose 700mg every night</td>\n",
       "      <td>[(every night, FREQUENCY)]</td>\n",
       "    </tr>\n",
       "    <tr>\n",
       "      <th>2184</th>\n",
       "      <td>take one in the morning and one in the evening...</td>\n",
       "      <td>take one in the morning and one in the evening...</td>\n",
       "      <td>[(every morning, FREQUENCY), (every night, FRE...</td>\n",
       "    </tr>\n",
       "    <tr>\n",
       "      <th>2185</th>\n",
       "      <td>take one tablet nocte as directed by hospital</td>\n",
       "      <td>take one tablet every night as directed by hos...</td>\n",
       "      <td>[(every night, FREQUENCY)]</td>\n",
       "    </tr>\n",
       "  </tbody>\n",
       "</table>\n",
       "<p>2186 rows × 3 columns</p>\n",
       "</div>"
      ],
      "text/plain": [
       "                                      prescriber_dosage  \\\n",
       "0                                       #take one daily   \n",
       "1     (!THIS IS CO-CODAMOL!!)TAKE 1 OR 2 UP TO 4 TIM...   \n",
       "2                     (2mg) four BD PRN max 4mg/24hours   \n",
       "3     (Buprenorphine) Apply one patch and replace ev...   \n",
       "4     (Co-codamol 30/500) ONE or TWO caplets to be t...   \n",
       "...                                                 ...   \n",
       "2181  1 nocte## please do u&e twice a year in jan an...   \n",
       "2182                                     half tab nocte   \n",
       "2183         take two at night (total dose 700mg nocte)   \n",
       "2184  take one in the morning and one in the evening...   \n",
       "2185      take one tablet nocte as directed by hospital   \n",
       "\n",
       "                                                 string  \\\n",
       "0                                        take one daily   \n",
       "1     this is co-codamol take 1 or 2 up to 4 times a...   \n",
       "2     2mg four twice daily as needed (also pertactin...   \n",
       "3     buprenorphine apply one patch and replace ever...   \n",
       "4     co-codamol 30 500 one or two caplets to be tak...   \n",
       "...                                                 ...   \n",
       "2181  1 every night please do u e twice a year in ja...   \n",
       "2182                               half tab every night   \n",
       "2183     take two at night total dose 700mg every night   \n",
       "2184  take one in the morning and one in the evening...   \n",
       "2185  take one tablet every night as directed by hos...   \n",
       "\n",
       "                                        annotation-best  \n",
       "0            [(take, QUANTITY), (one daily, FREQUENCY)]  \n",
       "1     [(this, QUANTITY), (1 or 2, QUANTITY), (4 time...  \n",
       "2      [(2mg, QUANTITY), (four twice daily, FREQUENCY)]  \n",
       "3                           [(every 7 days, FREQUENCY)]  \n",
       "4     [(co-codamol, QUANTITY), (every 4-6 hours, FRE...  \n",
       "...                                                 ...  \n",
       "2181  [(1, QUANTITY), (every night, FREQUENCY), (twi...  \n",
       "2182       [(half, QUANTITY), (every night, FREQUENCY)]  \n",
       "2183                         [(every night, FREQUENCY)]  \n",
       "2184  [(every morning, FREQUENCY), (every night, FRE...  \n",
       "2185                         [(every night, FREQUENCY)]  \n",
       "\n",
       "[2186 rows x 3 columns]"
      ]
     },
     "execution_count": 23,
     "metadata": {},
     "output_type": "execute_result"
    }
   ],
   "source": [
    "ner_v2 = pre_processed_dosage_df.loc[:,['prescriber_dosage']]\n",
    "model = SequenceTagger.load('models/resources_v2/taggers/ner/best-model.pt')\n",
    "ner_v2.loc[:,'string'] = pre_processed_dosage_df['prescriber_dosage'].apply(process)\n",
    "ner_v2.loc[:,'annotation-best'] = ner_v2['string'].apply(label, args=[model])\n",
    "ner_v2"
   ]
  },
  {
   "cell_type": "markdown",
   "metadata": {},
   "source": [
    "Now I need to go through the labelled data and confirm what is correct so I can build up a larger training set. Then, there are a few things I can try to improve performance: \n",
    "- Try stacking Flair and BERT embeddings\n",
    "- Try SpaCy"
   ]
  },
  {
   "cell_type": "markdown",
   "metadata": {},
   "source": [
    "Important note, datapoints that are invalid:\n",
    "- 433\n",
    "- 434\n",
    "- 692\n",
    "- 693\n",
    "\n",
    "SOLVED"
   ]
  },
  {
   "cell_type": "markdown",
   "metadata": {},
   "source": [
    "I went through and correct the labels for the first 1050 datapoints. I will now use those as a training set."
   ]
  },
  {
   "cell_type": "markdown",
   "metadata": {},
   "source": [
    "There has been an issue with the labelled set because the list was saved as a string, now I need to write a function to convert it. With this specific case it is quite conmplciated and I will need to make changes to the format of the list first."
   ]
  },
  {
   "cell_type": "code",
   "execution_count": 24,
   "metadata": {},
   "outputs": [
    {
     "name": "stderr",
     "output_type": "stream",
     "text": [
      "/opt/anaconda3/envs/mercury/lib/python3.9/site-packages/pandas/core/internals/blocks.py:922: VisibleDeprecationWarning: Creating an ndarray from ragged nested sequences (which is a list-or-tuple of lists-or-tuples-or ndarrays with different lengths or shapes) is deprecated. If you meant to do this, you must specify 'dtype=object' when creating the ndarray.\n",
      "  arr_value = np.asarray(value)\n",
      "/var/folders/89/d0d2vvw54hn9r2smx5prxgrm0000gn/T/ipykernel_12530/2454617724.py:22: SettingWithCopyWarning: \n",
      "A value is trying to be set on a copy of a slice from a DataFrame\n",
      "\n",
      "See the caveats in the documentation: https://pandas.pydata.org/pandas-docs/stable/user_guide/indexing.html#returning-a-view-versus-a-copy\n",
      "  labelled.drop('prescriber_dosage', axis = 1, inplace = True)\n"
     ]
    },
    {
     "data": {
      "text/html": [
       "<div>\n",
       "<style scoped>\n",
       "    .dataframe tbody tr th:only-of-type {\n",
       "        vertical-align: middle;\n",
       "    }\n",
       "\n",
       "    .dataframe tbody tr th {\n",
       "        vertical-align: top;\n",
       "    }\n",
       "\n",
       "    .dataframe thead th {\n",
       "        text-align: right;\n",
       "    }\n",
       "</style>\n",
       "<table border=\"1\" class=\"dataframe\">\n",
       "  <thead>\n",
       "    <tr style=\"text-align: right;\">\n",
       "      <th></th>\n",
       "      <th>text</th>\n",
       "      <th>annotation</th>\n",
       "    </tr>\n",
       "  </thead>\n",
       "  <tbody>\n",
       "    <tr>\n",
       "      <th>0</th>\n",
       "      <td>take one daily</td>\n",
       "      <td>[(one, QUANTITY), (daily, FREQUENCY)]</td>\n",
       "    </tr>\n",
       "    <tr>\n",
       "      <th>1</th>\n",
       "      <td>this is co-codamol take 1 or 2 up to 4 times a...</td>\n",
       "      <td>[(1 or 2, QUANTITY), (4 times a day, FREQUENCY)]</td>\n",
       "    </tr>\n",
       "    <tr>\n",
       "      <th>2</th>\n",
       "      <td>2mg four twice daily as needed (also pertactin...</td>\n",
       "      <td>[(four, QUANTITY), (twice daily, FREQUENCY)]</td>\n",
       "    </tr>\n",
       "    <tr>\n",
       "      <th>3</th>\n",
       "      <td>buprenorphine apply one patch and replace ever...</td>\n",
       "      <td>[(‘one, ‘QUANTITY’), (every 7 days, FREQUENCY)]</td>\n",
       "    </tr>\n",
       "    <tr>\n",
       "      <th>4</th>\n",
       "      <td>co-codamol 30 500 one or two caplets to be tak...</td>\n",
       "      <td>[(one or two, QUANTITY), (every 4-6 hours, FRE...</td>\n",
       "    </tr>\n",
       "    <tr>\n",
       "      <th>...</th>\n",
       "      <td>...</td>\n",
       "      <td>...</td>\n",
       "    </tr>\n",
       "    <tr>\n",
       "      <th>1499</th>\n",
       "      <td>take one capsule four times a day for 7 days</td>\n",
       "      <td>[(‘one’, ‘QUANTITY’), (four times a day, FREQU...</td>\n",
       "    </tr>\n",
       "    <tr>\n",
       "      <th>1500</th>\n",
       "      <td>take one capsule once a day</td>\n",
       "      <td>[(‘one’, ‘QUANTITY’), (once a day, FREQUENCY)]</td>\n",
       "    </tr>\n",
       "    <tr>\n",
       "      <th>1501</th>\n",
       "      <td>take one capsule once a day to protect the sto...</td>\n",
       "      <td>[(‘one’, ‘QUANTITY’), (once a day, FREQUENCY)]</td>\n",
       "    </tr>\n",
       "    <tr>\n",
       "      <th>1502</th>\n",
       "      <td>take one capsule once a day</td>\n",
       "      <td>[(‘one’, ‘QUANTITY’), (once a day, FREQUENCY)]</td>\n",
       "    </tr>\n",
       "    <tr>\n",
       "      <th>1503</th>\n",
       "      <td>take one capsule once daily</td>\n",
       "      <td>[(‘one’, ‘QUANTITY’), (once daily, FREQUENCY)]</td>\n",
       "    </tr>\n",
       "  </tbody>\n",
       "</table>\n",
       "<p>1504 rows × 2 columns</p>\n",
       "</div>"
      ],
      "text/plain": [
       "                                                   text  \\\n",
       "0                                        take one daily   \n",
       "1     this is co-codamol take 1 or 2 up to 4 times a...   \n",
       "2     2mg four twice daily as needed (also pertactin...   \n",
       "3     buprenorphine apply one patch and replace ever...   \n",
       "4     co-codamol 30 500 one or two caplets to be tak...   \n",
       "...                                                 ...   \n",
       "1499       take one capsule four times a day for 7 days   \n",
       "1500                        take one capsule once a day   \n",
       "1501  take one capsule once a day to protect the sto...   \n",
       "1502                        take one capsule once a day   \n",
       "1503                        take one capsule once daily   \n",
       "\n",
       "                                             annotation  \n",
       "0                 [(one, QUANTITY), (daily, FREQUENCY)]  \n",
       "1      [(1 or 2, QUANTITY), (4 times a day, FREQUENCY)]  \n",
       "2          [(four, QUANTITY), (twice daily, FREQUENCY)]  \n",
       "3       [(‘one, ‘QUANTITY’), (every 7 days, FREQUENCY)]  \n",
       "4     [(one or two, QUANTITY), (every 4-6 hours, FRE...  \n",
       "...                                                 ...  \n",
       "1499  [(‘one’, ‘QUANTITY’), (four times a day, FREQU...  \n",
       "1500     [(‘one’, ‘QUANTITY’), (once a day, FREQUENCY)]  \n",
       "1501     [(‘one’, ‘QUANTITY’), (once a day, FREQUENCY)]  \n",
       "1502     [(‘one’, ‘QUANTITY’), (once a day, FREQUENCY)]  \n",
       "1503     [(‘one’, ‘QUANTITY’), (once daily, FREQUENCY)]  \n",
       "\n",
       "[1504 rows x 2 columns]"
      ]
     },
     "execution_count": 24,
     "metadata": {},
     "output_type": "execute_result"
    }
   ],
   "source": [
    "whole_set = pd.read_csv('data/labelled_set_v2_corrected.csv')\n",
    "whole_set.drop(['index'], axis=1, inplace=True)\n",
    "whole_set.columns = ['prescriber_dosage', 'string', 'annotation']\n",
    "\n",
    "# csv had list of annotations stored as \"[]\" so i have to process it\n",
    "for i in range(len(whole_set)):\n",
    "    string = whole_set.loc[i, 'annotation']\n",
    "    annotations = string.strip('][').split(', ')\n",
    "    processed_annotation = []\n",
    "    for n in annotations:\n",
    "        x = n.strip(\"'()\").split('=')\n",
    "        z = []\n",
    "        for y in x:\n",
    "            a = y.strip(\"'\")\n",
    "            z.append(a)\n",
    "        processed_annotation.append(tuple(z))\n",
    "    whole_set.loc[i, 'annotation'] = processed_annotation\n",
    "\n",
    "# whole_set.loc[:, 'annotation'] = whole_set.loc[:, 'annotation'].apply(json.loads)\n",
    "\n",
    "labelled = whole_set.iloc[:1504] # increased size of labelled set to 1504\n",
    "labelled.drop('prescriber_dosage', axis = 1, inplace = True)\n",
    "labelled.columns = ['text', 'annotation']\n",
    "# labelled = labelled.astype({\"text\": str, \"annotation\": list})\n",
    "un_labelled = whole_set.drop(labelled.index)\n",
    "labelled"
   ]
  },
  {
   "cell_type": "code",
   "execution_count": 25,
   "metadata": {},
   "outputs": [],
   "source": [
    "def matcher(string, pattern):\n",
    "    '''\n",
    "    Return the start and end index of any pattern present in the text.\n",
    "    '''\n",
    "    match_list = []\n",
    "    pattern = pattern.strip()\n",
    "    seqMatch = SequenceMatcher(None, string, pattern, autojunk=False)\n",
    "    match = seqMatch.find_longest_match(0, len(string), 0, len(pattern))\n",
    "    if (match.size == len(pattern)):\n",
    "        start = match.a\n",
    "        end = match.a + match.size\n",
    "        match_tup = (start, end)\n",
    "        string = string.replace(pattern, \"X\" * len(pattern), 1)\n",
    "        match_list.append(match_tup)\n",
    "    return match_list, string\n",
    "\n",
    "def matcher_indices(string: str, annotations):\n",
    "    '''\n",
    "    Return the start and end index of any pattern present in the text.\n",
    "    '''\n",
    "    match = (annotations[0], annotations[1])\n",
    "    string = string.replace(string[match[0]: match[1]], 'X' * (match[1]-match[0]),1)\n",
    "    return [match], string\n",
    "\n",
    "def mark_sentence(s, match_list):\n",
    "    '''\n",
    "    Marks all the entities in the sentence as per the BIO scheme. \n",
    "    '''\n",
    "    word_dict = {}\n",
    "    for word in s.split():\n",
    "        word_dict[word] = 'O'\n",
    "        \n",
    "    for start, end, e_type in match_list:\n",
    "        temp_str = s[start:end]\n",
    "        tmp_list = temp_str.split()\n",
    "        if len(tmp_list) > 1:\n",
    "            word_dict[tmp_list[0]] = 'B-' + e_type\n",
    "            for w in tmp_list[1:]:\n",
    "                word_dict[w] = 'I-' + e_type\n",
    "        else:\n",
    "            word_dict[temp_str] = 'B-' + e_type\n",
    "    return word_dict\n",
    "\n",
    "def create_data(df, filepath):\n",
    "    '''\n",
    "    The function responsible for the creation of data in the said format.\n",
    "    '''\n",
    "    with open(filepath , 'w') as f:\n",
    "        for text, annotation in zip(df.text, df.annotation):\n",
    "            # text = clean(text)\n",
    "            text_ = text        \n",
    "            match_list = []\n",
    "            for i in annotation:\n",
    "                a, text_ = matcher(text, i[0])\n",
    "                #  a, text_ = matcher_indices(text, i)\n",
    "                # match_list.append((a[0][0], a[0][1], i[2]))\n",
    "                try:\n",
    "                    match_list.append((a[0][0], a[0][1], i[1]))\n",
    "                except:\n",
    "                    pass\n",
    "            d = mark_sentence(text, match_list)\n",
    "\n",
    "            for i in d.keys():\n",
    "                f.writelines(i + ' ' + d[i] +'\\n')\n",
    "            f.writelines('\\n')\n",
    "\n",
    "\n",
    "train_v3 : pd.DataFrame = labelled.sample(frac=0.75, random_state=2)\n",
    "rest = labelled.drop(train_v3.index)\n",
    "test_v3 = rest.sample(frac=0.5, random_state=2)\n",
    "dev_v3 = rest.drop(test_v3.index)\n",
    "\n",
    "# data alrteady created and augmented to correct errors\n",
    "# create_data(dev_v3, 'custom_model_3/dev.txt')\n",
    "# create_data(test_v3, 'custom_model_3/test.txt')\n",
    "# create_data(train_v3, 'custom_model_3/train.txt')"
   ]
  },
  {
   "cell_type": "code",
   "execution_count": 26,
   "metadata": {},
   "outputs": [
    {
     "name": "stdout",
     "output_type": "stream",
     "text": [
      "2022-04-26 14:11:00,252 Reading data from custom_model_3\n",
      "2022-04-26 14:11:00,253 Train: custom_model_3/train.txt\n",
      "2022-04-26 14:11:00,254 Dev: custom_model_3/dev.txt\n",
      "2022-04-26 14:11:00,254 Test: custom_model_3/test.txt\n",
      "2022-04-26 14:11:00,468 Computing label dictionary. Progress:\n"
     ]
    },
    {
     "name": "stderr",
     "output_type": "stream",
     "text": [
      "1128it [00:00, 63100.84it/s]"
     ]
    },
    {
     "name": "stdout",
     "output_type": "stream",
     "text": [
      "2022-04-26 14:11:00,488 Dictionary created for label 'ner' with 4 values: FREQUENCY (seen 1010 times), QUANTITY (seen 982 times), MEALTIME (seen 53 times)\n"
     ]
    },
    {
     "name": "stderr",
     "output_type": "stream",
     "text": [
      "\n"
     ]
    },
    {
     "name": "stdout",
     "output_type": "stream",
     "text": [
      "2022-04-26 14:11:03,133 SequenceTagger predicts: Dictionary with 13 tags: O, S-FREQUENCY, B-FREQUENCY, E-FREQUENCY, I-FREQUENCY, S-QUANTITY, B-QUANTITY, E-QUANTITY, I-QUANTITY, S-MEALTIME, B-MEALTIME, E-MEALTIME, I-MEALTIME\n"
     ]
    }
   ],
   "source": [
    "# custom model 3 corpus the bootstrapped and corrected corpus of 1050 datapoints\n",
    "corpus : Corpus = ColumnCorpus('custom_model_3', columns,\n",
    "                                train_file='train.txt',\n",
    "                                test_file='test.txt',\n",
    "                                dev_file='dev.txt')\n",
    "\n",
    "tag_type = 'ner'\n",
    "# make tag dictionary from the corpus\n",
    "tag_dictionary = corpus.make_label_dictionary(label_type=tag_type)\n",
    "\n",
    "embedding_types : List[TokenEmbeddings] = [\n",
    "        WordEmbeddings('glove'),\n",
    "        ## other embeddings\n",
    "        ]\n",
    "embeddings : StackedEmbeddings = StackedEmbeddings(\n",
    "                                 embeddings=embedding_types)\n",
    "\n",
    "tagger : SequenceTagger = SequenceTagger(hidden_size=256,\n",
    "                                       embeddings=embeddings,\n",
    "                                       tag_dictionary=tag_dictionary,\n",
    "                                       tag_type=tag_type,\n",
    "                                       use_crf=True)\n",
    "\n",
    "trainer : ModelTrainer = ModelTrainer(tagger, corpus)\n",
    "# TRAINED\n",
    "# trainer.train('models/resources_v3/taggers/ner',\n",
    "#               learning_rate=0.1,\n",
    "#               mini_batch_size=32,\n",
    "#               max_epochs=150,\n",
    "#               monitor_test=True)"
   ]
  },
  {
   "cell_type": "code",
   "execution_count": 27,
   "metadata": {},
   "outputs": [
    {
     "name": "stdout",
     "output_type": "stream",
     "text": [
      "2022-04-26 14:11:03,186 loading file models/resources_v3/taggers/ner/best-model.pt\n",
      "2022-04-26 14:11:03,692 SequenceTagger predicts: Dictionary with 20 tags: <unk>, B-QUANTITY, B-FREQUENCY, I-FREQUENCY, O, I-QUANTITY, B-MEALTIME, I-MEALTIME, B-‘FREQUENCY’, I-‘FREQUENCY’, B-‘QUANTITY’, B-‘FREQUENCY, I-‘FREQUENCY, I-‘QUANTITY’, B-‘MEALTIME, I-‘MEALTIME, B-‘QUANTITY, I-‘QUANTITY, <START>, <STOP>\n"
     ]
    },
    {
     "data": {
      "text/html": [
       "<div>\n",
       "<style scoped>\n",
       "    .dataframe tbody tr th:only-of-type {\n",
       "        vertical-align: middle;\n",
       "    }\n",
       "\n",
       "    .dataframe tbody tr th {\n",
       "        vertical-align: top;\n",
       "    }\n",
       "\n",
       "    .dataframe thead th {\n",
       "        text-align: right;\n",
       "    }\n",
       "</style>\n",
       "<table border=\"1\" class=\"dataframe\">\n",
       "  <thead>\n",
       "    <tr style=\"text-align: right;\">\n",
       "      <th></th>\n",
       "      <th>prescriber_dosage</th>\n",
       "      <th>annotation</th>\n",
       "    </tr>\n",
       "  </thead>\n",
       "  <tbody>\n",
       "    <tr>\n",
       "      <th>1504</th>\n",
       "      <td>Take ONE capsule THREE times a day</td>\n",
       "      <td>[(one, QUANTITY), (three times a day, FREQUENCY)]</td>\n",
       "    </tr>\n",
       "    <tr>\n",
       "      <th>1505</th>\n",
       "      <td>take one capsule twice a day</td>\n",
       "      <td>[(one, QUANTITY), (twice a day, FREQUENCY)]</td>\n",
       "    </tr>\n",
       "    <tr>\n",
       "      <th>1506</th>\n",
       "      <td>Take One Capsule Twice A Day, (One In The Morn...</td>\n",
       "      <td>[(one, QUANTITY), (twice a day, FREQUENCY)]</td>\n",
       "    </tr>\n",
       "    <tr>\n",
       "      <th>1507</th>\n",
       "      <td>take one capsule twice daily</td>\n",
       "      <td>[(one, QUANTITY), (twice daily, FREQUENCY)]</td>\n",
       "    </tr>\n",
       "    <tr>\n",
       "      <th>1508</th>\n",
       "      <td>take one daily</td>\n",
       "      <td>[(one, QUANTITY), (daily, FREQUENCY)]</td>\n",
       "    </tr>\n",
       "    <tr>\n",
       "      <th>...</th>\n",
       "      <td>...</td>\n",
       "      <td>...</td>\n",
       "    </tr>\n",
       "    <tr>\n",
       "      <th>2181</th>\n",
       "      <td>1 nocte## please do u&amp;e twice a year in jan an...</td>\n",
       "      <td>[(1, QUANTITY), (every night, FREQUENCY), (twi...</td>\n",
       "    </tr>\n",
       "    <tr>\n",
       "      <th>2182</th>\n",
       "      <td>half tab nocte</td>\n",
       "      <td>[(half, QUANTITY), (every night, FREQUENCY)]</td>\n",
       "    </tr>\n",
       "    <tr>\n",
       "      <th>2183</th>\n",
       "      <td>take two at night (total dose 700mg nocte)</td>\n",
       "      <td>[(two, QUANTITY), (every night, FREQUENCY)]</td>\n",
       "    </tr>\n",
       "    <tr>\n",
       "      <th>2184</th>\n",
       "      <td>take one in the morning and one in the evening...</td>\n",
       "      <td>[(one, QUANTITY), (every night, FREQUENCY)]</td>\n",
       "    </tr>\n",
       "    <tr>\n",
       "      <th>2185</th>\n",
       "      <td>take one tablet nocte as directed by hospital</td>\n",
       "      <td>[(one, QUANTITY), (every night, FREQUENCY)]</td>\n",
       "    </tr>\n",
       "  </tbody>\n",
       "</table>\n",
       "<p>682 rows × 2 columns</p>\n",
       "</div>"
      ],
      "text/plain": [
       "                                      prescriber_dosage  \\\n",
       "1504                 Take ONE capsule THREE times a day   \n",
       "1505                       take one capsule twice a day   \n",
       "1506  Take One Capsule Twice A Day, (One In The Morn...   \n",
       "1507                       take one capsule twice daily   \n",
       "1508                                     take one daily   \n",
       "...                                                 ...   \n",
       "2181  1 nocte## please do u&e twice a year in jan an...   \n",
       "2182                                     half tab nocte   \n",
       "2183         take two at night (total dose 700mg nocte)   \n",
       "2184  take one in the morning and one in the evening...   \n",
       "2185      take one tablet nocte as directed by hospital   \n",
       "\n",
       "                                             annotation  \n",
       "1504  [(one, QUANTITY), (three times a day, FREQUENCY)]  \n",
       "1505        [(one, QUANTITY), (twice a day, FREQUENCY)]  \n",
       "1506        [(one, QUANTITY), (twice a day, FREQUENCY)]  \n",
       "1507        [(one, QUANTITY), (twice daily, FREQUENCY)]  \n",
       "1508              [(one, QUANTITY), (daily, FREQUENCY)]  \n",
       "...                                                 ...  \n",
       "2181  [(1, QUANTITY), (every night, FREQUENCY), (twi...  \n",
       "2182       [(half, QUANTITY), (every night, FREQUENCY)]  \n",
       "2183        [(two, QUANTITY), (every night, FREQUENCY)]  \n",
       "2184        [(one, QUANTITY), (every night, FREQUENCY)]  \n",
       "2185        [(one, QUANTITY), (every night, FREQUENCY)]  \n",
       "\n",
       "[682 rows x 2 columns]"
      ]
     },
     "execution_count": 27,
     "metadata": {},
     "output_type": "execute_result"
    }
   ],
   "source": [
    "model = SequenceTagger.load('models/resources_v3/taggers/ner/best-model.pt')\n",
    "\n",
    "def label(text, model):\n",
    "    # run NER over sentence\n",
    "    text=Sentence(process(text))\n",
    "    model.predict(text)\n",
    "    ents = [(entity.text, entity.get_label(\"ner\").value) for entity in text.get_spans('ner')] #getting NER spans\n",
    "    return ents\n",
    "\n",
    "un_labelled.loc[:,'annotation'] = un_labelled.loc[:,'prescriber_dosage'].apply(label, args=[model])\n",
    "un_labelled.loc[:,['prescriber_dosage', 'annotation']]"
   ]
  },
  {
   "cell_type": "code",
   "execution_count": 28,
   "metadata": {},
   "outputs": [
    {
     "name": "stdout",
     "output_type": "stream",
     "text": [
      "2022-04-26 14:11:06,907 Loss and F1 plots are saved in models/resources_v3/taggers/ner/training.png\n"
     ]
    },
    {
     "data": {
      "image/png": "[encoded data removed]",
      "text/plain": [
       "<Figure size 1080x720 with 2 Axes>"
      ]
     },
     "metadata": {
      "needs_background": "light"
     },
     "output_type": "display_data"
    }
   ],
   "source": [
    "from flair.visual.training_curves import Plotter\n",
    "\n",
    "plotter = Plotter()\n",
    "plotter.plot_training_curves('models/resources_v3/taggers/ner/loss.tsv')\n"
   ]
  },
  {
   "cell_type": "markdown",
   "metadata": {},
   "source": [
    "these are looking quite promising, but clearly still not amazing just by looking at the last two."
   ]
  },
  {
   "cell_type": "code",
   "execution_count": 29,
   "metadata": {},
   "outputs": [
    {
     "name": "stdout",
     "output_type": "stream",
     "text": [
      "2022-04-26 14:11:07,319 SequenceTagger predicts: Dictionary with 13 tags: O, S-FREQUENCY, B-FREQUENCY, E-FREQUENCY, I-FREQUENCY, S-QUANTITY, B-QUANTITY, E-QUANTITY, I-QUANTITY, S-MEALTIME, B-MEALTIME, E-MEALTIME, I-MEALTIME\n"
     ]
    }
   ],
   "source": [
    "# TRAINING A MODEL WITH FLAIR EMBEDDINGS TO TAKE CONTEXT INTO ACCOUNT\n",
    "from flair.embeddings import FlairEmbeddings, TransformerWordEmbeddings\n",
    "\n",
    "flair_embedding_forward = FlairEmbeddings('mix-forward')\n",
    "flair_embedding_backward = FlairEmbeddings('mix-backward')\n",
    "\n",
    "stacked_embeddings = StackedEmbeddings([\n",
    "                                        glove_embedding,\n",
    "                                        flair_embedding_forward,\n",
    "                                        flair_embedding_backward,\n",
    "                                       ])\n",
    "\n",
    "tagger : SequenceTagger = SequenceTagger(hidden_size=256,\n",
    "                                       embeddings=stacked_embeddings,\n",
    "                                       tag_dictionary=tag_dictionary,\n",
    "                                       tag_type=tag_type,\n",
    "                                       use_crf=True)\n",
    "\n",
    "trainer : ModelTrainer = ModelTrainer(tagger, corpus)\n",
    "# TRAINED\n",
    "# trainer.train('models/resources_v4/taggers/ner',\n",
    "#               learning_rate=0.1,\n",
    "#               mini_batch_size=32,\n",
    "#               max_epochs=150,\n",
    "#               monitor_test=True)"
   ]
  },
  {
   "cell_type": "code",
   "execution_count": 30,
   "metadata": {},
   "outputs": [
    {
     "name": "stdout",
     "output_type": "stream",
     "text": [
      "2022-04-26 14:11:07,456 loading file models/resources_v4/taggers/ner/best-model.pt\n",
      "2022-04-26 14:11:08,696 SequenceTagger predicts: Dictionary with 10 tags: <unk>, B-QUANTITY, B-FREQUENCY, I-FREQUENCY, O, I-QUANTITY, B-MEALTIME, I-MEALTIME, <START>, <STOP>\n"
     ]
    },
    {
     "data": {
      "text/html": [
       "<div>\n",
       "<style scoped>\n",
       "    .dataframe tbody tr th:only-of-type {\n",
       "        vertical-align: middle;\n",
       "    }\n",
       "\n",
       "    .dataframe tbody tr th {\n",
       "        vertical-align: top;\n",
       "    }\n",
       "\n",
       "    .dataframe thead th {\n",
       "        text-align: right;\n",
       "    }\n",
       "</style>\n",
       "<table border=\"1\" class=\"dataframe\">\n",
       "  <thead>\n",
       "    <tr style=\"text-align: right;\">\n",
       "      <th></th>\n",
       "      <th>prescriber_dosage</th>\n",
       "      <th>annotation</th>\n",
       "    </tr>\n",
       "  </thead>\n",
       "  <tbody>\n",
       "    <tr>\n",
       "      <th>1504</th>\n",
       "      <td>Take ONE capsule THREE times a day</td>\n",
       "      <td>[(one, QUANTITY), (three times a day, FREQUENCY)]</td>\n",
       "    </tr>\n",
       "    <tr>\n",
       "      <th>1505</th>\n",
       "      <td>take one capsule twice a day</td>\n",
       "      <td>[(one, QUANTITY), (twice a day, FREQUENCY)]</td>\n",
       "    </tr>\n",
       "    <tr>\n",
       "      <th>1506</th>\n",
       "      <td>Take One Capsule Twice A Day, (One In The Morn...</td>\n",
       "      <td>[(one, QUANTITY), (twice a day, FREQUENCY)]</td>\n",
       "    </tr>\n",
       "    <tr>\n",
       "      <th>1507</th>\n",
       "      <td>take one capsule twice daily</td>\n",
       "      <td>[(one, QUANTITY), (twice daily, FREQUENCY)]</td>\n",
       "    </tr>\n",
       "    <tr>\n",
       "      <th>1508</th>\n",
       "      <td>take one daily</td>\n",
       "      <td>[(one, QUANTITY), (daily, FREQUENCY)]</td>\n",
       "    </tr>\n",
       "    <tr>\n",
       "      <th>...</th>\n",
       "      <td>...</td>\n",
       "      <td>...</td>\n",
       "    </tr>\n",
       "    <tr>\n",
       "      <th>2181</th>\n",
       "      <td>1 nocte## please do u&amp;e twice a year in jan an...</td>\n",
       "      <td>[(1, QUANTITY), (every night, FREQUENCY), (twi...</td>\n",
       "    </tr>\n",
       "    <tr>\n",
       "      <th>2182</th>\n",
       "      <td>half tab nocte</td>\n",
       "      <td>[(half, QUANTITY), (every night, FREQUENCY)]</td>\n",
       "    </tr>\n",
       "    <tr>\n",
       "      <th>2183</th>\n",
       "      <td>take two at night (total dose 700mg nocte)</td>\n",
       "      <td>[(two, QUANTITY), (at night, FREQUENCY), (ever...</td>\n",
       "    </tr>\n",
       "    <tr>\n",
       "      <th>2184</th>\n",
       "      <td>take one in the morning and one in the evening...</td>\n",
       "      <td>[(one, QUANTITY), (in the morning, FREQUENCY),...</td>\n",
       "    </tr>\n",
       "    <tr>\n",
       "      <th>2185</th>\n",
       "      <td>take one tablet nocte as directed by hospital</td>\n",
       "      <td>[(one, QUANTITY), (every night, FREQUENCY)]</td>\n",
       "    </tr>\n",
       "  </tbody>\n",
       "</table>\n",
       "<p>682 rows × 2 columns</p>\n",
       "</div>"
      ],
      "text/plain": [
       "                                      prescriber_dosage  \\\n",
       "1504                 Take ONE capsule THREE times a day   \n",
       "1505                       take one capsule twice a day   \n",
       "1506  Take One Capsule Twice A Day, (One In The Morn...   \n",
       "1507                       take one capsule twice daily   \n",
       "1508                                     take one daily   \n",
       "...                                                 ...   \n",
       "2181  1 nocte## please do u&e twice a year in jan an...   \n",
       "2182                                     half tab nocte   \n",
       "2183         take two at night (total dose 700mg nocte)   \n",
       "2184  take one in the morning and one in the evening...   \n",
       "2185      take one tablet nocte as directed by hospital   \n",
       "\n",
       "                                             annotation  \n",
       "1504  [(one, QUANTITY), (three times a day, FREQUENCY)]  \n",
       "1505        [(one, QUANTITY), (twice a day, FREQUENCY)]  \n",
       "1506        [(one, QUANTITY), (twice a day, FREQUENCY)]  \n",
       "1507        [(one, QUANTITY), (twice daily, FREQUENCY)]  \n",
       "1508              [(one, QUANTITY), (daily, FREQUENCY)]  \n",
       "...                                                 ...  \n",
       "2181  [(1, QUANTITY), (every night, FREQUENCY), (twi...  \n",
       "2182       [(half, QUANTITY), (every night, FREQUENCY)]  \n",
       "2183  [(two, QUANTITY), (at night, FREQUENCY), (ever...  \n",
       "2184  [(one, QUANTITY), (in the morning, FREQUENCY),...  \n",
       "2185        [(one, QUANTITY), (every night, FREQUENCY)]  \n",
       "\n",
       "[682 rows x 2 columns]"
      ]
     },
     "execution_count": 30,
     "metadata": {},
     "output_type": "execute_result"
    }
   ],
   "source": [
    "model = SequenceTagger.load('models/resources_v4/taggers/ner/best-model.pt')\n",
    "\n",
    "un_labelled.loc[:,'annotation'] = un_labelled.loc[:,'prescriber_dosage'].apply(label, args=[model])\n",
    "un_labelled.loc[:,['prescriber_dosage', 'annotation']]"
   ]
  },
  {
   "cell_type": "code",
   "execution_count": 31,
   "metadata": {},
   "outputs": [
    {
     "name": "stdout",
     "output_type": "stream",
     "text": [
      "2022-04-26 14:13:40,126 Loss and F1 plots are saved in models/resources_v3/taggers/ner/training.png\n"
     ]
    },
    {
     "data": {
      "image/png": "[encoded data removed]",
      "text/plain": [
       "<Figure size 1080x720 with 2 Axes>"
      ]
     },
     "metadata": {
      "needs_background": "light"
     },
     "output_type": "display_data"
    },
    {
     "name": "stdout",
     "output_type": "stream",
     "text": [
      "2022-04-26 14:13:41,235 Loss and F1 plots are saved in models/resources_v4/taggers/ner/training.png\n"
     ]
    },
    {
     "data": {
      "image/png": "[encoded data removed]",
      "text/plain": [
       "<Figure size 1080x720 with 2 Axes>"
      ]
     },
     "metadata": {
      "needs_background": "light"
     },
     "output_type": "display_data"
    }
   ],
   "source": [
    "\n",
    "import matplotlib.pyplot as plt\n",
    "from pathlib import Path\n",
    "import csv\n",
    "import logging\n",
    "import math\n",
    "from collections import defaultdict\n",
    "from pathlib import Path\n",
    "from typing import Dict, List, Union\n",
    "\n",
    "log = logging.getLogger(\"flair\")\n",
    "\n",
    "# plotter = Plotter()\n",
    "# plotter.plot_training_curves('models/resources_v4/taggers/ner/loss.tsv')\n",
    "def _extract_evaluation_data(file_name: Union[str, Path], score: str = \"F1\") -> dict:\n",
    "    file_name = Path(file_name)\n",
    "\n",
    "    training_curves: Dict[str, Dict[str, List[float]]] = {\n",
    "        \"train\": {\"loss\": [], \"score\": []},\n",
    "        \"test\": {\"loss\": [], \"score\": []},\n",
    "        \"dev\": {\"loss\": [], \"score\": []},\n",
    "    }\n",
    "\n",
    "    with open(file_name, \"r\") as f:\n",
    "        tsvin = csv.reader(f, delimiter=\"\\t\")\n",
    "\n",
    "        # determine the column index of loss, f-score and accuracy for\n",
    "        # train, dev and test split\n",
    "        row = next(tsvin)\n",
    "\n",
    "        score = score.upper()\n",
    "\n",
    "        if f\"TEST_{score}\" not in row:\n",
    "            log.warning(\"-\" * 100)\n",
    "            log.warning(f\"WARNING: No {score} found for test split in this data.\")\n",
    "            log.warning(f\"Are you sure you want to plot {score} and not another value?\")\n",
    "            log.warning(\"-\" * 100)\n",
    "\n",
    "        TRAIN_SCORE = row.index(f\"TRAIN_{score}\") if f\"TRAIN_{score}\" in row else None\n",
    "        DEV_SCORE = row.index(f\"DEV_{score}\") if f\"DEV_{score}\" in row else None\n",
    "        TEST_SCORE = row.index(f\"TEST_{score}\") if f\"TEST_{score}\" in row else None\n",
    "\n",
    "        # then get all relevant values from the tsv\n",
    "        for row in tsvin:\n",
    "\n",
    "            if TRAIN_SCORE is not None:\n",
    "                if row[TRAIN_SCORE] != \"_\":\n",
    "                    training_curves[\"train\"][\"score\"].append(float(row[TRAIN_SCORE]))\n",
    "\n",
    "            if DEV_SCORE is not None:\n",
    "                if row[DEV_SCORE] != \"_\":\n",
    "                    training_curves[\"dev\"][\"score\"].append(float(row[DEV_SCORE]))\n",
    "\n",
    "            if TEST_SCORE is not None:\n",
    "                if row[TEST_SCORE] != \"_\":\n",
    "                    training_curves[\"test\"][\"score\"].append(float(row[TEST_SCORE]))\n",
    "\n",
    "    return training_curves\n",
    "\n",
    "def plot_training_curves(file_name: Union[str, Path], plot_values: List[str] = [\"loss\", \"F1\"]):\n",
    "    file_name = Path(file_name)\n",
    "\n",
    "    fig = plt.figure(figsize=(15, 10))\n",
    "\n",
    "    for plot_no, plot_value in enumerate(plot_values):\n",
    "\n",
    "        training_curves = _extract_evaluation_data(file_name, plot_value)\n",
    "\n",
    "        plt.subplot(len(plot_values), 1, plot_no + 1)\n",
    "        if training_curves[\"train\"][\"score\"]:\n",
    "            x = np.arange(0, len(training_curves[\"train\"][\"score\"]))\n",
    "            plt.plot(x, training_curves[\"train\"][\"score\"], label=f\"training {plot_value}\")\n",
    "        if training_curves[\"dev\"][\"score\"]:\n",
    "            x = np.arange(0, len(training_curves[\"dev\"][\"score\"]))\n",
    "            plt.plot(x, training_curves[\"dev\"][\"score\"], label=f\"validation {plot_value}\")\n",
    "        if training_curves[\"test\"][\"score\"]:\n",
    "            x = np.arange(0, len(training_curves[\"test\"][\"score\"]))\n",
    "            plt.plot(x, training_curves[\"test\"][\"score\"], label=f\"test {plot_value}\")\n",
    "        plt.legend(bbox_to_anchor=(1.04, 0), loc=\"lower left\", borderaxespad=0)\n",
    "        plt.ylabel(plot_value)\n",
    "        plt.xlabel(\"epochs\")\n",
    "        if plot_value == \"loss\":\n",
    "            plt.yticks(np.arange(0, max(training_curves[\"test\"][\"score\"] + training_curves[\"dev\"][\"score\"] + training_curves[\"train\"][\"score\"]), 0.1))\n",
    "        plt.grid()\n",
    "\n",
    "    # save plots\n",
    "    plt.tight_layout(pad=1.0)\n",
    "    path = file_name.parent / \"training.png\"\n",
    "    plt.savefig(path, dpi=300)\n",
    "    log.info(f\"Loss and F1 plots are saved in {path}\")  # to let user know the path of the save plots\n",
    "    plt.show(block=False)  # to have the plots displayed when user run this module\n",
    "    plt.close(fig)\n",
    "\n",
    "plot_training_curves('models/resources_v3/taggers/ner/loss.tsv')\n",
    "plot_training_curves('models/resources_v4/taggers/ner/loss.tsv')"
   ]
  },
  {
   "cell_type": "code",
   "execution_count": 32,
   "metadata": {},
   "outputs": [
    {
     "name": "stdout",
     "output_type": "stream",
     "text": [
      "2022-04-26 14:13:46,656 SequenceTagger predicts: Dictionary with 13 tags: O, S-FREQUENCY, B-FREQUENCY, E-FREQUENCY, I-FREQUENCY, S-QUANTITY, B-QUANTITY, E-QUANTITY, I-QUANTITY, S-MEALTIME, B-MEALTIME, E-MEALTIME, I-MEALTIME\n",
      "2022-04-26 14:13:47,636 Loss and F1 plots are saved in models/resources_v5/taggers/ner/training.png\n"
     ]
    },
    {
     "data": {
      "image/png": "[encoded data removed]",
      "text/plain": [
       "<Figure size 1080x720 with 2 Axes>"
      ]
     },
     "metadata": {
      "needs_background": "light"
     },
     "output_type": "display_data"
    }
   ],
   "source": [
    "# Trying with transformer embeddings\n",
    "transformer = TransformerWordEmbeddings('distilbert-base-uncased')\n",
    "\n",
    "stacked_embeddings = StackedEmbeddings([\n",
    "                                        glove_embedding,\n",
    "                                        transformer\n",
    "                                       ])\n",
    "\n",
    "tagger : SequenceTagger = SequenceTagger(hidden_size=256,\n",
    "                                       embeddings=stacked_embeddings,\n",
    "                                       tag_dictionary=tag_dictionary,\n",
    "                                       tag_type=tag_type,\n",
    "                                       use_crf=True)\n",
    "\n",
    "trainer : ModelTrainer = ModelTrainer(tagger, corpus)\n",
    "# TRAINED\n",
    "# trainer.train('models/resources_v5/taggers/ner',\n",
    "#               learning_rate=0.1,\n",
    "#               mini_batch_size=32,\n",
    "#               max_epochs=150,\n",
    "#               monitor_test=True)\n",
    "\n",
    "plot_training_curves('models/resources_v5/taggers/ner/loss.tsv')"
   ]
  },
  {
   "cell_type": "code",
   "execution_count": 33,
   "metadata": {},
   "outputs": [
    {
     "name": "stdout",
     "output_type": "stream",
     "text": [
      "2022-04-26 14:13:47,855 loading file models/resources_v5/taggers/ner/best-model.pt\n",
      "2022-04-26 14:13:54,274 SequenceTagger predicts: Dictionary with 10 tags: <unk>, B-QUANTITY, B-FREQUENCY, I-FREQUENCY, O, I-QUANTITY, B-MEALTIME, I-MEALTIME, <START>, <STOP>\n"
     ]
    },
    {
     "data": {
      "text/html": [
       "<div>\n",
       "<style scoped>\n",
       "    .dataframe tbody tr th:only-of-type {\n",
       "        vertical-align: middle;\n",
       "    }\n",
       "\n",
       "    .dataframe tbody tr th {\n",
       "        vertical-align: top;\n",
       "    }\n",
       "\n",
       "    .dataframe thead th {\n",
       "        text-align: right;\n",
       "    }\n",
       "</style>\n",
       "<table border=\"1\" class=\"dataframe\">\n",
       "  <thead>\n",
       "    <tr style=\"text-align: right;\">\n",
       "      <th></th>\n",
       "      <th>prescriber_dosage</th>\n",
       "      <th>annotation</th>\n",
       "    </tr>\n",
       "  </thead>\n",
       "  <tbody>\n",
       "    <tr>\n",
       "      <th>1504</th>\n",
       "      <td>Take ONE capsule THREE times a day</td>\n",
       "      <td>[(one, QUANTITY), (three times a day, FREQUENCY)]</td>\n",
       "    </tr>\n",
       "    <tr>\n",
       "      <th>1505</th>\n",
       "      <td>take one capsule twice a day</td>\n",
       "      <td>[(one, QUANTITY), (twice a day, FREQUENCY)]</td>\n",
       "    </tr>\n",
       "    <tr>\n",
       "      <th>1506</th>\n",
       "      <td>Take One Capsule Twice A Day, (One In The Morn...</td>\n",
       "      <td>[(one, QUANTITY), (twice a day, FREQUENCY), (o...</td>\n",
       "    </tr>\n",
       "    <tr>\n",
       "      <th>1507</th>\n",
       "      <td>take one capsule twice daily</td>\n",
       "      <td>[(one, QUANTITY), (twice daily, FREQUENCY)]</td>\n",
       "    </tr>\n",
       "    <tr>\n",
       "      <th>1508</th>\n",
       "      <td>take one daily</td>\n",
       "      <td>[(one, QUANTITY), (daily, FREQUENCY)]</td>\n",
       "    </tr>\n",
       "    <tr>\n",
       "      <th>...</th>\n",
       "      <td>...</td>\n",
       "      <td>...</td>\n",
       "    </tr>\n",
       "    <tr>\n",
       "      <th>2181</th>\n",
       "      <td>1 nocte## please do u&amp;e twice a year in jan an...</td>\n",
       "      <td>[(1, QUANTITY), (every night, FREQUENCY), (twi...</td>\n",
       "    </tr>\n",
       "    <tr>\n",
       "      <th>2182</th>\n",
       "      <td>half tab nocte</td>\n",
       "      <td>[(half, QUANTITY), (every night, FREQUENCY)]</td>\n",
       "    </tr>\n",
       "    <tr>\n",
       "      <th>2183</th>\n",
       "      <td>take two at night (total dose 700mg nocte)</td>\n",
       "      <td>[(two, QUANTITY), (at night, FREQUENCY), (700m...</td>\n",
       "    </tr>\n",
       "    <tr>\n",
       "      <th>2184</th>\n",
       "      <td>take one in the morning and one in the evening...</td>\n",
       "      <td>[(one, QUANTITY), (in the morning, FREQUENCY),...</td>\n",
       "    </tr>\n",
       "    <tr>\n",
       "      <th>2185</th>\n",
       "      <td>take one tablet nocte as directed by hospital</td>\n",
       "      <td>[(one, QUANTITY), (every night, FREQUENCY)]</td>\n",
       "    </tr>\n",
       "  </tbody>\n",
       "</table>\n",
       "<p>682 rows × 2 columns</p>\n",
       "</div>"
      ],
      "text/plain": [
       "                                      prescriber_dosage  \\\n",
       "1504                 Take ONE capsule THREE times a day   \n",
       "1505                       take one capsule twice a day   \n",
       "1506  Take One Capsule Twice A Day, (One In The Morn...   \n",
       "1507                       take one capsule twice daily   \n",
       "1508                                     take one daily   \n",
       "...                                                 ...   \n",
       "2181  1 nocte## please do u&e twice a year in jan an...   \n",
       "2182                                     half tab nocte   \n",
       "2183         take two at night (total dose 700mg nocte)   \n",
       "2184  take one in the morning and one in the evening...   \n",
       "2185      take one tablet nocte as directed by hospital   \n",
       "\n",
       "                                             annotation  \n",
       "1504  [(one, QUANTITY), (three times a day, FREQUENCY)]  \n",
       "1505        [(one, QUANTITY), (twice a day, FREQUENCY)]  \n",
       "1506  [(one, QUANTITY), (twice a day, FREQUENCY), (o...  \n",
       "1507        [(one, QUANTITY), (twice daily, FREQUENCY)]  \n",
       "1508              [(one, QUANTITY), (daily, FREQUENCY)]  \n",
       "...                                                 ...  \n",
       "2181  [(1, QUANTITY), (every night, FREQUENCY), (twi...  \n",
       "2182       [(half, QUANTITY), (every night, FREQUENCY)]  \n",
       "2183  [(two, QUANTITY), (at night, FREQUENCY), (700m...  \n",
       "2184  [(one, QUANTITY), (in the morning, FREQUENCY),...  \n",
       "2185        [(one, QUANTITY), (every night, FREQUENCY)]  \n",
       "\n",
       "[682 rows x 2 columns]"
      ]
     },
     "execution_count": 33,
     "metadata": {},
     "output_type": "execute_result"
    }
   ],
   "source": [
    "model = SequenceTagger.load('models/resources_v5/taggers/ner/best-model.pt')\n",
    "\n",
    "un_labelled.loc[:,'annotation'] = un_labelled.loc[:,'prescriber_dosage'].apply(label, args=[model])\n",
    "un_labelled.loc[:,['prescriber_dosage', 'annotation']]"
   ]
  },
  {
   "cell_type": "code",
   "execution_count": 36,
   "metadata": {},
   "outputs": [
    {
     "name": "stdout",
     "output_type": "stream",
     "text": [
      "2022-04-26 15:00:33,881 SequenceTagger predicts: Dictionary with 13 tags: O, S-FREQUENCY, B-FREQUENCY, E-FREQUENCY, I-FREQUENCY, S-QUANTITY, B-QUANTITY, E-QUANTITY, I-QUANTITY, S-MEALTIME, B-MEALTIME, E-MEALTIME, I-MEALTIME\n",
      "2022-04-26 15:00:34,119 ----------------------------------------------------------------------------------------------------\n",
      "2022-04-26 15:00:34,120 Model: \"SequenceTagger(\n",
      "  (embeddings): StackedEmbeddings(\n",
      "    (list_embedding_0): WordEmbeddings(\n",
      "      'glove'\n",
      "      (embedding): Embedding(400001, 100)\n",
      "    )\n",
      "    (list_embedding_1): TransformerWordEmbeddings(\n",
      "      (model): DistilBertModel(\n",
      "        (embeddings): Embeddings(\n",
      "          (word_embeddings): Embedding(30522, 768, padding_idx=0)\n",
      "          (position_embeddings): Embedding(512, 768)\n",
      "          (LayerNorm): LayerNorm((768,), eps=1e-12, elementwise_affine=True)\n",
      "          (dropout): Dropout(p=0.1, inplace=False)\n",
      "        )\n",
      "        (transformer): Transformer(\n",
      "          (layer): ModuleList(\n",
      "            (0): TransformerBlock(\n",
      "              (attention): MultiHeadSelfAttention(\n",
      "                (dropout): Dropout(p=0.1, inplace=False)\n",
      "                (q_lin): Linear(in_features=768, out_features=768, bias=True)\n",
      "                (k_lin): Linear(in_features=768, out_features=768, bias=True)\n",
      "                (v_lin): Linear(in_features=768, out_features=768, bias=True)\n",
      "                (out_lin): Linear(in_features=768, out_features=768, bias=True)\n",
      "              )\n",
      "              (sa_layer_norm): LayerNorm((768,), eps=1e-12, elementwise_affine=True)\n",
      "              (ffn): FFN(\n",
      "                (dropout): Dropout(p=0.1, inplace=False)\n",
      "                (lin1): Linear(in_features=768, out_features=3072, bias=True)\n",
      "                (lin2): Linear(in_features=3072, out_features=768, bias=True)\n",
      "                (activation): GELUActivation()\n",
      "              )\n",
      "              (output_layer_norm): LayerNorm((768,), eps=1e-12, elementwise_affine=True)\n",
      "            )\n",
      "            (1): TransformerBlock(\n",
      "              (attention): MultiHeadSelfAttention(\n",
      "                (dropout): Dropout(p=0.1, inplace=False)\n",
      "                (q_lin): Linear(in_features=768, out_features=768, bias=True)\n",
      "                (k_lin): Linear(in_features=768, out_features=768, bias=True)\n",
      "                (v_lin): Linear(in_features=768, out_features=768, bias=True)\n",
      "                (out_lin): Linear(in_features=768, out_features=768, bias=True)\n",
      "              )\n",
      "              (sa_layer_norm): LayerNorm((768,), eps=1e-12, elementwise_affine=True)\n",
      "              (ffn): FFN(\n",
      "                (dropout): Dropout(p=0.1, inplace=False)\n",
      "                (lin1): Linear(in_features=768, out_features=3072, bias=True)\n",
      "                (lin2): Linear(in_features=3072, out_features=768, bias=True)\n",
      "                (activation): GELUActivation()\n",
      "              )\n",
      "              (output_layer_norm): LayerNorm((768,), eps=1e-12, elementwise_affine=True)\n",
      "            )\n",
      "            (2): TransformerBlock(\n",
      "              (attention): MultiHeadSelfAttention(\n",
      "                (dropout): Dropout(p=0.1, inplace=False)\n",
      "                (q_lin): Linear(in_features=768, out_features=768, bias=True)\n",
      "                (k_lin): Linear(in_features=768, out_features=768, bias=True)\n",
      "                (v_lin): Linear(in_features=768, out_features=768, bias=True)\n",
      "                (out_lin): Linear(in_features=768, out_features=768, bias=True)\n",
      "              )\n",
      "              (sa_layer_norm): LayerNorm((768,), eps=1e-12, elementwise_affine=True)\n",
      "              (ffn): FFN(\n",
      "                (dropout): Dropout(p=0.1, inplace=False)\n",
      "                (lin1): Linear(in_features=768, out_features=3072, bias=True)\n",
      "                (lin2): Linear(in_features=3072, out_features=768, bias=True)\n",
      "                (activation): GELUActivation()\n",
      "              )\n",
      "              (output_layer_norm): LayerNorm((768,), eps=1e-12, elementwise_affine=True)\n",
      "            )\n",
      "            (3): TransformerBlock(\n",
      "              (attention): MultiHeadSelfAttention(\n",
      "                (dropout): Dropout(p=0.1, inplace=False)\n",
      "                (q_lin): Linear(in_features=768, out_features=768, bias=True)\n",
      "                (k_lin): Linear(in_features=768, out_features=768, bias=True)\n",
      "                (v_lin): Linear(in_features=768, out_features=768, bias=True)\n",
      "                (out_lin): Linear(in_features=768, out_features=768, bias=True)\n",
      "              )\n",
      "              (sa_layer_norm): LayerNorm((768,), eps=1e-12, elementwise_affine=True)\n",
      "              (ffn): FFN(\n",
      "                (dropout): Dropout(p=0.1, inplace=False)\n",
      "                (lin1): Linear(in_features=768, out_features=3072, bias=True)\n",
      "                (lin2): Linear(in_features=3072, out_features=768, bias=True)\n",
      "                (activation): GELUActivation()\n",
      "              )\n",
      "              (output_layer_norm): LayerNorm((768,), eps=1e-12, elementwise_affine=True)\n",
      "            )\n",
      "            (4): TransformerBlock(\n",
      "              (attention): MultiHeadSelfAttention(\n",
      "                (dropout): Dropout(p=0.1, inplace=False)\n",
      "                (q_lin): Linear(in_features=768, out_features=768, bias=True)\n",
      "                (k_lin): Linear(in_features=768, out_features=768, bias=True)\n",
      "                (v_lin): Linear(in_features=768, out_features=768, bias=True)\n",
      "                (out_lin): Linear(in_features=768, out_features=768, bias=True)\n",
      "              )\n",
      "              (sa_layer_norm): LayerNorm((768,), eps=1e-12, elementwise_affine=True)\n",
      "              (ffn): FFN(\n",
      "                (dropout): Dropout(p=0.1, inplace=False)\n",
      "                (lin1): Linear(in_features=768, out_features=3072, bias=True)\n",
      "                (lin2): Linear(in_features=3072, out_features=768, bias=True)\n",
      "                (activation): GELUActivation()\n",
      "              )\n",
      "              (output_layer_norm): LayerNorm((768,), eps=1e-12, elementwise_affine=True)\n",
      "            )\n",
      "            (5): TransformerBlock(\n",
      "              (attention): MultiHeadSelfAttention(\n",
      "                (dropout): Dropout(p=0.1, inplace=False)\n",
      "                (q_lin): Linear(in_features=768, out_features=768, bias=True)\n",
      "                (k_lin): Linear(in_features=768, out_features=768, bias=True)\n",
      "                (v_lin): Linear(in_features=768, out_features=768, bias=True)\n",
      "                (out_lin): Linear(in_features=768, out_features=768, bias=True)\n",
      "              )\n",
      "              (sa_layer_norm): LayerNorm((768,), eps=1e-12, elementwise_affine=True)\n",
      "              (ffn): FFN(\n",
      "                (dropout): Dropout(p=0.1, inplace=False)\n",
      "                (lin1): Linear(in_features=768, out_features=3072, bias=True)\n",
      "                (lin2): Linear(in_features=3072, out_features=768, bias=True)\n",
      "                (activation): GELUActivation()\n",
      "              )\n",
      "              (output_layer_norm): LayerNorm((768,), eps=1e-12, elementwise_affine=True)\n",
      "            )\n",
      "          )\n",
      "        )\n",
      "      )\n",
      "    )\n",
      "  )\n",
      "  (word_dropout): WordDropout(p=0.05)\n",
      "  (locked_dropout): LockedDropout(p=0.5)\n",
      "  (embedding2nn): Linear(in_features=868, out_features=868, bias=True)\n",
      "  (rnn): LSTM(868, 256, batch_first=True, bidirectional=True)\n",
      "  (linear): Linear(in_features=512, out_features=15, bias=True)\n",
      "  (loss_function): ViterbiLoss()\n",
      "  (crf): CRF()\n",
      ")\"\n",
      "2022-04-26 15:00:34,121 ----------------------------------------------------------------------------------------------------\n",
      "2022-04-26 15:00:34,121 Corpus: \"Corpus: 1128 train + 188 dev + 188 test sentences\"\n",
      "2022-04-26 15:00:34,122 ----------------------------------------------------------------------------------------------------\n",
      "2022-04-26 15:00:34,122 Parameters:\n",
      "2022-04-26 15:00:34,122  - learning_rate: \"0.100000\"\n",
      "2022-04-26 15:00:34,123  - mini_batch_size: \"32\"\n",
      "2022-04-26 15:00:34,123  - patience: \"3\"\n",
      "2022-04-26 15:00:34,124  - anneal_factor: \"0.5\"\n",
      "2022-04-26 15:00:34,124  - max_epochs: \"150\"\n",
      "2022-04-26 15:00:34,124  - shuffle: \"True\"\n",
      "2022-04-26 15:00:34,125  - train_with_dev: \"False\"\n",
      "2022-04-26 15:00:34,126  - batch_growth_annealing: \"False\"\n",
      "2022-04-26 15:00:34,128 ----------------------------------------------------------------------------------------------------\n"
     ]
    },
    {
     "name": "stderr",
     "output_type": "stream",
     "text": [
      "/opt/anaconda3/envs/mercury/lib/python3.9/site-packages/flair/trainers/trainer.py:64: UserWarning: There should be no best model saved at epoch 1 except there is a model from previous trainings in your training folder. All previous best models will be deleted.\n",
      "  warnings.warn(\n"
     ]
    },
    {
     "name": "stdout",
     "output_type": "stream",
     "text": [
      "2022-04-26 15:00:34,128 Model training base path: \"models/resources_v6/taggers/ner\"\n",
      "2022-04-26 15:00:34,129 ----------------------------------------------------------------------------------------------------\n",
      "2022-04-26 15:00:34,129 Device: cpu\n",
      "2022-04-26 15:00:34,129 ----------------------------------------------------------------------------------------------------\n",
      "2022-04-26 15:00:34,130 Embeddings storage mode: cpu\n",
      "2022-04-26 15:00:34,130 ----------------------------------------------------------------------------------------------------\n",
      "2022-04-26 15:00:51,549 epoch 1 - iter 3/36 - loss 3.19464183 - samples/sec: 5.51 - lr: 0.100000\n",
      "2022-04-26 15:01:12,818 epoch 1 - iter 6/36 - loss 2.73310946 - samples/sec: 4.51 - lr: 0.100000\n",
      "2022-04-26 15:01:28,451 epoch 1 - iter 9/36 - loss 2.54240961 - samples/sec: 6.14 - lr: 0.100000\n",
      "2022-04-26 15:01:46,649 epoch 1 - iter 12/36 - loss 2.40311191 - samples/sec: 5.28 - lr: 0.100000\n",
      "2022-04-26 15:02:07,575 epoch 1 - iter 15/36 - loss 2.24038713 - samples/sec: 4.59 - lr: 0.100000\n",
      "2022-04-26 15:02:25,802 epoch 1 - iter 18/36 - loss 2.10498067 - samples/sec: 5.27 - lr: 0.100000\n",
      "2022-04-26 15:02:43,147 epoch 1 - iter 21/36 - loss 2.00579131 - samples/sec: 5.54 - lr: 0.100000\n",
      "2022-04-26 15:03:00,482 epoch 1 - iter 24/36 - loss 1.88199234 - samples/sec: 5.54 - lr: 0.100000\n",
      "2022-04-26 15:03:25,080 epoch 1 - iter 27/36 - loss 1.78184595 - samples/sec: 3.90 - lr: 0.100000\n",
      "2022-04-26 15:03:44,806 epoch 1 - iter 30/36 - loss 1.71307337 - samples/sec: 4.87 - lr: 0.100000\n",
      "2022-04-26 15:04:02,955 epoch 1 - iter 33/36 - loss 1.62588009 - samples/sec: 5.29 - lr: 0.100000\n",
      "2022-04-26 15:04:13,689 epoch 1 - iter 36/36 - loss 1.57068010 - samples/sec: 8.94 - lr: 0.100000\n",
      "2022-04-26 15:04:13,691 ----------------------------------------------------------------------------------------------------\n",
      "2022-04-26 15:04:13,691 EPOCH 1 done: loss 1.5707 - lr 0.100000\n"
     ]
    },
    {
     "name": "stderr",
     "output_type": "stream",
     "text": [
      "100%|██████████| 6/6 [00:14<00:00,  2.39s/it]"
     ]
    },
    {
     "name": "stdout",
     "output_type": "stream",
     "text": [
      "2022-04-26 15:04:28,009 Evaluating as a multi-label problem: False\n",
      "2022-04-26 15:04:28,016 DEV : loss 0.4542114734649658 - f1-score (micro avg)  0.7701\n"
     ]
    },
    {
     "name": "stderr",
     "output_type": "stream",
     "text": [
      "\n",
      "100%|██████████| 6/6 [00:13<00:00,  2.22s/it]"
     ]
    },
    {
     "name": "stdout",
     "output_type": "stream",
     "text": [
      "2022-04-26 15:04:41,316 Evaluating as a multi-label problem: False\n",
      "2022-04-26 15:04:41,322 TEST : loss 0.5353717803955078 - f1-score (micro avg)  0.7205\n",
      "2022-04-26 15:04:41,326 BAD EPOCHS (no improvement): 0\n",
      "2022-04-26 15:04:41,327 saving best model\n"
     ]
    },
    {
     "name": "stderr",
     "output_type": "stream",
     "text": [
      "\n"
     ]
    },
    {
     "name": "stdout",
     "output_type": "stream",
     "text": [
      "2022-04-26 15:04:42,451 ----------------------------------------------------------------------------------------------------\n",
      "2022-04-26 15:05:02,337 epoch 2 - iter 3/36 - loss 0.68104070 - samples/sec: 4.83 - lr: 0.100000\n",
      "2022-04-26 15:05:22,989 epoch 2 - iter 6/36 - loss 0.60168497 - samples/sec: 4.65 - lr: 0.100000\n",
      "2022-04-26 15:05:44,466 epoch 2 - iter 9/36 - loss 0.54647139 - samples/sec: 4.47 - lr: 0.100000\n",
      "2022-04-26 15:06:10,348 epoch 2 - iter 12/36 - loss 0.54012946 - samples/sec: 3.71 - lr: 0.100000\n",
      "2022-04-26 15:06:30,406 epoch 2 - iter 15/36 - loss 0.54932113 - samples/sec: 4.79 - lr: 0.100000\n",
      "2022-04-26 15:06:43,115 epoch 2 - iter 18/36 - loss 0.55293207 - samples/sec: 7.55 - lr: 0.100000\n",
      "2022-04-26 15:07:00,907 epoch 2 - iter 21/36 - loss 0.53926615 - samples/sec: 5.40 - lr: 0.100000\n",
      "2022-04-26 15:07:17,976 epoch 2 - iter 24/36 - loss 0.52568225 - samples/sec: 5.62 - lr: 0.100000\n",
      "2022-04-26 15:07:37,008 epoch 2 - iter 27/36 - loss 0.51714882 - samples/sec: 5.04 - lr: 0.100000\n",
      "2022-04-26 15:07:59,935 epoch 2 - iter 30/36 - loss 0.51162628 - samples/sec: 4.19 - lr: 0.100000\n",
      "2022-04-26 15:08:16,171 epoch 2 - iter 33/36 - loss 0.50048066 - samples/sec: 5.91 - lr: 0.100000\n",
      "2022-04-26 15:08:31,139 epoch 2 - iter 36/36 - loss 0.49831490 - samples/sec: 6.41 - lr: 0.100000\n",
      "2022-04-26 15:08:31,140 ----------------------------------------------------------------------------------------------------\n",
      "2022-04-26 15:08:31,140 EPOCH 2 done: loss 0.4983 - lr 0.100000\n"
     ]
    },
    {
     "name": "stderr",
     "output_type": "stream",
     "text": [
      "100%|██████████| 6/6 [00:14<00:00,  2.41s/it]"
     ]
    },
    {
     "name": "stdout",
     "output_type": "stream",
     "text": [
      "2022-04-26 15:08:45,585 Evaluating as a multi-label problem: False\n",
      "2022-04-26 15:08:45,592 DEV : loss 0.30739548802375793 - f1-score (micro avg)  0.912\n"
     ]
    },
    {
     "name": "stderr",
     "output_type": "stream",
     "text": [
      "\n",
      "100%|██████████| 6/6 [00:13<00:00,  2.23s/it]"
     ]
    },
    {
     "name": "stdout",
     "output_type": "stream",
     "text": [
      "2022-04-26 15:08:58,985 Evaluating as a multi-label problem: False\n",
      "2022-04-26 15:08:58,991 TEST : loss 0.3073955178260803 - f1-score (micro avg)  0.9091\n",
      "2022-04-26 15:08:58,995 BAD EPOCHS (no improvement): 0\n",
      "2022-04-26 15:08:58,996 saving best model\n"
     ]
    },
    {
     "name": "stderr",
     "output_type": "stream",
     "text": [
      "\n"
     ]
    },
    {
     "name": "stdout",
     "output_type": "stream",
     "text": [
      "2022-04-26 15:09:00,276 ----------------------------------------------------------------------------------------------------\n",
      "2022-04-26 15:09:21,910 epoch 3 - iter 3/36 - loss 0.40148656 - samples/sec: 4.44 - lr: 0.100000\n",
      "2022-04-26 15:09:42,849 epoch 3 - iter 6/36 - loss 0.37775806 - samples/sec: 4.59 - lr: 0.100000\n",
      "2022-04-26 15:09:59,146 epoch 3 - iter 9/36 - loss 0.37995863 - samples/sec: 5.89 - lr: 0.100000\n",
      "2022-04-26 15:10:17,254 epoch 3 - iter 12/36 - loss 0.38088203 - samples/sec: 5.30 - lr: 0.100000\n",
      "2022-04-26 15:10:36,937 epoch 3 - iter 15/36 - loss 0.36867891 - samples/sec: 4.88 - lr: 0.100000\n",
      "2022-04-26 15:10:55,243 epoch 3 - iter 18/36 - loss 0.36636941 - samples/sec: 5.24 - lr: 0.100000\n",
      "2022-04-26 15:11:12,975 epoch 3 - iter 21/36 - loss 0.35999152 - samples/sec: 5.41 - lr: 0.100000\n",
      "2022-04-26 15:11:33,685 epoch 3 - iter 24/36 - loss 0.35379483 - samples/sec: 4.64 - lr: 0.100000\n",
      "2022-04-26 15:11:49,587 epoch 3 - iter 27/36 - loss 0.35378566 - samples/sec: 6.04 - lr: 0.100000\n",
      "2022-04-26 15:12:10,336 epoch 3 - iter 30/36 - loss 0.34682512 - samples/sec: 4.63 - lr: 0.100000\n",
      "2022-04-26 15:12:30,554 epoch 3 - iter 33/36 - loss 0.34097078 - samples/sec: 4.75 - lr: 0.100000\n",
      "2022-04-26 15:12:43,478 epoch 3 - iter 36/36 - loss 0.33876461 - samples/sec: 7.43 - lr: 0.100000\n",
      "2022-04-26 15:12:43,480 ----------------------------------------------------------------------------------------------------\n",
      "2022-04-26 15:12:43,480 EPOCH 3 done: loss 0.3388 - lr 0.100000\n"
     ]
    },
    {
     "name": "stderr",
     "output_type": "stream",
     "text": [
      "100%|██████████| 6/6 [00:14<00:00,  2.36s/it]"
     ]
    },
    {
     "name": "stdout",
     "output_type": "stream",
     "text": [
      "2022-04-26 15:12:57,629 Evaluating as a multi-label problem: False\n",
      "2022-04-26 15:12:57,636 DEV : loss 0.24687832593917847 - f1-score (micro avg)  0.9088\n"
     ]
    },
    {
     "name": "stderr",
     "output_type": "stream",
     "text": [
      "\n",
      "100%|██████████| 6/6 [00:13<00:00,  2.20s/it]"
     ]
    },
    {
     "name": "stdout",
     "output_type": "stream",
     "text": [
      "2022-04-26 15:13:10,830 Evaluating as a multi-label problem: False\n",
      "2022-04-26 15:13:10,835 TEST : loss 0.26444166898727417 - f1-score (micro avg)  0.8924\n",
      "2022-04-26 15:13:10,840 BAD EPOCHS (no improvement): 1\n",
      "2022-04-26 15:13:10,841 ----------------------------------------------------------------------------------------------------\n"
     ]
    },
    {
     "name": "stderr",
     "output_type": "stream",
     "text": [
      "\n"
     ]
    },
    {
     "name": "stdout",
     "output_type": "stream",
     "text": [
      "2022-04-26 15:13:27,597 epoch 4 - iter 3/36 - loss 0.32255729 - samples/sec: 5.73 - lr: 0.100000\n",
      "2022-04-26 15:13:46,496 epoch 4 - iter 6/36 - loss 0.31651361 - samples/sec: 5.08 - lr: 0.100000\n",
      "2022-04-26 15:14:09,344 epoch 4 - iter 9/36 - loss 0.29038884 - samples/sec: 4.20 - lr: 0.100000\n",
      "2022-04-26 15:14:26,919 epoch 4 - iter 12/36 - loss 0.27692528 - samples/sec: 5.46 - lr: 0.100000\n",
      "2022-04-26 15:14:43,493 epoch 4 - iter 15/36 - loss 0.26767952 - samples/sec: 5.79 - lr: 0.100000\n",
      "2022-04-26 15:15:03,095 epoch 4 - iter 18/36 - loss 0.26277589 - samples/sec: 4.90 - lr: 0.100000\n",
      "2022-04-26 15:15:17,830 epoch 4 - iter 21/36 - loss 0.26665661 - samples/sec: 6.52 - lr: 0.100000\n",
      "2022-04-26 15:15:34,000 epoch 4 - iter 24/36 - loss 0.26705372 - samples/sec: 5.94 - lr: 0.100000\n",
      "2022-04-26 15:15:51,933 epoch 4 - iter 27/36 - loss 0.25857917 - samples/sec: 5.35 - lr: 0.100000\n",
      "2022-04-26 15:16:14,488 epoch 4 - iter 30/36 - loss 0.25973355 - samples/sec: 4.26 - lr: 0.100000\n",
      "2022-04-26 15:16:35,344 epoch 4 - iter 33/36 - loss 0.25534197 - samples/sec: 4.60 - lr: 0.100000\n",
      "2022-04-26 15:16:50,272 epoch 4 - iter 36/36 - loss 0.25136478 - samples/sec: 6.43 - lr: 0.100000\n",
      "2022-04-26 15:16:50,273 ----------------------------------------------------------------------------------------------------\n",
      "2022-04-26 15:16:50,274 EPOCH 4 done: loss 0.2514 - lr 0.100000\n"
     ]
    },
    {
     "name": "stderr",
     "output_type": "stream",
     "text": [
      "100%|██████████| 6/6 [00:14<00:00,  2.36s/it]"
     ]
    },
    {
     "name": "stdout",
     "output_type": "stream",
     "text": [
      "2022-04-26 15:17:04,434 Evaluating as a multi-label problem: False\n",
      "2022-04-26 15:17:04,440 DEV : loss 0.2142743319272995 - f1-score (micro avg)  0.9164\n"
     ]
    },
    {
     "name": "stderr",
     "output_type": "stream",
     "text": [
      "\n",
      "100%|██████████| 6/6 [00:13<00:00,  2.20s/it]"
     ]
    },
    {
     "name": "stdout",
     "output_type": "stream",
     "text": [
      "2022-04-26 15:17:17,658 Evaluating as a multi-label problem: False\n",
      "2022-04-26 15:17:17,663 TEST : loss 0.2178850919008255 - f1-score (micro avg)  0.905\n",
      "2022-04-26 15:17:17,668 BAD EPOCHS (no improvement): 0\n",
      "2022-04-26 15:17:17,668 saving best model\n"
     ]
    },
    {
     "name": "stderr",
     "output_type": "stream",
     "text": [
      "\n"
     ]
    },
    {
     "name": "stdout",
     "output_type": "stream",
     "text": [
      "2022-04-26 15:17:18,806 ----------------------------------------------------------------------------------------------------\n",
      "2022-04-26 15:17:42,915 epoch 5 - iter 3/36 - loss 0.23232975 - samples/sec: 3.98 - lr: 0.100000\n",
      "2022-04-26 15:18:03,048 epoch 5 - iter 6/36 - loss 0.20056472 - samples/sec: 4.77 - lr: 0.100000\n",
      "2022-04-26 15:18:19,218 epoch 5 - iter 9/36 - loss 0.21461320 - samples/sec: 5.94 - lr: 0.100000\n",
      "2022-04-26 15:18:38,365 epoch 5 - iter 12/36 - loss 0.21781571 - samples/sec: 5.01 - lr: 0.100000\n",
      "2022-04-26 15:18:57,474 epoch 5 - iter 15/36 - loss 0.22551186 - samples/sec: 5.02 - lr: 0.100000\n",
      "2022-04-26 15:19:19,514 epoch 5 - iter 18/36 - loss 0.22545359 - samples/sec: 4.36 - lr: 0.100000\n",
      "2022-04-26 15:19:42,340 epoch 5 - iter 21/36 - loss 0.22332034 - samples/sec: 4.21 - lr: 0.100000\n",
      "2022-04-26 15:19:59,670 epoch 5 - iter 24/36 - loss 0.21523933 - samples/sec: 5.54 - lr: 0.100000\n",
      "2022-04-26 15:20:17,207 epoch 5 - iter 27/36 - loss 0.21511743 - samples/sec: 5.47 - lr: 0.100000\n",
      "2022-04-26 15:20:32,960 epoch 5 - iter 30/36 - loss 0.20734334 - samples/sec: 6.09 - lr: 0.100000\n",
      "2022-04-26 15:20:51,108 epoch 5 - iter 33/36 - loss 0.20579017 - samples/sec: 5.29 - lr: 0.100000\n",
      "2022-04-26 15:21:06,631 epoch 5 - iter 36/36 - loss 0.20892174 - samples/sec: 6.18 - lr: 0.100000\n",
      "2022-04-26 15:21:06,632 ----------------------------------------------------------------------------------------------------\n",
      "2022-04-26 15:21:06,633 EPOCH 5 done: loss 0.2089 - lr 0.100000\n"
     ]
    },
    {
     "name": "stderr",
     "output_type": "stream",
     "text": [
      "100%|██████████| 6/6 [00:14<00:00,  2.37s/it]"
     ]
    },
    {
     "name": "stdout",
     "output_type": "stream",
     "text": [
      "2022-04-26 15:21:20,844 Evaluating as a multi-label problem: False\n",
      "2022-04-26 15:21:20,851 DEV : loss 0.19397738575935364 - f1-score (micro avg)  0.9199\n"
     ]
    },
    {
     "name": "stderr",
     "output_type": "stream",
     "text": [
      "\n",
      "100%|██████████| 6/6 [00:13<00:00,  2.20s/it]"
     ]
    },
    {
     "name": "stdout",
     "output_type": "stream",
     "text": [
      "2022-04-26 15:21:34,047 Evaluating as a multi-label problem: False\n",
      "2022-04-26 15:21:34,052 TEST : loss 0.19567632675170898 - f1-score (micro avg)  0.9149\n",
      "2022-04-26 15:21:34,057 BAD EPOCHS (no improvement): 0\n",
      "2022-04-26 15:21:34,058 saving best model\n"
     ]
    },
    {
     "name": "stderr",
     "output_type": "stream",
     "text": [
      "\n"
     ]
    },
    {
     "name": "stdout",
     "output_type": "stream",
     "text": [
      "2022-04-26 15:21:35,257 ----------------------------------------------------------------------------------------------------\n",
      "2022-04-26 15:21:57,603 epoch 6 - iter 3/36 - loss 0.20909936 - samples/sec: 4.30 - lr: 0.100000\n",
      "2022-04-26 15:22:16,288 epoch 6 - iter 6/36 - loss 0.20451351 - samples/sec: 5.14 - lr: 0.100000\n",
      "2022-04-26 15:22:32,414 epoch 6 - iter 9/36 - loss 0.17996741 - samples/sec: 5.95 - lr: 0.100000\n",
      "2022-04-26 15:22:50,930 epoch 6 - iter 12/36 - loss 0.17165675 - samples/sec: 5.18 - lr: 0.100000\n",
      "2022-04-26 15:23:08,042 epoch 6 - iter 15/36 - loss 0.16981154 - samples/sec: 5.61 - lr: 0.100000\n",
      "2022-04-26 15:23:24,981 epoch 6 - iter 18/36 - loss 0.16318151 - samples/sec: 5.67 - lr: 0.100000\n",
      "2022-04-26 15:23:45,319 epoch 6 - iter 21/36 - loss 0.16470720 - samples/sec: 4.72 - lr: 0.100000\n",
      "2022-04-26 15:24:02,014 epoch 6 - iter 24/36 - loss 0.17129544 - samples/sec: 5.75 - lr: 0.100000\n",
      "2022-04-26 15:24:23,115 epoch 6 - iter 27/36 - loss 0.17357336 - samples/sec: 4.55 - lr: 0.100000\n",
      "2022-04-26 15:24:40,762 epoch 6 - iter 30/36 - loss 0.17257358 - samples/sec: 5.44 - lr: 0.100000\n",
      "2022-04-26 15:25:01,440 epoch 6 - iter 33/36 - loss 0.17486460 - samples/sec: 4.64 - lr: 0.100000\n",
      "2022-04-26 15:25:17,522 epoch 6 - iter 36/36 - loss 0.17668832 - samples/sec: 5.97 - lr: 0.100000\n",
      "2022-04-26 15:25:17,523 ----------------------------------------------------------------------------------------------------\n",
      "2022-04-26 15:25:17,523 EPOCH 6 done: loss 0.1767 - lr 0.100000\n"
     ]
    },
    {
     "name": "stderr",
     "output_type": "stream",
     "text": [
      "100%|██████████| 6/6 [00:14<00:00,  2.36s/it]"
     ]
    },
    {
     "name": "stdout",
     "output_type": "stream",
     "text": [
      "2022-04-26 15:25:31,693 Evaluating as a multi-label problem: False\n",
      "2022-04-26 15:25:31,700 DEV : loss 0.2219754159450531 - f1-score (micro avg)  0.9326\n"
     ]
    },
    {
     "name": "stderr",
     "output_type": "stream",
     "text": [
      "\n",
      "100%|██████████| 6/6 [00:13<00:00,  2.20s/it]"
     ]
    },
    {
     "name": "stdout",
     "output_type": "stream",
     "text": [
      "2022-04-26 15:25:44,918 Evaluating as a multi-label problem: False\n",
      "2022-04-26 15:25:44,924 TEST : loss 0.19345927238464355 - f1-score (micro avg)  0.9306\n",
      "2022-04-26 15:25:44,928 BAD EPOCHS (no improvement): 0\n",
      "2022-04-26 15:25:44,929 saving best model\n"
     ]
    },
    {
     "name": "stderr",
     "output_type": "stream",
     "text": [
      "\n"
     ]
    },
    {
     "name": "stdout",
     "output_type": "stream",
     "text": [
      "2022-04-26 15:25:46,150 ----------------------------------------------------------------------------------------------------\n",
      "2022-04-26 15:26:07,454 epoch 7 - iter 3/36 - loss 0.14625080 - samples/sec: 4.51 - lr: 0.100000\n",
      "2022-04-26 15:26:24,255 epoch 7 - iter 6/36 - loss 0.13155226 - samples/sec: 5.71 - lr: 0.100000\n",
      "2022-04-26 15:26:38,124 epoch 7 - iter 9/36 - loss 0.16350692 - samples/sec: 6.92 - lr: 0.100000\n",
      "2022-04-26 15:26:55,228 epoch 7 - iter 12/36 - loss 0.16693096 - samples/sec: 5.61 - lr: 0.100000\n",
      "2022-04-26 15:27:14,416 epoch 7 - iter 15/36 - loss 0.16367007 - samples/sec: 5.00 - lr: 0.100000\n",
      "2022-04-26 15:27:32,745 epoch 7 - iter 18/36 - loss 0.16364058 - samples/sec: 5.24 - lr: 0.100000\n",
      "2022-04-26 15:27:52,915 epoch 7 - iter 21/36 - loss 0.15147859 - samples/sec: 4.76 - lr: 0.100000\n",
      "2022-04-26 15:28:13,491 epoch 7 - iter 24/36 - loss 0.14504215 - samples/sec: 4.67 - lr: 0.100000\n",
      "2022-04-26 15:28:36,180 epoch 7 - iter 27/36 - loss 0.14505950 - samples/sec: 4.23 - lr: 0.100000\n",
      "2022-04-26 15:28:57,581 epoch 7 - iter 30/36 - loss 0.14653188 - samples/sec: 4.49 - lr: 0.100000\n",
      "2022-04-26 15:29:18,667 epoch 7 - iter 33/36 - loss 0.15166229 - samples/sec: 4.55 - lr: 0.100000\n",
      "2022-04-26 15:29:32,182 epoch 7 - iter 36/36 - loss 0.15334672 - samples/sec: 7.10 - lr: 0.100000\n",
      "2022-04-26 15:29:32,183 ----------------------------------------------------------------------------------------------------\n",
      "2022-04-26 15:29:32,183 EPOCH 7 done: loss 0.1533 - lr 0.100000\n"
     ]
    },
    {
     "name": "stderr",
     "output_type": "stream",
     "text": [
      "100%|██████████| 6/6 [00:14<00:00,  2.37s/it]"
     ]
    },
    {
     "name": "stdout",
     "output_type": "stream",
     "text": [
      "2022-04-26 15:29:46,402 Evaluating as a multi-label problem: False\n",
      "2022-04-26 15:29:46,409 DEV : loss 0.19301261007785797 - f1-score (micro avg)  0.9337\n"
     ]
    },
    {
     "name": "stderr",
     "output_type": "stream",
     "text": [
      "\n",
      "100%|██████████| 6/6 [00:13<00:00,  2.22s/it]"
     ]
    },
    {
     "name": "stdout",
     "output_type": "stream",
     "text": [
      "2022-04-26 15:29:59,713 Evaluating as a multi-label problem: False\n",
      "2022-04-26 15:29:59,719 TEST : loss 0.22436150908470154 - f1-score (micro avg)  0.9094\n",
      "2022-04-26 15:29:59,723 BAD EPOCHS (no improvement): 0\n",
      "2022-04-26 15:29:59,724 saving best model\n"
     ]
    },
    {
     "name": "stderr",
     "output_type": "stream",
     "text": [
      "\n"
     ]
    },
    {
     "name": "stdout",
     "output_type": "stream",
     "text": [
      "2022-04-26 15:30:01,041 ----------------------------------------------------------------------------------------------------\n",
      "2022-04-26 15:30:20,253 epoch 8 - iter 3/36 - loss 0.15037261 - samples/sec: 5.00 - lr: 0.100000\n",
      "2022-04-26 15:30:39,941 epoch 8 - iter 6/36 - loss 0.13208330 - samples/sec: 4.88 - lr: 0.100000\n",
      "2022-04-26 15:31:03,331 epoch 8 - iter 9/36 - loss 0.12774179 - samples/sec: 4.10 - lr: 0.100000\n",
      "2022-04-26 15:31:21,360 epoch 8 - iter 12/36 - loss 0.13282876 - samples/sec: 5.33 - lr: 0.100000\n",
      "2022-04-26 15:31:44,039 epoch 8 - iter 15/36 - loss 0.13515365 - samples/sec: 4.23 - lr: 0.100000\n",
      "2022-04-26 15:32:04,550 epoch 8 - iter 18/36 - loss 0.13129307 - samples/sec: 4.68 - lr: 0.100000\n",
      "2022-04-26 15:32:17,223 epoch 8 - iter 21/36 - loss 0.13439748 - samples/sec: 7.58 - lr: 0.100000\n",
      "2022-04-26 15:32:37,197 epoch 8 - iter 24/36 - loss 0.13624629 - samples/sec: 4.81 - lr: 0.100000\n",
      "2022-04-26 15:32:57,814 epoch 8 - iter 27/36 - loss 0.13726978 - samples/sec: 4.66 - lr: 0.100000\n",
      "2022-04-26 15:33:15,329 epoch 8 - iter 30/36 - loss 0.13734439 - samples/sec: 5.48 - lr: 0.100000\n",
      "2022-04-26 15:33:38,400 epoch 8 - iter 33/36 - loss 0.13419872 - samples/sec: 4.16 - lr: 0.100000\n",
      "2022-04-26 15:33:49,092 epoch 8 - iter 36/36 - loss 0.13621283 - samples/sec: 8.98 - lr: 0.100000\n",
      "2022-04-26 15:33:49,093 ----------------------------------------------------------------------------------------------------\n",
      "2022-04-26 15:33:49,094 EPOCH 8 done: loss 0.1362 - lr 0.100000\n"
     ]
    },
    {
     "name": "stderr",
     "output_type": "stream",
     "text": [
      "100%|██████████| 6/6 [00:14<00:00,  2.37s/it]"
     ]
    },
    {
     "name": "stdout",
     "output_type": "stream",
     "text": [
      "2022-04-26 15:34:03,345 Evaluating as a multi-label problem: False\n",
      "2022-04-26 15:34:03,351 DEV : loss 0.21816618740558624 - f1-score (micro avg)  0.9231\n"
     ]
    },
    {
     "name": "stderr",
     "output_type": "stream",
     "text": [
      "\n",
      "100%|██████████| 6/6 [00:13<00:00,  2.24s/it]"
     ]
    },
    {
     "name": "stdout",
     "output_type": "stream",
     "text": [
      "2022-04-26 15:34:16,783 Evaluating as a multi-label problem: False\n",
      "2022-04-26 15:34:16,789 TEST : loss 0.1948963850736618 - f1-score (micro avg)  0.9235\n",
      "2022-04-26 15:34:16,793 BAD EPOCHS (no improvement): 1\n",
      "2022-04-26 15:34:16,794 ----------------------------------------------------------------------------------------------------\n"
     ]
    },
    {
     "name": "stderr",
     "output_type": "stream",
     "text": [
      "\n"
     ]
    },
    {
     "name": "stdout",
     "output_type": "stream",
     "text": [
      "2022-04-26 15:34:35,792 epoch 9 - iter 3/36 - loss 0.21906942 - samples/sec: 5.05 - lr: 0.100000\n",
      "2022-04-26 15:34:57,948 epoch 9 - iter 6/36 - loss 0.18523352 - samples/sec: 4.33 - lr: 0.100000\n",
      "2022-04-26 15:35:15,724 epoch 9 - iter 9/36 - loss 0.16531137 - samples/sec: 5.40 - lr: 0.100000\n",
      "2022-04-26 15:35:32,644 epoch 9 - iter 12/36 - loss 0.16570139 - samples/sec: 5.67 - lr: 0.100000\n",
      "2022-04-26 15:35:51,082 epoch 9 - iter 15/36 - loss 0.15111302 - samples/sec: 5.21 - lr: 0.100000\n",
      "2022-04-26 15:36:08,618 epoch 9 - iter 18/36 - loss 0.15105072 - samples/sec: 5.48 - lr: 0.100000\n",
      "2022-04-26 15:36:24,462 epoch 9 - iter 21/36 - loss 0.14062318 - samples/sec: 6.06 - lr: 0.100000\n",
      "2022-04-26 15:36:45,376 epoch 9 - iter 24/36 - loss 0.13951313 - samples/sec: 4.59 - lr: 0.100000\n",
      "2022-04-26 15:37:08,678 epoch 9 - iter 27/36 - loss 0.13278069 - samples/sec: 4.12 - lr: 0.100000\n",
      "2022-04-26 15:37:23,917 epoch 9 - iter 30/36 - loss 0.12739220 - samples/sec: 6.30 - lr: 0.100000\n",
      "2022-04-26 15:37:43,738 epoch 9 - iter 33/36 - loss 0.12279666 - samples/sec: 4.84 - lr: 0.100000\n",
      "2022-04-26 15:37:58,708 epoch 9 - iter 36/36 - loss 0.12119963 - samples/sec: 6.41 - lr: 0.100000\n",
      "2022-04-26 15:37:58,710 ----------------------------------------------------------------------------------------------------\n",
      "2022-04-26 15:37:58,710 EPOCH 9 done: loss 0.1212 - lr 0.100000\n"
     ]
    },
    {
     "name": "stderr",
     "output_type": "stream",
     "text": [
      "100%|██████████| 6/6 [00:14<00:00,  2.38s/it]"
     ]
    },
    {
     "name": "stdout",
     "output_type": "stream",
     "text": [
      "2022-04-26 15:38:12,979 Evaluating as a multi-label problem: False\n",
      "2022-04-26 15:38:12,986 DEV : loss 0.21542587876319885 - f1-score (micro avg)  0.9316\n"
     ]
    },
    {
     "name": "stderr",
     "output_type": "stream",
     "text": [
      "\n",
      "100%|██████████| 6/6 [00:13<00:00,  2.21s/it]"
     ]
    },
    {
     "name": "stdout",
     "output_type": "stream",
     "text": [
      "2022-04-26 15:38:26,262 Evaluating as a multi-label problem: False\n",
      "2022-04-26 15:38:26,267 TEST : loss 0.23563452064990997 - f1-score (micro avg)  0.9094\n",
      "2022-04-26 15:38:26,272 BAD EPOCHS (no improvement): 2\n",
      "2022-04-26 15:38:26,272 ----------------------------------------------------------------------------------------------------\n"
     ]
    },
    {
     "name": "stderr",
     "output_type": "stream",
     "text": [
      "\n"
     ]
    },
    {
     "name": "stdout",
     "output_type": "stream",
     "text": [
      "2022-04-26 15:38:47,560 epoch 10 - iter 3/36 - loss 0.24453706 - samples/sec: 4.51 - lr: 0.100000\n",
      "2022-04-26 15:39:07,833 epoch 10 - iter 6/36 - loss 0.19418746 - samples/sec: 4.74 - lr: 0.100000\n",
      "2022-04-26 15:39:25,330 epoch 10 - iter 9/36 - loss 0.16326155 - samples/sec: 5.49 - lr: 0.100000\n",
      "2022-04-26 15:39:43,902 epoch 10 - iter 12/36 - loss 0.15101679 - samples/sec: 5.17 - lr: 0.100000\n",
      "2022-04-26 15:40:02,397 epoch 10 - iter 15/36 - loss 0.13900421 - samples/sec: 5.19 - lr: 0.100000\n",
      "2022-04-26 15:40:24,243 epoch 10 - iter 18/36 - loss 0.13026031 - samples/sec: 4.39 - lr: 0.100000\n",
      "2022-04-26 15:40:45,824 epoch 10 - iter 21/36 - loss 0.11873455 - samples/sec: 4.45 - lr: 0.100000\n",
      "2022-04-26 15:41:07,345 epoch 10 - iter 24/36 - loss 0.11909081 - samples/sec: 4.46 - lr: 0.100000\n",
      "2022-04-26 15:41:21,503 epoch 10 - iter 27/36 - loss 0.12191872 - samples/sec: 6.78 - lr: 0.100000\n",
      "2022-04-26 15:41:40,267 epoch 10 - iter 30/36 - loss 0.11524252 - samples/sec: 5.12 - lr: 0.100000\n",
      "2022-04-26 15:41:58,897 epoch 10 - iter 33/36 - loss 0.11268864 - samples/sec: 5.15 - lr: 0.100000\n",
      "2022-04-26 15:42:15,243 epoch 10 - iter 36/36 - loss 0.11220970 - samples/sec: 5.87 - lr: 0.100000\n",
      "2022-04-26 15:42:15,244 ----------------------------------------------------------------------------------------------------\n",
      "2022-04-26 15:42:15,244 EPOCH 10 done: loss 0.1122 - lr 0.100000\n"
     ]
    },
    {
     "name": "stderr",
     "output_type": "stream",
     "text": [
      "100%|██████████| 6/6 [00:14<00:00,  2.36s/it]"
     ]
    },
    {
     "name": "stdout",
     "output_type": "stream",
     "text": [
      "2022-04-26 15:42:29,397 Evaluating as a multi-label problem: False\n",
      "2022-04-26 15:42:29,403 DEV : loss 0.25337469577789307 - f1-score (micro avg)  0.902\n"
     ]
    },
    {
     "name": "stderr",
     "output_type": "stream",
     "text": [
      "\n",
      "100%|██████████| 6/6 [00:13<00:00,  2.20s/it]"
     ]
    },
    {
     "name": "stdout",
     "output_type": "stream",
     "text": [
      "2022-04-26 15:42:42,631 Evaluating as a multi-label problem: False\n",
      "2022-04-26 15:42:42,636 TEST : loss 0.2693285048007965 - f1-score (micro avg)  0.901\n",
      "2022-04-26 15:42:42,641 BAD EPOCHS (no improvement): 3\n",
      "2022-04-26 15:42:42,642 ----------------------------------------------------------------------------------------------------\n"
     ]
    },
    {
     "name": "stderr",
     "output_type": "stream",
     "text": [
      "\n"
     ]
    },
    {
     "name": "stdout",
     "output_type": "stream",
     "text": [
      "2022-04-26 15:42:58,077 epoch 11 - iter 3/36 - loss 0.08450690 - samples/sec: 6.22 - lr: 0.100000\n",
      "2022-04-26 15:43:18,931 epoch 11 - iter 6/36 - loss 0.08954277 - samples/sec: 4.60 - lr: 0.100000\n",
      "2022-04-26 15:43:40,863 epoch 11 - iter 9/36 - loss 0.09520109 - samples/sec: 4.38 - lr: 0.100000\n",
      "2022-04-26 15:43:58,932 epoch 11 - iter 12/36 - loss 0.11638145 - samples/sec: 5.31 - lr: 0.100000\n",
      "2022-04-26 15:44:18,709 epoch 11 - iter 15/36 - loss 0.12039822 - samples/sec: 4.85 - lr: 0.100000\n",
      "2022-04-26 15:44:41,695 epoch 11 - iter 18/36 - loss 0.11657604 - samples/sec: 4.18 - lr: 0.100000\n",
      "2022-04-26 15:44:58,971 epoch 11 - iter 21/36 - loss 0.11685236 - samples/sec: 5.56 - lr: 0.100000\n",
      "2022-04-26 15:45:17,106 epoch 11 - iter 24/36 - loss 0.12024960 - samples/sec: 5.29 - lr: 0.100000\n",
      "2022-04-26 15:45:36,873 epoch 11 - iter 27/36 - loss 0.11768292 - samples/sec: 4.86 - lr: 0.100000\n",
      "2022-04-26 15:45:51,390 epoch 11 - iter 30/36 - loss 0.12135347 - samples/sec: 6.61 - lr: 0.100000\n",
      "2022-04-26 15:46:14,891 epoch 11 - iter 33/36 - loss 0.11669414 - samples/sec: 4.09 - lr: 0.100000\n",
      "2022-04-26 15:46:28,044 epoch 11 - iter 36/36 - loss 0.11675335 - samples/sec: 7.30 - lr: 0.100000\n",
      "2022-04-26 15:46:28,046 ----------------------------------------------------------------------------------------------------\n",
      "2022-04-26 15:46:28,047 EPOCH 11 done: loss 0.1168 - lr 0.100000\n"
     ]
    },
    {
     "name": "stderr",
     "output_type": "stream",
     "text": [
      "100%|██████████| 6/6 [00:14<00:00,  2.36s/it]"
     ]
    },
    {
     "name": "stdout",
     "output_type": "stream",
     "text": [
      "2022-04-26 15:46:42,207 Evaluating as a multi-label problem: False\n",
      "2022-04-26 15:46:42,213 DEV : loss 0.16510795056819916 - f1-score (micro avg)  0.9354\n"
     ]
    },
    {
     "name": "stderr",
     "output_type": "stream",
     "text": [
      "\n",
      "100%|██████████| 6/6 [00:13<00:00,  2.20s/it]"
     ]
    },
    {
     "name": "stdout",
     "output_type": "stream",
     "text": [
      "2022-04-26 15:46:55,423 Evaluating as a multi-label problem: False\n",
      "2022-04-26 15:46:55,429 TEST : loss 0.25247544050216675 - f1-score (micro avg)  0.9164\n",
      "2022-04-26 15:46:55,433 BAD EPOCHS (no improvement): 0\n",
      "2022-04-26 15:46:55,434 saving best model\n"
     ]
    },
    {
     "name": "stderr",
     "output_type": "stream",
     "text": [
      "\n"
     ]
    },
    {
     "name": "stdout",
     "output_type": "stream",
     "text": [
      "2022-04-26 15:46:56,715 ----------------------------------------------------------------------------------------------------\n",
      "2022-04-26 15:47:16,171 epoch 12 - iter 3/36 - loss 0.05330639 - samples/sec: 4.94 - lr: 0.100000\n",
      "2022-04-26 15:47:34,626 epoch 12 - iter 6/36 - loss 0.07249799 - samples/sec: 5.20 - lr: 0.100000\n",
      "2022-04-26 15:47:51,293 epoch 12 - iter 9/36 - loss 0.07568579 - samples/sec: 5.76 - lr: 0.100000\n",
      "2022-04-26 15:48:14,968 epoch 12 - iter 12/36 - loss 0.07806369 - samples/sec: 4.06 - lr: 0.100000\n",
      "2022-04-26 15:48:30,110 epoch 12 - iter 15/36 - loss 0.08465896 - samples/sec: 6.34 - lr: 0.100000\n",
      "2022-04-26 15:48:45,402 epoch 12 - iter 18/36 - loss 0.08497672 - samples/sec: 6.28 - lr: 0.100000\n",
      "2022-04-26 15:49:03,867 epoch 12 - iter 21/36 - loss 0.08480692 - samples/sec: 5.20 - lr: 0.100000\n",
      "2022-04-26 15:49:23,606 epoch 12 - iter 24/36 - loss 0.08655243 - samples/sec: 4.86 - lr: 0.100000\n",
      "2022-04-26 15:49:44,636 epoch 12 - iter 27/36 - loss 0.08457963 - samples/sec: 4.57 - lr: 0.100000\n",
      "2022-04-26 15:50:09,697 epoch 12 - iter 30/36 - loss 0.08632089 - samples/sec: 3.83 - lr: 0.100000\n",
      "2022-04-26 15:50:31,838 epoch 12 - iter 33/36 - loss 0.10019273 - samples/sec: 4.34 - lr: 0.100000\n",
      "2022-04-26 15:50:44,403 epoch 12 - iter 36/36 - loss 0.09760585 - samples/sec: 7.64 - lr: 0.100000\n",
      "2022-04-26 15:50:44,404 ----------------------------------------------------------------------------------------------------\n",
      "2022-04-26 15:50:44,405 EPOCH 12 done: loss 0.0976 - lr 0.100000\n"
     ]
    },
    {
     "name": "stderr",
     "output_type": "stream",
     "text": [
      "100%|██████████| 6/6 [00:14<00:00,  2.36s/it]"
     ]
    },
    {
     "name": "stdout",
     "output_type": "stream",
     "text": [
      "2022-04-26 15:50:58,568 Evaluating as a multi-label problem: False\n",
      "2022-04-26 15:50:58,574 DEV : loss 0.22768543660640717 - f1-score (micro avg)  0.933\n"
     ]
    },
    {
     "name": "stderr",
     "output_type": "stream",
     "text": [
      "\n",
      "100%|██████████| 6/6 [00:13<00:00,  2.20s/it]"
     ]
    },
    {
     "name": "stdout",
     "output_type": "stream",
     "text": [
      "2022-04-26 15:51:11,772 Evaluating as a multi-label problem: False\n",
      "2022-04-26 15:51:11,778 TEST : loss 0.25120809674263 - f1-score (micro avg)  0.9246\n",
      "2022-04-26 15:51:11,783 BAD EPOCHS (no improvement): 1\n",
      "2022-04-26 15:51:11,784 ----------------------------------------------------------------------------------------------------\n"
     ]
    },
    {
     "name": "stderr",
     "output_type": "stream",
     "text": [
      "\n"
     ]
    },
    {
     "name": "stdout",
     "output_type": "stream",
     "text": [
      "2022-04-26 15:51:30,948 epoch 13 - iter 3/36 - loss 0.08406357 - samples/sec: 5.01 - lr: 0.100000\n",
      "2022-04-26 15:51:48,988 epoch 13 - iter 6/36 - loss 0.09204476 - samples/sec: 5.32 - lr: 0.100000\n",
      "2022-04-26 15:52:07,740 epoch 13 - iter 9/36 - loss 0.09114378 - samples/sec: 5.12 - lr: 0.100000\n",
      "2022-04-26 15:52:28,703 epoch 13 - iter 12/36 - loss 0.08193794 - samples/sec: 4.58 - lr: 0.100000\n",
      "2022-04-26 15:52:42,976 epoch 13 - iter 15/36 - loss 0.08597438 - samples/sec: 6.73 - lr: 0.100000\n",
      "2022-04-26 15:53:04,702 epoch 13 - iter 18/36 - loss 0.07966336 - samples/sec: 4.42 - lr: 0.100000\n",
      "2022-04-26 15:53:23,140 epoch 13 - iter 21/36 - loss 0.08794380 - samples/sec: 5.21 - lr: 0.100000\n",
      "2022-04-26 15:53:43,123 epoch 13 - iter 24/36 - loss 0.08371120 - samples/sec: 4.80 - lr: 0.100000\n",
      "2022-04-26 15:54:04,734 epoch 13 - iter 27/36 - loss 0.08380507 - samples/sec: 4.44 - lr: 0.100000\n",
      "2022-04-26 15:54:25,861 epoch 13 - iter 30/36 - loss 0.08245374 - samples/sec: 4.54 - lr: 0.100000\n",
      "2022-04-26 15:54:40,906 epoch 13 - iter 33/36 - loss 0.08314988 - samples/sec: 6.38 - lr: 0.100000\n",
      "2022-04-26 15:54:53,332 epoch 13 - iter 36/36 - loss 0.08255950 - samples/sec: 7.73 - lr: 0.100000\n",
      "2022-04-26 15:54:53,334 ----------------------------------------------------------------------------------------------------\n",
      "2022-04-26 15:54:53,334 EPOCH 13 done: loss 0.0826 - lr 0.100000\n"
     ]
    },
    {
     "name": "stderr",
     "output_type": "stream",
     "text": [
      "100%|██████████| 6/6 [00:14<00:00,  2.38s/it]"
     ]
    },
    {
     "name": "stdout",
     "output_type": "stream",
     "text": [
      "2022-04-26 15:55:07,592 Evaluating as a multi-label problem: False\n",
      "2022-04-26 15:55:07,598 DEV : loss 0.28965526819229126 - f1-score (micro avg)  0.9107\n"
     ]
    },
    {
     "name": "stderr",
     "output_type": "stream",
     "text": [
      "\n",
      "100%|██████████| 6/6 [00:13<00:00,  2.20s/it]"
     ]
    },
    {
     "name": "stdout",
     "output_type": "stream",
     "text": [
      "2022-04-26 15:55:20,830 Evaluating as a multi-label problem: False\n",
      "2022-04-26 15:55:20,836 TEST : loss 0.3815334737300873 - f1-score (micro avg)  0.8958\n",
      "2022-04-26 15:55:20,840 BAD EPOCHS (no improvement): 2\n",
      "2022-04-26 15:55:20,841 ----------------------------------------------------------------------------------------------------\n"
     ]
    },
    {
     "name": "stderr",
     "output_type": "stream",
     "text": [
      "\n"
     ]
    },
    {
     "name": "stdout",
     "output_type": "stream",
     "text": [
      "2022-04-26 15:55:37,583 epoch 14 - iter 3/36 - loss 0.11542935 - samples/sec: 5.73 - lr: 0.100000\n",
      "2022-04-26 15:55:59,063 epoch 14 - iter 6/36 - loss 0.09769770 - samples/sec: 4.47 - lr: 0.100000\n",
      "2022-04-26 15:56:19,005 epoch 14 - iter 9/36 - loss 0.09239309 - samples/sec: 4.81 - lr: 0.100000\n",
      "2022-04-26 15:56:39,166 epoch 14 - iter 12/36 - loss 0.10293790 - samples/sec: 4.76 - lr: 0.100000\n",
      "2022-04-26 15:56:59,131 epoch 14 - iter 15/36 - loss 0.09741322 - samples/sec: 4.81 - lr: 0.100000\n",
      "2022-04-26 15:57:17,909 epoch 14 - iter 18/36 - loss 0.08981780 - samples/sec: 5.11 - lr: 0.100000\n",
      "2022-04-26 15:57:36,257 epoch 14 - iter 21/36 - loss 0.08638198 - samples/sec: 5.23 - lr: 0.100000\n",
      "2022-04-26 15:57:56,971 epoch 14 - iter 24/36 - loss 0.08451115 - samples/sec: 4.63 - lr: 0.100000\n",
      "2022-04-26 15:58:17,970 epoch 14 - iter 27/36 - loss 0.08367483 - samples/sec: 4.57 - lr: 0.100000\n",
      "2022-04-26 15:58:36,010 epoch 14 - iter 30/36 - loss 0.08039059 - samples/sec: 5.32 - lr: 0.100000\n",
      "2022-04-26 15:58:54,147 epoch 14 - iter 33/36 - loss 0.07990587 - samples/sec: 5.29 - lr: 0.100000\n",
      "2022-04-26 15:59:07,307 epoch 14 - iter 36/36 - loss 0.07807687 - samples/sec: 7.30 - lr: 0.100000\n",
      "2022-04-26 15:59:07,308 ----------------------------------------------------------------------------------------------------\n",
      "2022-04-26 15:59:07,308 EPOCH 14 done: loss 0.0781 - lr 0.100000\n"
     ]
    },
    {
     "name": "stderr",
     "output_type": "stream",
     "text": [
      "100%|██████████| 6/6 [00:14<00:00,  2.42s/it]"
     ]
    },
    {
     "name": "stdout",
     "output_type": "stream",
     "text": [
      "2022-04-26 15:59:21,854 Evaluating as a multi-label problem: False\n",
      "2022-04-26 15:59:21,860 DEV : loss 0.25575730204582214 - f1-score (micro avg)  0.9161\n"
     ]
    },
    {
     "name": "stderr",
     "output_type": "stream",
     "text": [
      "\n",
      "100%|██████████| 6/6 [00:13<00:00,  2.20s/it]"
     ]
    },
    {
     "name": "stdout",
     "output_type": "stream",
     "text": [
      "2022-04-26 15:59:35,073 Evaluating as a multi-label problem: False\n",
      "2022-04-26 15:59:35,078 TEST : loss 0.3270341157913208 - f1-score (micro avg)  0.9041\n",
      "2022-04-26 15:59:35,083 BAD EPOCHS (no improvement): 3\n",
      "2022-04-26 15:59:35,084 ----------------------------------------------------------------------------------------------------\n"
     ]
    },
    {
     "name": "stderr",
     "output_type": "stream",
     "text": [
      "\n"
     ]
    },
    {
     "name": "stdout",
     "output_type": "stream",
     "text": [
      "2022-04-26 15:59:51,823 epoch 15 - iter 3/36 - loss 0.04063018 - samples/sec: 5.74 - lr: 0.100000\n",
      "2022-04-26 16:00:06,705 epoch 15 - iter 6/36 - loss 0.04258633 - samples/sec: 6.45 - lr: 0.100000\n",
      "2022-04-26 16:00:31,292 epoch 15 - iter 9/36 - loss 0.06668112 - samples/sec: 3.90 - lr: 0.100000\n",
      "2022-04-26 16:00:52,714 epoch 15 - iter 12/36 - loss 0.06579919 - samples/sec: 4.48 - lr: 0.100000\n",
      "2022-04-26 16:01:09,286 epoch 15 - iter 15/36 - loss 0.06846636 - samples/sec: 5.79 - lr: 0.100000\n",
      "2022-04-26 16:01:26,832 epoch 15 - iter 18/36 - loss 0.06718690 - samples/sec: 5.47 - lr: 0.100000\n",
      "2022-04-26 16:01:49,999 epoch 15 - iter 21/36 - loss 0.06631656 - samples/sec: 4.14 - lr: 0.100000\n",
      "2022-04-26 16:06:36,930 epoch 15 - iter 24/36 - loss 0.06584098 - samples/sec: 0.33 - lr: 0.100000\n",
      "2022-04-26 16:06:52,167 epoch 15 - iter 27/36 - loss 0.07084288 - samples/sec: 6.30 - lr: 0.100000\n",
      "2022-04-26 16:07:10,983 epoch 15 - iter 30/36 - loss 0.07317655 - samples/sec: 5.10 - lr: 0.100000\n",
      "2022-04-26 16:07:28,758 epoch 15 - iter 33/36 - loss 0.07086056 - samples/sec: 5.40 - lr: 0.100000\n",
      "2022-04-26 16:07:45,247 epoch 15 - iter 36/36 - loss 0.07154341 - samples/sec: 5.82 - lr: 0.100000\n",
      "2022-04-26 16:07:45,249 ----------------------------------------------------------------------------------------------------\n",
      "2022-04-26 16:07:45,249 EPOCH 15 done: loss 0.0715 - lr 0.100000\n"
     ]
    },
    {
     "name": "stderr",
     "output_type": "stream",
     "text": [
      "100%|██████████| 6/6 [00:14<00:00,  2.34s/it]"
     ]
    },
    {
     "name": "stdout",
     "output_type": "stream",
     "text": [
      "2022-04-26 16:07:59,319 Evaluating as a multi-label problem: False\n",
      "2022-04-26 16:07:59,325 DEV : loss 0.23542745411396027 - f1-score (micro avg)  0.9215\n"
     ]
    },
    {
     "name": "stderr",
     "output_type": "stream",
     "text": [
      "\n",
      "100%|██████████| 6/6 [00:13<00:00,  2.20s/it]"
     ]
    },
    {
     "name": "stdout",
     "output_type": "stream",
     "text": [
      "2022-04-26 16:08:12,512 Evaluating as a multi-label problem: False\n",
      "2022-04-26 16:08:12,518 TEST : loss 0.2894918918609619 - f1-score (micro avg)  0.9091\n",
      "2022-04-26 16:08:12,523 Epoch    15: reducing learning rate of group 0 to 5.0000e-02.\n",
      "2022-04-26 16:08:12,523 BAD EPOCHS (no improvement): 4\n",
      "2022-04-26 16:08:12,524 ----------------------------------------------------------------------------------------------------\n"
     ]
    },
    {
     "name": "stderr",
     "output_type": "stream",
     "text": [
      "\n"
     ]
    },
    {
     "name": "stdout",
     "output_type": "stream",
     "text": [
      "2022-04-26 16:08:30,612 epoch 16 - iter 3/36 - loss 0.07319336 - samples/sec: 5.31 - lr: 0.050000\n",
      "2022-04-26 16:08:53,937 epoch 16 - iter 6/36 - loss 0.06158764 - samples/sec: 4.12 - lr: 0.050000\n",
      "2022-04-26 16:09:14,078 epoch 16 - iter 9/36 - loss 0.06545510 - samples/sec: 4.77 - lr: 0.050000\n",
      "2022-04-26 16:09:37,883 epoch 16 - iter 12/36 - loss 0.06526871 - samples/sec: 4.03 - lr: 0.050000\n",
      "2022-04-26 16:09:55,702 epoch 16 - iter 15/36 - loss 0.06246201 - samples/sec: 5.39 - lr: 0.050000\n",
      "2022-04-26 16:10:13,692 epoch 16 - iter 18/36 - loss 0.05825741 - samples/sec: 5.34 - lr: 0.050000\n",
      "2022-04-26 16:10:30,168 epoch 16 - iter 21/36 - loss 0.05797521 - samples/sec: 5.83 - lr: 0.050000\n",
      "2022-04-26 16:11:17,664 epoch 16 - iter 24/36 - loss 0.05673223 - samples/sec: 2.02 - lr: 0.050000\n",
      "2022-04-26 16:11:35,962 epoch 16 - iter 27/36 - loss 0.05436044 - samples/sec: 5.25 - lr: 0.050000\n",
      "2022-04-26 16:15:46,689 epoch 16 - iter 30/36 - loss 0.05824353 - samples/sec: 0.38 - lr: 0.050000\n",
      "2022-04-26 16:16:05,258 epoch 16 - iter 33/36 - loss 0.05956284 - samples/sec: 5.17 - lr: 0.050000\n",
      "2022-04-26 16:16:17,524 epoch 16 - iter 36/36 - loss 0.06069299 - samples/sec: 7.83 - lr: 0.050000\n",
      "2022-04-26 16:16:17,525 ----------------------------------------------------------------------------------------------------\n",
      "2022-04-26 16:16:17,526 EPOCH 16 done: loss 0.0607 - lr 0.050000\n"
     ]
    },
    {
     "name": "stderr",
     "output_type": "stream",
     "text": [
      "100%|██████████| 6/6 [00:14<00:00,  2.34s/it]"
     ]
    },
    {
     "name": "stdout",
     "output_type": "stream",
     "text": [
      "2022-04-26 16:16:31,541 Evaluating as a multi-label problem: False\n",
      "2022-04-26 16:16:31,555 DEV : loss 0.22273533046245575 - f1-score (micro avg)  0.9284\n"
     ]
    },
    {
     "name": "stderr",
     "output_type": "stream",
     "text": [
      "\n",
      "100%|██████████| 6/6 [00:13<00:00,  2.19s/it]"
     ]
    },
    {
     "name": "stdout",
     "output_type": "stream",
     "text": [
      "2022-04-26 16:16:44,675 Evaluating as a multi-label problem: False\n",
      "2022-04-26 16:16:44,681 TEST : loss 0.299188494682312 - f1-score (micro avg)  0.9192\n",
      "2022-04-26 16:16:44,685 BAD EPOCHS (no improvement): 1\n",
      "2022-04-26 16:16:44,686 ----------------------------------------------------------------------------------------------------\n"
     ]
    },
    {
     "name": "stderr",
     "output_type": "stream",
     "text": [
      "\n"
     ]
    },
    {
     "name": "stdout",
     "output_type": "stream",
     "text": [
      "2022-04-26 16:17:03,443 epoch 17 - iter 3/36 - loss 0.04221701 - samples/sec: 5.12 - lr: 0.050000\n",
      "2022-04-26 16:17:19,089 epoch 17 - iter 6/36 - loss 0.04374199 - samples/sec: 6.14 - lr: 0.050000\n",
      "2022-04-26 16:17:36,809 epoch 17 - iter 9/36 - loss 0.04399577 - samples/sec: 5.42 - lr: 0.050000\n",
      "2022-04-26 16:17:58,563 epoch 17 - iter 12/36 - loss 0.04309105 - samples/sec: 4.41 - lr: 0.050000\n",
      "2022-04-26 16:18:19,711 epoch 17 - iter 15/36 - loss 0.04395234 - samples/sec: 4.54 - lr: 0.050000\n",
      "2022-04-26 16:18:36,719 epoch 17 - iter 18/36 - loss 0.04436728 - samples/sec: 5.65 - lr: 0.050000\n",
      "2022-04-26 16:18:54,320 epoch 17 - iter 21/36 - loss 0.04536613 - samples/sec: 5.45 - lr: 0.050000\n",
      "2022-04-26 16:19:15,550 epoch 17 - iter 24/36 - loss 0.04719524 - samples/sec: 4.52 - lr: 0.050000\n",
      "2022-04-26 16:19:38,906 epoch 17 - iter 27/36 - loss 0.04795510 - samples/sec: 4.11 - lr: 0.050000\n",
      "2022-04-26 16:19:57,639 epoch 17 - iter 30/36 - loss 0.04591970 - samples/sec: 5.13 - lr: 0.050000\n",
      "2022-04-26 16:20:18,470 epoch 17 - iter 33/36 - loss 0.04439765 - samples/sec: 4.61 - lr: 0.050000\n",
      "2022-04-26 16:20:28,250 epoch 17 - iter 36/36 - loss 0.04375359 - samples/sec: 9.82 - lr: 0.050000\n",
      "2022-04-26 16:20:28,251 ----------------------------------------------------------------------------------------------------\n",
      "2022-04-26 16:20:28,252 EPOCH 17 done: loss 0.0438 - lr 0.050000\n"
     ]
    },
    {
     "name": "stderr",
     "output_type": "stream",
     "text": [
      "100%|██████████| 6/6 [00:14<00:00,  2.37s/it]"
     ]
    },
    {
     "name": "stdout",
     "output_type": "stream",
     "text": [
      "2022-04-26 16:20:42,453 Evaluating as a multi-label problem: False\n",
      "2022-04-26 16:20:42,460 DEV : loss 0.22942900657653809 - f1-score (micro avg)  0.9322\n"
     ]
    },
    {
     "name": "stderr",
     "output_type": "stream",
     "text": [
      "\n",
      "100%|██████████| 6/6 [00:13<00:00,  2.21s/it]"
     ]
    },
    {
     "name": "stdout",
     "output_type": "stream",
     "text": [
      "2022-04-26 16:20:55,708 Evaluating as a multi-label problem: False\n",
      "2022-04-26 16:20:55,714 TEST : loss 0.31740421056747437 - f1-score (micro avg)  0.9174\n",
      "2022-04-26 16:20:55,719 BAD EPOCHS (no improvement): 2\n",
      "2022-04-26 16:20:55,719 ----------------------------------------------------------------------------------------------------\n"
     ]
    },
    {
     "name": "stderr",
     "output_type": "stream",
     "text": [
      "\n"
     ]
    },
    {
     "name": "stdout",
     "output_type": "stream",
     "text": [
      "2022-04-26 16:21:13,644 epoch 18 - iter 3/36 - loss 0.01189325 - samples/sec: 5.36 - lr: 0.050000\n",
      "2022-04-26 16:21:32,281 epoch 18 - iter 6/36 - loss 0.01514174 - samples/sec: 5.15 - lr: 0.050000\n",
      "2022-04-26 16:21:51,074 epoch 18 - iter 9/36 - loss 0.01586022 - samples/sec: 5.11 - lr: 0.050000\n",
      "2022-04-26 16:22:09,341 epoch 18 - iter 12/36 - loss 0.02680450 - samples/sec: 5.26 - lr: 0.050000\n",
      "2022-04-26 16:22:32,459 epoch 18 - iter 15/36 - loss 0.02721646 - samples/sec: 4.15 - lr: 0.050000\n",
      "2022-04-26 16:22:47,390 epoch 18 - iter 18/36 - loss 0.02933725 - samples/sec: 6.43 - lr: 0.050000\n",
      "2022-04-26 16:23:10,175 epoch 18 - iter 21/36 - loss 0.03011564 - samples/sec: 4.21 - lr: 0.050000\n",
      "2022-04-26 16:23:30,889 epoch 18 - iter 24/36 - loss 0.03035590 - samples/sec: 4.64 - lr: 0.050000\n",
      "2022-04-26 16:23:54,899 epoch 18 - iter 27/36 - loss 0.03165579 - samples/sec: 4.00 - lr: 0.050000\n",
      "2022-04-26 16:24:13,810 epoch 18 - iter 30/36 - loss 0.03358417 - samples/sec: 5.08 - lr: 0.050000\n",
      "2022-04-26 16:24:30,352 epoch 18 - iter 33/36 - loss 0.03391112 - samples/sec: 5.80 - lr: 0.050000\n",
      "2022-04-26 16:24:45,982 epoch 18 - iter 36/36 - loss 0.03613551 - samples/sec: 6.14 - lr: 0.050000\n",
      "2022-04-26 16:24:45,984 ----------------------------------------------------------------------------------------------------\n",
      "2022-04-26 16:24:45,984 EPOCH 18 done: loss 0.0361 - lr 0.050000\n"
     ]
    },
    {
     "name": "stderr",
     "output_type": "stream",
     "text": [
      "100%|██████████| 6/6 [00:14<00:00,  2.35s/it]"
     ]
    },
    {
     "name": "stdout",
     "output_type": "stream",
     "text": [
      "2022-04-26 16:25:00,116 Evaluating as a multi-label problem: False\n",
      "2022-04-26 16:25:00,123 DEV : loss 0.2308448702096939 - f1-score (micro avg)  0.9324\n"
     ]
    },
    {
     "name": "stderr",
     "output_type": "stream",
     "text": [
      "\n",
      "100%|██████████| 6/6 [00:13<00:00,  2.20s/it]"
     ]
    },
    {
     "name": "stdout",
     "output_type": "stream",
     "text": [
      "2022-04-26 16:25:13,329 Evaluating as a multi-label problem: False\n",
      "2022-04-26 16:25:13,336 TEST : loss 0.2888980805873871 - f1-score (micro avg)  0.9188\n",
      "2022-04-26 16:25:13,340 BAD EPOCHS (no improvement): 3\n",
      "2022-04-26 16:25:13,341 ----------------------------------------------------------------------------------------------------\n"
     ]
    },
    {
     "name": "stderr",
     "output_type": "stream",
     "text": [
      "\n"
     ]
    },
    {
     "name": "stdout",
     "output_type": "stream",
     "text": [
      "2022-04-26 16:25:33,784 epoch 19 - iter 3/36 - loss 0.08610439 - samples/sec: 4.70 - lr: 0.050000\n",
      "2022-04-26 16:25:49,685 epoch 19 - iter 6/36 - loss 0.06294019 - samples/sec: 6.04 - lr: 0.050000\n",
      "2022-04-26 16:26:11,336 epoch 19 - iter 9/36 - loss 0.04921500 - samples/sec: 4.43 - lr: 0.050000\n",
      "2022-04-26 16:26:29,917 epoch 19 - iter 12/36 - loss 0.05297350 - samples/sec: 5.17 - lr: 0.050000\n",
      "2022-04-26 16:26:52,309 epoch 19 - iter 15/36 - loss 0.05144818 - samples/sec: 4.29 - lr: 0.050000\n",
      "2022-04-26 16:27:10,875 epoch 19 - iter 18/36 - loss 0.04667334 - samples/sec: 5.17 - lr: 0.050000\n",
      "2022-04-26 16:27:29,768 epoch 19 - iter 21/36 - loss 0.04279374 - samples/sec: 5.08 - lr: 0.050000\n",
      "2022-04-26 16:27:49,627 epoch 19 - iter 24/36 - loss 0.04625650 - samples/sec: 4.83 - lr: 0.050000\n",
      "2022-04-26 16:28:08,212 epoch 19 - iter 27/36 - loss 0.04445823 - samples/sec: 5.17 - lr: 0.050000\n",
      "2022-04-26 16:28:31,407 epoch 19 - iter 30/36 - loss 0.04393735 - samples/sec: 4.14 - lr: 0.050000\n",
      "2022-04-26 16:28:45,631 epoch 19 - iter 33/36 - loss 0.04257375 - samples/sec: 6.75 - lr: 0.050000\n",
      "2022-04-26 16:29:00,203 epoch 19 - iter 36/36 - loss 0.04342823 - samples/sec: 6.59 - lr: 0.050000\n",
      "2022-04-26 16:29:00,205 ----------------------------------------------------------------------------------------------------\n",
      "2022-04-26 16:29:00,205 EPOCH 19 done: loss 0.0434 - lr 0.050000\n"
     ]
    },
    {
     "name": "stderr",
     "output_type": "stream",
     "text": [
      "100%|██████████| 6/6 [00:14<00:00,  2.40s/it]"
     ]
    },
    {
     "name": "stdout",
     "output_type": "stream",
     "text": [
      "2022-04-26 16:29:14,593 Evaluating as a multi-label problem: False\n",
      "2022-04-26 16:29:14,600 DEV : loss 0.25067371129989624 - f1-score (micro avg)  0.9424\n"
     ]
    },
    {
     "name": "stderr",
     "output_type": "stream",
     "text": [
      "\n",
      "100%|██████████| 6/6 [00:13<00:00,  2.21s/it]"
     ]
    },
    {
     "name": "stdout",
     "output_type": "stream",
     "text": [
      "2022-04-26 16:29:27,867 Evaluating as a multi-label problem: False\n",
      "2022-04-26 16:29:27,874 TEST : loss 0.330086350440979 - f1-score (micro avg)  0.9131\n",
      "2022-04-26 16:29:27,878 BAD EPOCHS (no improvement): 0\n",
      "2022-04-26 16:29:27,879 saving best model\n"
     ]
    },
    {
     "name": "stderr",
     "output_type": "stream",
     "text": [
      "\n"
     ]
    },
    {
     "name": "stdout",
     "output_type": "stream",
     "text": [
      "2022-04-26 16:29:29,168 ----------------------------------------------------------------------------------------------------\n",
      "2022-04-26 16:29:49,684 epoch 20 - iter 3/36 - loss 0.04199183 - samples/sec: 4.68 - lr: 0.050000\n",
      "2022-04-26 16:30:07,202 epoch 20 - iter 6/36 - loss 0.02818436 - samples/sec: 5.48 - lr: 0.050000\n",
      "2022-04-26 16:30:25,571 epoch 20 - iter 9/36 - loss 0.02462054 - samples/sec: 5.23 - lr: 0.050000\n",
      "2022-04-26 16:30:42,753 epoch 20 - iter 12/36 - loss 0.03245723 - samples/sec: 5.59 - lr: 0.050000\n",
      "2022-04-26 16:31:05,260 epoch 20 - iter 15/36 - loss 0.03616122 - samples/sec: 4.27 - lr: 0.050000\n",
      "2022-04-26 16:31:22,643 epoch 20 - iter 18/36 - loss 0.03584507 - samples/sec: 5.52 - lr: 0.050000\n",
      "2022-04-26 16:31:40,827 epoch 20 - iter 21/36 - loss 0.03386701 - samples/sec: 5.28 - lr: 0.050000\n",
      "2022-04-26 16:32:00,626 epoch 20 - iter 24/36 - loss 0.03447901 - samples/sec: 4.85 - lr: 0.050000\n",
      "2022-04-26 16:32:22,483 epoch 20 - iter 27/36 - loss 0.03694476 - samples/sec: 4.39 - lr: 0.050000\n",
      "2022-04-26 16:32:41,194 epoch 20 - iter 30/36 - loss 0.03555915 - samples/sec: 5.13 - lr: 0.050000\n",
      "2022-04-26 16:32:57,964 epoch 20 - iter 33/36 - loss 0.03604004 - samples/sec: 5.72 - lr: 0.050000\n",
      "2022-04-26 16:33:12,005 epoch 20 - iter 36/36 - loss 0.03643777 - samples/sec: 6.84 - lr: 0.050000\n",
      "2022-04-26 16:33:12,006 ----------------------------------------------------------------------------------------------------\n",
      "2022-04-26 16:33:12,007 EPOCH 20 done: loss 0.0364 - lr 0.050000\n"
     ]
    },
    {
     "name": "stderr",
     "output_type": "stream",
     "text": [
      "100%|██████████| 6/6 [00:14<00:00,  2.35s/it]"
     ]
    },
    {
     "name": "stdout",
     "output_type": "stream",
     "text": [
      "2022-04-26 16:33:26,140 Evaluating as a multi-label problem: False\n",
      "2022-04-26 16:33:26,147 DEV : loss 0.2712232172489166 - f1-score (micro avg)  0.9349\n"
     ]
    },
    {
     "name": "stderr",
     "output_type": "stream",
     "text": [
      "\n",
      "100%|██████████| 6/6 [00:13<00:00,  2.20s/it]"
     ]
    },
    {
     "name": "stdout",
     "output_type": "stream",
     "text": [
      "2022-04-26 16:33:39,344 Evaluating as a multi-label problem: False\n",
      "2022-04-26 16:33:39,350 TEST : loss 0.33488982915878296 - f1-score (micro avg)  0.9233\n",
      "2022-04-26 16:33:39,354 BAD EPOCHS (no improvement): 1\n",
      "2022-04-26 16:33:39,355 ----------------------------------------------------------------------------------------------------\n"
     ]
    },
    {
     "name": "stderr",
     "output_type": "stream",
     "text": [
      "\n"
     ]
    },
    {
     "name": "stdout",
     "output_type": "stream",
     "text": [
      "2022-04-26 16:34:00,431 epoch 21 - iter 3/36 - loss 0.03035576 - samples/sec: 4.56 - lr: 0.050000\n",
      "2022-04-26 16:34:19,997 epoch 21 - iter 6/36 - loss 0.03555597 - samples/sec: 4.91 - lr: 0.050000\n",
      "2022-04-26 16:34:40,843 epoch 21 - iter 9/36 - loss 0.03388595 - samples/sec: 4.61 - lr: 0.050000\n",
      "2022-04-26 16:35:00,543 epoch 21 - iter 12/36 - loss 0.03364045 - samples/sec: 4.87 - lr: 0.050000\n",
      "2022-04-26 16:35:23,290 epoch 21 - iter 15/36 - loss 0.03494144 - samples/sec: 4.22 - lr: 0.050000\n",
      "2022-04-26 16:35:47,190 epoch 21 - iter 18/36 - loss 0.03375096 - samples/sec: 4.02 - lr: 0.050000\n",
      "2022-04-26 16:36:05,079 epoch 21 - iter 21/36 - loss 0.03435053 - samples/sec: 5.37 - lr: 0.050000\n",
      "2022-04-26 16:36:24,383 epoch 21 - iter 24/36 - loss 0.03151599 - samples/sec: 4.97 - lr: 0.050000\n",
      "2022-04-26 16:36:46,313 epoch 21 - iter 27/36 - loss 0.03216418 - samples/sec: 4.38 - lr: 0.050000\n",
      "2022-04-26 16:37:06,274 epoch 21 - iter 30/36 - loss 0.03221114 - samples/sec: 4.81 - lr: 0.050000\n",
      "2022-04-26 16:37:23,425 epoch 21 - iter 33/36 - loss 0.03557920 - samples/sec: 5.60 - lr: 0.050000\n",
      "2022-04-26 16:37:40,727 epoch 21 - iter 36/36 - loss 0.03490496 - samples/sec: 5.55 - lr: 0.050000\n",
      "2022-04-26 16:37:40,729 ----------------------------------------------------------------------------------------------------\n",
      "2022-04-26 16:37:40,729 EPOCH 21 done: loss 0.0349 - lr 0.050000\n"
     ]
    },
    {
     "name": "stderr",
     "output_type": "stream",
     "text": [
      "100%|██████████| 6/6 [00:14<00:00,  2.39s/it]"
     ]
    },
    {
     "name": "stdout",
     "output_type": "stream",
     "text": [
      "2022-04-26 16:37:55,044 Evaluating as a multi-label problem: False\n",
      "2022-04-26 16:37:55,051 DEV : loss 0.26158827543258667 - f1-score (micro avg)  0.9383\n"
     ]
    },
    {
     "name": "stderr",
     "output_type": "stream",
     "text": [
      "\n",
      "100%|██████████| 6/6 [00:13<00:00,  2.22s/it]"
     ]
    },
    {
     "name": "stdout",
     "output_type": "stream",
     "text": [
      "2022-04-26 16:38:08,406 Evaluating as a multi-label problem: False\n",
      "2022-04-26 16:38:08,413 TEST : loss 0.4120577573776245 - f1-score (micro avg)  0.9233\n",
      "2022-04-26 16:38:08,418 BAD EPOCHS (no improvement): 2\n",
      "2022-04-26 16:38:08,419 ----------------------------------------------------------------------------------------------------\n"
     ]
    },
    {
     "name": "stderr",
     "output_type": "stream",
     "text": [
      "\n"
     ]
    },
    {
     "name": "stdout",
     "output_type": "stream",
     "text": [
      "2022-04-26 16:38:27,905 epoch 22 - iter 3/36 - loss 0.03638499 - samples/sec: 4.93 - lr: 0.050000\n",
      "2022-04-26 16:38:45,605 epoch 22 - iter 6/36 - loss 0.03424254 - samples/sec: 5.42 - lr: 0.050000\n",
      "2022-04-26 16:39:08,645 epoch 22 - iter 9/36 - loss 0.03044553 - samples/sec: 4.17 - lr: 0.050000\n",
      "2022-04-26 16:39:24,670 epoch 22 - iter 12/36 - loss 0.03461119 - samples/sec: 5.99 - lr: 0.050000\n",
      "2022-04-26 16:39:44,962 epoch 22 - iter 15/36 - loss 0.03429998 - samples/sec: 4.73 - lr: 0.050000\n",
      "2022-04-26 16:40:04,117 epoch 22 - iter 18/36 - loss 0.03688228 - samples/sec: 5.01 - lr: 0.050000\n",
      "2022-04-26 16:40:23,782 epoch 22 - iter 21/36 - loss 0.03606457 - samples/sec: 4.88 - lr: 0.050000\n",
      "2022-04-26 16:40:47,055 epoch 22 - iter 24/36 - loss 0.03558387 - samples/sec: 4.13 - lr: 0.050000\n",
      "2022-04-26 16:41:05,875 epoch 22 - iter 27/36 - loss 0.03611436 - samples/sec: 5.10 - lr: 0.050000\n",
      "2022-04-26 16:41:23,167 epoch 22 - iter 30/36 - loss 0.03638374 - samples/sec: 5.55 - lr: 0.050000\n",
      "2022-04-26 16:41:45,075 epoch 22 - iter 33/36 - loss 0.03575730 - samples/sec: 4.38 - lr: 0.050000\n",
      "2022-04-26 16:42:00,039 epoch 22 - iter 36/36 - loss 0.03577294 - samples/sec: 6.42 - lr: 0.050000\n",
      "2022-04-26 16:42:00,041 ----------------------------------------------------------------------------------------------------\n",
      "2022-04-26 16:42:00,041 EPOCH 22 done: loss 0.0358 - lr 0.050000\n"
     ]
    },
    {
     "name": "stderr",
     "output_type": "stream",
     "text": [
      "100%|██████████| 6/6 [00:14<00:00,  2.39s/it]"
     ]
    },
    {
     "name": "stdout",
     "output_type": "stream",
     "text": [
      "2022-04-26 16:42:14,361 Evaluating as a multi-label problem: False\n",
      "2022-04-26 16:42:14,367 DEV : loss 0.2771134376525879 - f1-score (micro avg)  0.9362\n"
     ]
    },
    {
     "name": "stderr",
     "output_type": "stream",
     "text": [
      "\n",
      "100%|██████████| 6/6 [00:13<00:00,  2.22s/it]"
     ]
    },
    {
     "name": "stdout",
     "output_type": "stream",
     "text": [
      "2022-04-26 16:42:27,711 Evaluating as a multi-label problem: False\n",
      "2022-04-26 16:42:27,717 TEST : loss 0.39591464400291443 - f1-score (micro avg)  0.9226\n",
      "2022-04-26 16:42:27,722 BAD EPOCHS (no improvement): 3\n",
      "2022-04-26 16:42:27,723 ----------------------------------------------------------------------------------------------------\n"
     ]
    },
    {
     "name": "stderr",
     "output_type": "stream",
     "text": [
      "\n"
     ]
    },
    {
     "name": "stdout",
     "output_type": "stream",
     "text": [
      "2022-04-26 16:42:45,470 epoch 23 - iter 3/36 - loss 0.03505568 - samples/sec: 5.41 - lr: 0.050000\n",
      "2022-04-26 16:43:04,808 epoch 23 - iter 6/36 - loss 0.02464910 - samples/sec: 4.96 - lr: 0.050000\n",
      "2022-04-26 16:43:24,854 epoch 23 - iter 9/36 - loss 0.02250840 - samples/sec: 4.79 - lr: 0.050000\n",
      "2022-04-26 16:43:43,213 epoch 23 - iter 12/36 - loss 0.02506162 - samples/sec: 5.23 - lr: 0.050000\n",
      "2022-04-26 16:44:02,621 epoch 23 - iter 15/36 - loss 0.03359666 - samples/sec: 4.95 - lr: 0.050000\n",
      "2022-04-26 16:44:18,719 epoch 23 - iter 18/36 - loss 0.03536497 - samples/sec: 5.96 - lr: 0.050000\n",
      "2022-04-26 16:44:43,027 epoch 23 - iter 21/36 - loss 0.03386206 - samples/sec: 3.95 - lr: 0.050000\n",
      "2022-04-26 16:45:07,365 epoch 23 - iter 24/36 - loss 0.03260744 - samples/sec: 3.94 - lr: 0.050000\n",
      "2022-04-26 16:45:26,243 epoch 23 - iter 27/36 - loss 0.03254437 - samples/sec: 5.09 - lr: 0.050000\n",
      "2022-04-26 16:45:44,633 epoch 23 - iter 30/36 - loss 0.03464108 - samples/sec: 5.22 - lr: 0.050000\n",
      "2022-04-26 16:46:01,432 epoch 23 - iter 33/36 - loss 0.03280761 - samples/sec: 5.72 - lr: 0.050000\n",
      "2022-04-26 16:46:17,632 epoch 23 - iter 36/36 - loss 0.03088547 - samples/sec: 5.93 - lr: 0.050000\n",
      "2022-04-26 16:46:17,634 ----------------------------------------------------------------------------------------------------\n",
      "2022-04-26 16:46:17,634 EPOCH 23 done: loss 0.0309 - lr 0.050000\n"
     ]
    },
    {
     "name": "stderr",
     "output_type": "stream",
     "text": [
      "100%|██████████| 6/6 [00:14<00:00,  2.40s/it]"
     ]
    },
    {
     "name": "stdout",
     "output_type": "stream",
     "text": [
      "2022-04-26 16:46:32,037 Evaluating as a multi-label problem: False\n",
      "2022-04-26 16:46:32,044 DEV : loss 0.28663942217826843 - f1-score (micro avg)  0.9335\n"
     ]
    },
    {
     "name": "stderr",
     "output_type": "stream",
     "text": [
      "\n",
      "100%|██████████| 6/6 [00:13<00:00,  2.20s/it]"
     ]
    },
    {
     "name": "stdout",
     "output_type": "stream",
     "text": [
      "2022-04-26 16:46:45,270 Evaluating as a multi-label problem: False\n",
      "2022-04-26 16:46:45,280 TEST : loss 0.40921199321746826 - f1-score (micro avg)  0.9231\n",
      "2022-04-26 16:46:45,287 Epoch    23: reducing learning rate of group 0 to 2.5000e-02.\n",
      "2022-04-26 16:46:45,289 BAD EPOCHS (no improvement): 4\n",
      "2022-04-26 16:46:45,292 ----------------------------------------------------------------------------------------------------\n"
     ]
    },
    {
     "name": "stderr",
     "output_type": "stream",
     "text": [
      "\n"
     ]
    },
    {
     "name": "stdout",
     "output_type": "stream",
     "text": [
      "2022-04-26 16:47:05,675 epoch 24 - iter 3/36 - loss 0.01471425 - samples/sec: 4.71 - lr: 0.025000\n",
      "2022-04-26 16:47:23,056 epoch 24 - iter 6/36 - loss 0.02368893 - samples/sec: 5.52 - lr: 0.025000\n",
      "2022-04-26 16:47:40,590 epoch 24 - iter 9/36 - loss 0.02001737 - samples/sec: 5.48 - lr: 0.025000\n",
      "2022-04-26 16:48:05,583 epoch 24 - iter 12/36 - loss 0.02200893 - samples/sec: 3.84 - lr: 0.025000\n",
      "2022-04-26 16:48:23,345 epoch 24 - iter 15/36 - loss 0.02284137 - samples/sec: 5.41 - lr: 0.025000\n",
      "2022-04-26 16:48:42,813 epoch 24 - iter 18/36 - loss 0.02291454 - samples/sec: 4.93 - lr: 0.025000\n",
      "2022-04-26 16:49:01,651 epoch 24 - iter 21/36 - loss 0.02279188 - samples/sec: 5.10 - lr: 0.025000\n",
      "2022-04-26 16:49:21,002 epoch 24 - iter 24/36 - loss 0.02266052 - samples/sec: 4.96 - lr: 0.025000\n",
      "2022-04-26 16:49:41,094 epoch 24 - iter 27/36 - loss 0.02279001 - samples/sec: 4.78 - lr: 0.025000\n",
      "2022-04-26 16:49:59,528 epoch 24 - iter 30/36 - loss 0.02360752 - samples/sec: 5.21 - lr: 0.025000\n",
      "2022-04-26 16:50:23,447 epoch 24 - iter 33/36 - loss 0.02420784 - samples/sec: 4.01 - lr: 0.025000\n",
      "2022-04-26 16:50:38,610 epoch 24 - iter 36/36 - loss 0.02355915 - samples/sec: 6.33 - lr: 0.025000\n",
      "2022-04-26 16:50:38,613 ----------------------------------------------------------------------------------------------------\n",
      "2022-04-26 16:50:38,614 EPOCH 24 done: loss 0.0236 - lr 0.025000\n"
     ]
    },
    {
     "name": "stderr",
     "output_type": "stream",
     "text": [
      "100%|██████████| 6/6 [00:14<00:00,  2.41s/it]"
     ]
    },
    {
     "name": "stdout",
     "output_type": "stream",
     "text": [
      "2022-04-26 16:50:53,073 Evaluating as a multi-label problem: False\n",
      "2022-04-26 16:50:53,080 DEV : loss 0.3056528568267822 - f1-score (micro avg)  0.9362\n"
     ]
    },
    {
     "name": "stderr",
     "output_type": "stream",
     "text": [
      "\n",
      "100%|██████████| 6/6 [00:13<00:00,  2.29s/it]"
     ]
    },
    {
     "name": "stdout",
     "output_type": "stream",
     "text": [
      "2022-04-26 16:51:06,808 Evaluating as a multi-label problem: False\n",
      "2022-04-26 16:51:06,814 TEST : loss 0.45042261481285095 - f1-score (micro avg)  0.9231\n",
      "2022-04-26 16:51:06,818 BAD EPOCHS (no improvement): 1\n",
      "2022-04-26 16:51:06,820 ----------------------------------------------------------------------------------------------------\n"
     ]
    },
    {
     "name": "stderr",
     "output_type": "stream",
     "text": [
      "\n"
     ]
    },
    {
     "name": "stdout",
     "output_type": "stream",
     "text": [
      "2022-04-26 16:51:24,343 epoch 25 - iter 3/36 - loss 0.03150857 - samples/sec: 5.48 - lr: 0.025000\n",
      "2022-04-26 16:51:41,820 epoch 25 - iter 6/36 - loss 0.02874621 - samples/sec: 5.49 - lr: 0.025000\n",
      "2022-04-26 16:52:02,553 epoch 25 - iter 9/36 - loss 0.02718676 - samples/sec: 4.63 - lr: 0.025000\n",
      "2022-04-26 16:52:22,145 epoch 25 - iter 12/36 - loss 0.02894817 - samples/sec: 4.90 - lr: 0.025000\n",
      "2022-04-26 16:52:41,968 epoch 25 - iter 15/36 - loss 0.02584187 - samples/sec: 4.84 - lr: 0.025000\n",
      "2022-04-26 16:52:59,728 epoch 25 - iter 18/36 - loss 0.02608913 - samples/sec: 5.41 - lr: 0.025000\n",
      "2022-04-26 16:53:19,527 epoch 25 - iter 21/36 - loss 0.02561329 - samples/sec: 4.85 - lr: 0.025000\n",
      "2022-04-26 16:53:39,189 epoch 25 - iter 24/36 - loss 0.02323771 - samples/sec: 4.88 - lr: 0.025000\n",
      "2022-04-26 16:53:57,196 epoch 25 - iter 27/36 - loss 0.02245626 - samples/sec: 5.33 - lr: 0.025000\n",
      "2022-04-26 16:54:18,786 epoch 25 - iter 30/36 - loss 0.02111183 - samples/sec: 4.45 - lr: 0.025000\n",
      "2022-04-26 16:54:39,217 epoch 25 - iter 33/36 - loss 0.02065882 - samples/sec: 4.70 - lr: 0.025000\n",
      "2022-04-26 16:54:52,254 epoch 25 - iter 36/36 - loss 0.02027014 - samples/sec: 7.36 - lr: 0.025000\n",
      "2022-04-26 16:54:52,256 ----------------------------------------------------------------------------------------------------\n",
      "2022-04-26 16:54:52,256 EPOCH 25 done: loss 0.0203 - lr 0.025000\n"
     ]
    },
    {
     "name": "stderr",
     "output_type": "stream",
     "text": [
      "100%|██████████| 6/6 [00:14<00:00,  2.42s/it]"
     ]
    },
    {
     "name": "stdout",
     "output_type": "stream",
     "text": [
      "2022-04-26 16:55:06,795 Evaluating as a multi-label problem: False\n",
      "2022-04-26 16:55:06,801 DEV : loss 0.31952884793281555 - f1-score (micro avg)  0.9362\n"
     ]
    },
    {
     "name": "stderr",
     "output_type": "stream",
     "text": [
      "\n",
      "100%|██████████| 6/6 [00:13<00:00,  2.20s/it]"
     ]
    },
    {
     "name": "stdout",
     "output_type": "stream",
     "text": [
      "2022-04-26 16:55:20,016 Evaluating as a multi-label problem: False\n",
      "2022-04-26 16:55:20,022 TEST : loss 0.4542566239833832 - f1-score (micro avg)  0.9274\n",
      "2022-04-26 16:55:20,026 BAD EPOCHS (no improvement): 2\n",
      "2022-04-26 16:55:20,027 ----------------------------------------------------------------------------------------------------\n"
     ]
    },
    {
     "name": "stderr",
     "output_type": "stream",
     "text": [
      "\n"
     ]
    },
    {
     "name": "stdout",
     "output_type": "stream",
     "text": [
      "2022-04-26 16:55:40,354 epoch 26 - iter 3/36 - loss 0.04526619 - samples/sec: 4.72 - lr: 0.025000\n",
      "2022-04-26 16:55:57,372 epoch 26 - iter 6/36 - loss 0.02910130 - samples/sec: 5.64 - lr: 0.025000\n",
      "2022-04-26 16:56:15,859 epoch 26 - iter 9/36 - loss 0.02809105 - samples/sec: 5.19 - lr: 0.025000\n",
      "2022-04-26 16:56:30,555 epoch 26 - iter 12/36 - loss 0.02725265 - samples/sec: 6.53 - lr: 0.025000\n",
      "2022-04-26 16:56:51,570 epoch 26 - iter 15/36 - loss 0.02557997 - samples/sec: 4.57 - lr: 0.025000\n",
      "2022-04-26 16:57:13,166 epoch 26 - iter 18/36 - loss 0.02360129 - samples/sec: 4.45 - lr: 0.025000\n",
      "2022-04-26 16:57:38,167 epoch 26 - iter 21/36 - loss 0.02135453 - samples/sec: 3.84 - lr: 0.025000\n",
      "2022-04-26 16:57:59,266 epoch 26 - iter 24/36 - loss 0.02017121 - samples/sec: 4.55 - lr: 0.025000\n",
      "2022-04-26 16:58:18,319 epoch 26 - iter 27/36 - loss 0.02475018 - samples/sec: 5.04 - lr: 0.025000\n",
      "2022-04-26 16:58:35,693 epoch 26 - iter 30/36 - loss 0.02323706 - samples/sec: 5.53 - lr: 0.025000\n",
      "2022-04-26 16:58:54,691 epoch 26 - iter 33/36 - loss 0.02333705 - samples/sec: 5.05 - lr: 0.025000\n",
      "2022-04-26 17:02:31,228 epoch 26 - iter 36/36 - loss 0.02270228 - samples/sec: 0.44 - lr: 0.025000\n",
      "2022-04-26 17:02:31,230 ----------------------------------------------------------------------------------------------------\n",
      "2022-04-26 17:02:31,231 EPOCH 26 done: loss 0.0227 - lr 0.025000\n"
     ]
    },
    {
     "name": "stderr",
     "output_type": "stream",
     "text": [
      "100%|██████████| 6/6 [21:00<00:00, 210.15s/it]"
     ]
    },
    {
     "name": "stdout",
     "output_type": "stream",
     "text": [
      "2022-04-26 17:23:32,126 Evaluating as a multi-label problem: False\n",
      "2022-04-26 17:23:32,133 DEV : loss 0.29530641436576843 - f1-score (micro avg)  0.9362\n"
     ]
    },
    {
     "name": "stderr",
     "output_type": "stream",
     "text": [
      "\n",
      "100%|██████████| 6/6 [00:12<00:00,  2.16s/it]"
     ]
    },
    {
     "name": "stdout",
     "output_type": "stream",
     "text": [
      "2022-04-26 17:23:45,075 Evaluating as a multi-label problem: False\n",
      "2022-04-26 17:23:45,081 TEST : loss 0.4434884190559387 - f1-score (micro avg)  0.93\n",
      "2022-04-26 17:23:45,085 BAD EPOCHS (no improvement): 3\n",
      "2022-04-26 17:23:45,086 ----------------------------------------------------------------------------------------------------\n"
     ]
    },
    {
     "name": "stderr",
     "output_type": "stream",
     "text": [
      "\n"
     ]
    },
    {
     "name": "stdout",
     "output_type": "stream",
     "text": [
      "2022-04-26 17:40:48,863 epoch 27 - iter 3/36 - loss 0.01125737 - samples/sec: 0.09 - lr: 0.025000\n",
      "2022-04-26 17:41:07,616 epoch 27 - iter 6/36 - loss 0.01572570 - samples/sec: 5.12 - lr: 0.025000\n",
      "2022-04-26 17:41:28,957 epoch 27 - iter 9/36 - loss 0.01288147 - samples/sec: 4.50 - lr: 0.025000\n",
      "2022-04-26 18:00:08,265 epoch 27 - iter 12/36 - loss 0.01520391 - samples/sec: 0.09 - lr: 0.025000\n",
      "2022-04-26 18:15:54,047 epoch 27 - iter 15/36 - loss 0.01871560 - samples/sec: 0.10 - lr: 0.025000\n",
      "2022-04-26 18:20:13,717 epoch 27 - iter 18/36 - loss 0.01796587 - samples/sec: 0.37 - lr: 0.025000\n",
      "2022-04-26 18:38:12,364 epoch 27 - iter 21/36 - loss 0.01732088 - samples/sec: 0.09 - lr: 0.025000\n",
      "2022-04-26 18:53:35,902 epoch 27 - iter 24/36 - loss 0.01665056 - samples/sec: 0.10 - lr: 0.025000\n",
      "2022-04-26 19:28:34,242 epoch 27 - iter 27/36 - loss 0.01668504 - samples/sec: 0.05 - lr: 0.025000\n",
      "2022-04-26 19:42:14,540 epoch 27 - iter 30/36 - loss 0.01672045 - samples/sec: 0.12 - lr: 0.025000\n",
      "2022-04-26 20:14:33,666 epoch 27 - iter 33/36 - loss 0.01631250 - samples/sec: 0.05 - lr: 0.025000\n",
      "2022-04-26 20:14:48,794 epoch 27 - iter 36/36 - loss 0.01645014 - samples/sec: 6.35 - lr: 0.025000\n",
      "2022-04-26 20:14:48,795 ----------------------------------------------------------------------------------------------------\n",
      "2022-04-26 20:14:48,796 EPOCH 27 done: loss 0.0165 - lr 0.025000\n"
     ]
    },
    {
     "name": "stderr",
     "output_type": "stream",
     "text": [
      "100%|██████████| 6/6 [15:35<00:00, 155.89s/it]"
     ]
    },
    {
     "name": "stdout",
     "output_type": "stream",
     "text": [
      "2022-04-26 20:30:24,155 Evaluating as a multi-label problem: False\n",
      "2022-04-26 20:30:24,164 DEV : loss 0.33256739377975464 - f1-score (micro avg)  0.9316\n"
     ]
    },
    {
     "name": "stderr",
     "output_type": "stream",
     "text": [
      "\n",
      "100%|██████████| 6/6 [32:37<00:00, 326.18s/it]"
     ]
    },
    {
     "name": "stdout",
     "output_type": "stream",
     "text": [
      "2022-04-26 21:03:01,271 Evaluating as a multi-label problem: False\n",
      "2022-04-26 21:03:01,276 TEST : loss 0.48034754395484924 - f1-score (micro avg)  0.927\n",
      "2022-04-26 21:03:01,281 Epoch    27: reducing learning rate of group 0 to 1.2500e-02.\n",
      "2022-04-26 21:03:01,281 BAD EPOCHS (no improvement): 4\n",
      "2022-04-26 21:03:01,282 ----------------------------------------------------------------------------------------------------\n"
     ]
    },
    {
     "name": "stderr",
     "output_type": "stream",
     "text": [
      "\n"
     ]
    },
    {
     "name": "stdout",
     "output_type": "stream",
     "text": [
      "2022-04-26 21:13:26,154 epoch 28 - iter 3/36 - loss 0.00790311 - samples/sec: 0.15 - lr: 0.012500\n",
      "2022-04-26 21:14:07,612 epoch 28 - iter 6/36 - loss 0.01733933 - samples/sec: 2.32 - lr: 0.012500\n",
      "2022-04-26 21:15:02,787 epoch 28 - iter 9/36 - loss 0.01524338 - samples/sec: 1.74 - lr: 0.012500\n",
      "2022-04-26 21:16:11,847 epoch 28 - iter 12/36 - loss 0.01422080 - samples/sec: 1.39 - lr: 0.012500\n",
      "2022-04-26 21:17:04,528 epoch 28 - iter 15/36 - loss 0.01331675 - samples/sec: 1.82 - lr: 0.012500\n",
      "2022-04-26 21:18:05,235 epoch 28 - iter 18/36 - loss 0.01305847 - samples/sec: 1.58 - lr: 0.012500\n",
      "2022-04-26 21:18:28,721 epoch 28 - iter 21/36 - loss 0.01243230 - samples/sec: 4.09 - lr: 0.012500\n",
      "2022-04-26 21:18:43,879 epoch 28 - iter 24/36 - loss 0.01271067 - samples/sec: 6.33 - lr: 0.012500\n",
      "2022-04-26 21:19:06,445 epoch 28 - iter 27/36 - loss 0.01487626 - samples/sec: 4.25 - lr: 0.012500\n",
      "2022-04-26 21:19:30,508 epoch 28 - iter 30/36 - loss 0.01590462 - samples/sec: 3.99 - lr: 0.012500\n",
      "2022-04-26 21:19:50,836 epoch 28 - iter 33/36 - loss 0.01504674 - samples/sec: 4.72 - lr: 0.012500\n",
      "2022-04-26 21:20:03,744 epoch 28 - iter 36/36 - loss 0.01493791 - samples/sec: 7.44 - lr: 0.012500\n",
      "2022-04-26 21:20:03,745 ----------------------------------------------------------------------------------------------------\n",
      "2022-04-26 21:20:03,746 EPOCH 28 done: loss 0.0149 - lr 0.012500\n"
     ]
    },
    {
     "name": "stderr",
     "output_type": "stream",
     "text": [
      "100%|██████████| 6/6 [00:14<00:00,  2.36s/it]"
     ]
    },
    {
     "name": "stdout",
     "output_type": "stream",
     "text": [
      "2022-04-26 21:20:17,902 Evaluating as a multi-label problem: False\n",
      "2022-04-26 21:20:17,920 DEV : loss 0.3300119638442993 - f1-score (micro avg)  0.936\n"
     ]
    },
    {
     "name": "stderr",
     "output_type": "stream",
     "text": [
      "\n",
      "100%|██████████| 6/6 [00:13<00:00,  2.19s/it]"
     ]
    },
    {
     "name": "stdout",
     "output_type": "stream",
     "text": [
      "2022-04-26 21:20:31,097 Evaluating as a multi-label problem: False\n",
      "2022-04-26 21:20:31,103 TEST : loss 0.4857065975666046 - f1-score (micro avg)  0.9258\n",
      "2022-04-26 21:20:31,107 BAD EPOCHS (no improvement): 1\n",
      "2022-04-26 21:20:31,110 ----------------------------------------------------------------------------------------------------\n"
     ]
    },
    {
     "name": "stderr",
     "output_type": "stream",
     "text": [
      "\n"
     ]
    },
    {
     "name": "stdout",
     "output_type": "stream",
     "text": [
      "2022-04-26 21:20:51,840 epoch 29 - iter 3/36 - loss 0.03316787 - samples/sec: 4.63 - lr: 0.012500\n",
      "2022-04-26 21:21:11,417 epoch 29 - iter 6/36 - loss 0.02473717 - samples/sec: 4.90 - lr: 0.012500\n",
      "2022-04-26 21:21:27,511 epoch 29 - iter 9/36 - loss 0.01831139 - samples/sec: 5.97 - lr: 0.012500\n",
      "2022-04-26 21:21:46,411 epoch 29 - iter 12/36 - loss 0.01806015 - samples/sec: 5.08 - lr: 0.012500\n",
      "2022-04-26 21:22:04,095 epoch 29 - iter 15/36 - loss 0.01580195 - samples/sec: 5.43 - lr: 0.012500\n"
     ]
    }
   ],
   "source": [
    "transformer = TransformerWordEmbeddings('distilbert-base-uncased')\n",
    "\n",
    "stacked_embeddings = StackedEmbeddings([\n",
    "                                        glove_embedding,\n",
    "                                        transformer\n",
    "                                       ])\n",
    "\n",
    "tagger : SequenceTagger = SequenceTagger(hidden_size=256,\n",
    "                                       embeddings=stacked_embeddings,\n",
    "                                       tag_dictionary=tag_dictionary,\n",
    "                                       tag_type=tag_type,\n",
    "                                       use_crf=True)\n",
    "\n",
    "trainer : ModelTrainer = ModelTrainer(tagger, corpus)\n",
    "# TRAINED\n",
    "trainer.train('models/resources_v6/taggers/ner',\n",
    "              learning_rate=0.1,\n",
    "              mini_batch_size=32,\n",
    "              max_epochs=150,\n",
    "              monitor_test=True)\n",
    "\n",
    "plot_training_curves('models/resources_v6/taggers/ner/loss.tsv')"
   ]
  },
  {
   "cell_type": "code",
   "execution_count": null,
   "metadata": {},
   "outputs": [],
   "source": [
    "# Comparing results\n",
    "results_1 = pd.read_csv('models/resources/taggers/ner/loss.tsv', sep='\\t')\n",
    "results_2 = pd.read_csv('models/resources_v2/taggers/ner/loss.tsv', sep='\\t')\n",
    "results_3 = pd.read_csv('models/resources_v3/taggers/ner/loss.tsv', sep='\\t')\n",
    "results_4 = pd.read_csv('models/resources_v4/taggers/ner/loss.tsv', sep='\\t')\n",
    "results_5 = pd.read_csv('models/resources_v5/taggers/ner/loss.tsv', sep='\\t')\n",
    "results_6 = pd.read_csv('models/resources_v6/taggers/ner/loss.tsv', sep='\\t')\n",
    "# list(map( lambda x: str(x), list(range(1,len(f1_scores)+1)) ) )"
   ]
  },
  {
   "cell_type": "code",
   "execution_count": null,
   "metadata": {},
   "outputs": [
    {
     "data": {
      "application/vnd.plotly.v1+json": {
       "config": {
        "plotlyServerURL": "https://plot.ly"
       },
       "data": [
        {
         "name": "Small (~100) (glove Embeddings)",
         "type": "box",
         "y": [
          0.1538,
          0.1667,
          0.2778,
          0.2,
          0.32,
          0.2581,
          0.3571,
          0.25,
          0.5217,
          0.2857,
          0.6087,
          0.4444,
          0.6667,
          0.48,
          0.5833,
          0.56,
          0.64,
          0.64,
          0.64,
          0.7692,
          0.7692,
          0.7692,
          0.6923,
          0.64,
          0.7692,
          0.7692,
          0.7692,
          0.7692,
          0.7692,
          0.6923,
          0.7692,
          0.7692,
          0.7692,
          0.7407,
          0.6923,
          0.6923,
          0.6923,
          0.6923,
          0.7407,
          0.7692,
          0.7692,
          0.6923,
          0.7407,
          0.7407,
          0.7407,
          0.7407,
          0.7692,
          0.7407,
          0.7407,
          0.7407,
          0.7407,
          0.7407,
          0.7407,
          0.7407,
          0.7407,
          0.7407,
          0.7407,
          0.7407,
          0.7407,
          0.7407,
          0.7407,
          0.7407,
          0.7407,
          0.7407,
          0.7407,
          0.7407,
          0.7407,
          0.7407,
          0.7407,
          0.7407,
          0.7407,
          0.7407,
          0.7407
         ]
        },
        {
         "name": "Small (~200) (glove Embeddings)",
         "type": "box",
         "y": [
          0.3469,
          0.3556,
          0.4444,
          0.4628,
          0.5287,
          0.5045,
          0.5294,
          0.5505,
          0.6214,
          0.5391,
          0.625,
          0.7156,
          0.7921,
          0.7222,
          0.7843,
          0.7723,
          0.8485,
          0.7573,
          0.8515,
          0.75,
          0.8039,
          0.8515,
          0.8283,
          0.7843,
          0.8119,
          0.7767,
          0.8119,
          0.8317,
          0.8317,
          0.8119,
          0.8119,
          0.8119,
          0.8119,
          0.8119,
          0.8119,
          0.8119,
          0.8119,
          0.8119,
          0.8119,
          0.8119,
          0.8119,
          0.8119,
          0.8119,
          0.8119,
          0.8119,
          0.8119,
          0.8119,
          0.8119,
          0.8119,
          0.8119,
          0.8119,
          0.8119,
          0.8119,
          0.8119,
          0.8119,
          0.8119,
          0.8119,
          0.8119,
          0.8119,
          0.8119,
          0.8119,
          0.8119
         ]
        },
        {
         "name": "Large (~1500) (glove Embeddings)",
         "type": "box",
         "y": [
          0.4257,
          0.7748,
          0.8224,
          0.881,
          0.8642,
          0.8785,
          0.8976,
          0.9011,
          0.908,
          0.8906,
          0.9045,
          0.9014,
          0.8854,
          0.8871,
          0.8973,
          0.9025,
          0.9048,
          0.8875,
          0.9031,
          0.8966,
          0.9074,
          0.9077,
          0.9028,
          0.8934,
          0.8966,
          0.8997,
          0.8997,
          0.8997,
          0.8997,
          0.8997,
          0.8997,
          0.8997,
          0.9028,
          0.8997,
          0.8997,
          0.8997,
          0.8997,
          0.9011,
          0.8997,
          0.9011,
          0.8997,
          0.8997,
          0.8997,
          0.8997,
          0.8997,
          0.8997,
          0.8997,
          0.8997,
          0.8997
         ]
        },
        {
         "name": "Large (~1500) (glove + Flair Embeddings)",
         "type": "box",
         "y": [
          0.8125,
          0.8892,
          0.8986,
          0.9208,
          0.9037,
          0.9296,
          0.9203,
          0.913,
          0.9231,
          0.9255,
          0.9345,
          0.9269,
          0.9353,
          0.9284,
          0.9291,
          0.9255,
          0.9369,
          0.9457,
          0.9412,
          0.922,
          0.9255,
          0.9386,
          0.9359,
          0.9457,
          0.9426,
          0.9474,
          0.9444,
          0.9434,
          0.946,
          0.9431,
          0.9431,
          0.9446,
          0.9475,
          0.9489,
          0.9446,
          0.946,
          0.9489,
          0.9475,
          0.9489,
          0.9474,
          0.9474,
          0.9475,
          0.952,
          0.9518,
          0.9491,
          0.9491,
          0.9474,
          0.9489,
          0.9489,
          0.9489,
          0.9474,
          0.9489,
          0.9491,
          0.9491,
          0.9491,
          0.9491,
          0.9504,
          0.9491,
          0.9491,
          0.9491,
          0.9491,
          0.9491,
          0.9491,
          0.9491,
          0.9491,
          0.9491,
          0.9491
         ]
        },
        {
         "name": "Large (~1500) (glove + distilBERT Embeddings)",
         "type": "box",
         "y": [
          0.7052,
          0.8846,
          0.8678,
          0.9099,
          0.901,
          0.9065,
          0.9107,
          0.9145,
          0.9211,
          0.9158,
          0.9242,
          0.9161,
          0.9168,
          0.9152,
          0.9205,
          0.9312,
          0.9154,
          0.9353,
          0.9268,
          0.9255,
          0.9341,
          0.9318,
          0.9287,
          0.9374,
          0.9304,
          0.9335,
          0.931,
          0.9331,
          0.9335,
          0.9362,
          0.9333,
          0.9333,
          0.9331,
          0.9318,
          0.9316,
          0.9318,
          0.9318,
          0.9318,
          0.9318,
          0.9289,
          0.9289,
          0.9289,
          0.9318,
          0.9318,
          0.9318,
          0.9289,
          0.9289,
          0.9318,
          0.9318,
          0.9318,
          0.9289,
          0.9289,
          0.9318,
          0.9318,
          0.9318,
          0.9318
         ]
        },
        {
         "name": "Large (~1500) (FLAIR Embeddings)",
         "type": "box",
         "y": [
          0.8394,
          0.9168,
          0.9256,
          0.924,
          0.9302,
          0.9132,
          0.9262,
          0.9363,
          0.9233,
          0.9382,
          0.9312,
          0.9355,
          0.9417,
          0.9244,
          0.924,
          0.9474,
          0.9357,
          0.9449,
          0.9398,
          0.936,
          0.9432,
          0.9374,
          0.9398,
          0.9347,
          0.9431,
          0.9431,
          0.9446,
          0.9417,
          0.9474,
          0.9475,
          0.9518,
          0.946,
          0.946,
          0.946,
          0.946,
          0.946,
          0.946,
          0.946,
          0.946,
          0.9504,
          0.9504,
          0.946,
          0.946,
          0.9504,
          0.9504,
          0.9504,
          0.946,
          0.946,
          0.946,
          0.946,
          0.946,
          0.946,
          0.946,
          0.946,
          0.946,
          0.946,
          0.946,
          0.946,
          0.946
         ]
        }
       ],
       "layout": {
        "height": 600,
        "template": {
         "data": {
          "bar": [
           {
            "error_x": {
             "color": "#2a3f5f"
            },
            "error_y": {
             "color": "#2a3f5f"
            },
            "marker": {
             "line": {
              "color": "#E5ECF6",
              "width": 0.5
             },
             "pattern": {
              "fillmode": "overlay",
              "size": 10,
              "solidity": 0.2
             }
            },
            "type": "bar"
           }
          ],
          "barpolar": [
           {
            "marker": {
             "line": {
              "color": "#E5ECF6",
              "width": 0.5
             },
             "pattern": {
              "fillmode": "overlay",
              "size": 10,
              "solidity": 0.2
             }
            },
            "type": "barpolar"
           }
          ],
          "carpet": [
           {
            "aaxis": {
             "endlinecolor": "#2a3f5f",
             "gridcolor": "white",
             "linecolor": "white",
             "minorgridcolor": "white",
             "startlinecolor": "#2a3f5f"
            },
            "baxis": {
             "endlinecolor": "#2a3f5f",
             "gridcolor": "white",
             "linecolor": "white",
             "minorgridcolor": "white",
             "startlinecolor": "#2a3f5f"
            },
            "type": "carpet"
           }
          ],
          "choropleth": [
           {
            "colorbar": {
             "outlinewidth": 0,
             "ticks": ""
            },
            "type": "choropleth"
           }
          ],
          "contour": [
           {
            "colorbar": {
             "outlinewidth": 0,
             "ticks": ""
            },
            "colorscale": [
             [
              0,
              "#0d0887"
             ],
             [
              0.1111111111111111,
              "#46039f"
             ],
             [
              0.2222222222222222,
              "#7201a8"
             ],
             [
              0.3333333333333333,
              "#9c179e"
             ],
             [
              0.4444444444444444,
              "#bd3786"
             ],
             [
              0.5555555555555556,
              "#d8576b"
             ],
             [
              0.6666666666666666,
              "#ed7953"
             ],
             [
              0.7777777777777778,
              "#fb9f3a"
             ],
             [
              0.8888888888888888,
              "#fdca26"
             ],
             [
              1,
              "#f0f921"
             ]
            ],
            "type": "contour"
           }
          ],
          "contourcarpet": [
           {
            "colorbar": {
             "outlinewidth": 0,
             "ticks": ""
            },
            "type": "contourcarpet"
           }
          ],
          "heatmap": [
           {
            "colorbar": {
             "outlinewidth": 0,
             "ticks": ""
            },
            "colorscale": [
             [
              0,
              "#0d0887"
             ],
             [
              0.1111111111111111,
              "#46039f"
             ],
             [
              0.2222222222222222,
              "#7201a8"
             ],
             [
              0.3333333333333333,
              "#9c179e"
             ],
             [
              0.4444444444444444,
              "#bd3786"
             ],
             [
              0.5555555555555556,
              "#d8576b"
             ],
             [
              0.6666666666666666,
              "#ed7953"
             ],
             [
              0.7777777777777778,
              "#fb9f3a"
             ],
             [
              0.8888888888888888,
              "#fdca26"
             ],
             [
              1,
              "#f0f921"
             ]
            ],
            "type": "heatmap"
           }
          ],
          "heatmapgl": [
           {
            "colorbar": {
             "outlinewidth": 0,
             "ticks": ""
            },
            "colorscale": [
             [
              0,
              "#0d0887"
             ],
             [
              0.1111111111111111,
              "#46039f"
             ],
             [
              0.2222222222222222,
              "#7201a8"
             ],
             [
              0.3333333333333333,
              "#9c179e"
             ],
             [
              0.4444444444444444,
              "#bd3786"
             ],
             [
              0.5555555555555556,
              "#d8576b"
             ],
             [
              0.6666666666666666,
              "#ed7953"
             ],
             [
              0.7777777777777778,
              "#fb9f3a"
             ],
             [
              0.8888888888888888,
              "#fdca26"
             ],
             [
              1,
              "#f0f921"
             ]
            ],
            "type": "heatmapgl"
           }
          ],
          "histogram": [
           {
            "marker": {
             "pattern": {
              "fillmode": "overlay",
              "size": 10,
              "solidity": 0.2
             }
            },
            "type": "histogram"
           }
          ],
          "histogram2d": [
           {
            "colorbar": {
             "outlinewidth": 0,
             "ticks": ""
            },
            "colorscale": [
             [
              0,
              "#0d0887"
             ],
             [
              0.1111111111111111,
              "#46039f"
             ],
             [
              0.2222222222222222,
              "#7201a8"
             ],
             [
              0.3333333333333333,
              "#9c179e"
             ],
             [
              0.4444444444444444,
              "#bd3786"
             ],
             [
              0.5555555555555556,
              "#d8576b"
             ],
             [
              0.6666666666666666,
              "#ed7953"
             ],
             [
              0.7777777777777778,
              "#fb9f3a"
             ],
             [
              0.8888888888888888,
              "#fdca26"
             ],
             [
              1,
              "#f0f921"
             ]
            ],
            "type": "histogram2d"
           }
          ],
          "histogram2dcontour": [
           {
            "colorbar": {
             "outlinewidth": 0,
             "ticks": ""
            },
            "colorscale": [
             [
              0,
              "#0d0887"
             ],
             [
              0.1111111111111111,
              "#46039f"
             ],
             [
              0.2222222222222222,
              "#7201a8"
             ],
             [
              0.3333333333333333,
              "#9c179e"
             ],
             [
              0.4444444444444444,
              "#bd3786"
             ],
             [
              0.5555555555555556,
              "#d8576b"
             ],
             [
              0.6666666666666666,
              "#ed7953"
             ],
             [
              0.7777777777777778,
              "#fb9f3a"
             ],
             [
              0.8888888888888888,
              "#fdca26"
             ],
             [
              1,
              "#f0f921"
             ]
            ],
            "type": "histogram2dcontour"
           }
          ],
          "mesh3d": [
           {
            "colorbar": {
             "outlinewidth": 0,
             "ticks": ""
            },
            "type": "mesh3d"
           }
          ],
          "parcoords": [
           {
            "line": {
             "colorbar": {
              "outlinewidth": 0,
              "ticks": ""
             }
            },
            "type": "parcoords"
           }
          ],
          "pie": [
           {
            "automargin": true,
            "type": "pie"
           }
          ],
          "scatter": [
           {
            "marker": {
             "colorbar": {
              "outlinewidth": 0,
              "ticks": ""
             }
            },
            "type": "scatter"
           }
          ],
          "scatter3d": [
           {
            "line": {
             "colorbar": {
              "outlinewidth": 0,
              "ticks": ""
             }
            },
            "marker": {
             "colorbar": {
              "outlinewidth": 0,
              "ticks": ""
             }
            },
            "type": "scatter3d"
           }
          ],
          "scattercarpet": [
           {
            "marker": {
             "colorbar": {
              "outlinewidth": 0,
              "ticks": ""
             }
            },
            "type": "scattercarpet"
           }
          ],
          "scattergeo": [
           {
            "marker": {
             "colorbar": {
              "outlinewidth": 0,
              "ticks": ""
             }
            },
            "type": "scattergeo"
           }
          ],
          "scattergl": [
           {
            "marker": {
             "colorbar": {
              "outlinewidth": 0,
              "ticks": ""
             }
            },
            "type": "scattergl"
           }
          ],
          "scattermapbox": [
           {
            "marker": {
             "colorbar": {
              "outlinewidth": 0,
              "ticks": ""
             }
            },
            "type": "scattermapbox"
           }
          ],
          "scatterpolar": [
           {
            "marker": {
             "colorbar": {
              "outlinewidth": 0,
              "ticks": ""
             }
            },
            "type": "scatterpolar"
           }
          ],
          "scatterpolargl": [
           {
            "marker": {
             "colorbar": {
              "outlinewidth": 0,
              "ticks": ""
             }
            },
            "type": "scatterpolargl"
           }
          ],
          "scatterternary": [
           {
            "marker": {
             "colorbar": {
              "outlinewidth": 0,
              "ticks": ""
             }
            },
            "type": "scatterternary"
           }
          ],
          "surface": [
           {
            "colorbar": {
             "outlinewidth": 0,
             "ticks": ""
            },
            "colorscale": [
             [
              0,
              "#0d0887"
             ],
             [
              0.1111111111111111,
              "#46039f"
             ],
             [
              0.2222222222222222,
              "#7201a8"
             ],
             [
              0.3333333333333333,
              "#9c179e"
             ],
             [
              0.4444444444444444,
              "#bd3786"
             ],
             [
              0.5555555555555556,
              "#d8576b"
             ],
             [
              0.6666666666666666,
              "#ed7953"
             ],
             [
              0.7777777777777778,
              "#fb9f3a"
             ],
             [
              0.8888888888888888,
              "#fdca26"
             ],
             [
              1,
              "#f0f921"
             ]
            ],
            "type": "surface"
           }
          ],
          "table": [
           {
            "cells": {
             "fill": {
              "color": "#EBF0F8"
             },
             "line": {
              "color": "white"
             }
            },
            "header": {
             "fill": {
              "color": "#C8D4E3"
             },
             "line": {
              "color": "white"
             }
            },
            "type": "table"
           }
          ]
         },
         "layout": {
          "annotationdefaults": {
           "arrowcolor": "#2a3f5f",
           "arrowhead": 0,
           "arrowwidth": 1
          },
          "autotypenumbers": "strict",
          "coloraxis": {
           "colorbar": {
            "outlinewidth": 0,
            "ticks": ""
           }
          },
          "colorscale": {
           "diverging": [
            [
             0,
             "#8e0152"
            ],
            [
             0.1,
             "#c51b7d"
            ],
            [
             0.2,
             "#de77ae"
            ],
            [
             0.3,
             "#f1b6da"
            ],
            [
             0.4,
             "#fde0ef"
            ],
            [
             0.5,
             "#f7f7f7"
            ],
            [
             0.6,
             "#e6f5d0"
            ],
            [
             0.7,
             "#b8e186"
            ],
            [
             0.8,
             "#7fbc41"
            ],
            [
             0.9,
             "#4d9221"
            ],
            [
             1,
             "#276419"
            ]
           ],
           "sequential": [
            [
             0,
             "#0d0887"
            ],
            [
             0.1111111111111111,
             "#46039f"
            ],
            [
             0.2222222222222222,
             "#7201a8"
            ],
            [
             0.3333333333333333,
             "#9c179e"
            ],
            [
             0.4444444444444444,
             "#bd3786"
            ],
            [
             0.5555555555555556,
             "#d8576b"
            ],
            [
             0.6666666666666666,
             "#ed7953"
            ],
            [
             0.7777777777777778,
             "#fb9f3a"
            ],
            [
             0.8888888888888888,
             "#fdca26"
            ],
            [
             1,
             "#f0f921"
            ]
           ],
           "sequentialminus": [
            [
             0,
             "#0d0887"
            ],
            [
             0.1111111111111111,
             "#46039f"
            ],
            [
             0.2222222222222222,
             "#7201a8"
            ],
            [
             0.3333333333333333,
             "#9c179e"
            ],
            [
             0.4444444444444444,
             "#bd3786"
            ],
            [
             0.5555555555555556,
             "#d8576b"
            ],
            [
             0.6666666666666666,
             "#ed7953"
            ],
            [
             0.7777777777777778,
             "#fb9f3a"
            ],
            [
             0.8888888888888888,
             "#fdca26"
            ],
            [
             1,
             "#f0f921"
            ]
           ]
          },
          "colorway": [
           "#636efa",
           "#EF553B",
           "#00cc96",
           "#ab63fa",
           "#FFA15A",
           "#19d3f3",
           "#FF6692",
           "#B6E880",
           "#FF97FF",
           "#FECB52"
          ],
          "font": {
           "color": "#2a3f5f"
          },
          "geo": {
           "bgcolor": "white",
           "lakecolor": "white",
           "landcolor": "#E5ECF6",
           "showlakes": true,
           "showland": true,
           "subunitcolor": "white"
          },
          "hoverlabel": {
           "align": "left"
          },
          "hovermode": "closest",
          "mapbox": {
           "style": "light"
          },
          "paper_bgcolor": "white",
          "plot_bgcolor": "#E5ECF6",
          "polar": {
           "angularaxis": {
            "gridcolor": "white",
            "linecolor": "white",
            "ticks": ""
           },
           "bgcolor": "#E5ECF6",
           "radialaxis": {
            "gridcolor": "white",
            "linecolor": "white",
            "ticks": ""
           }
          },
          "scene": {
           "xaxis": {
            "backgroundcolor": "#E5ECF6",
            "gridcolor": "white",
            "gridwidth": 2,
            "linecolor": "white",
            "showbackground": true,
            "ticks": "",
            "zerolinecolor": "white"
           },
           "yaxis": {
            "backgroundcolor": "#E5ECF6",
            "gridcolor": "white",
            "gridwidth": 2,
            "linecolor": "white",
            "showbackground": true,
            "ticks": "",
            "zerolinecolor": "white"
           },
           "zaxis": {
            "backgroundcolor": "#E5ECF6",
            "gridcolor": "white",
            "gridwidth": 2,
            "linecolor": "white",
            "showbackground": true,
            "ticks": "",
            "zerolinecolor": "white"
           }
          },
          "shapedefaults": {
           "line": {
            "color": "#2a3f5f"
           }
          },
          "ternary": {
           "aaxis": {
            "gridcolor": "white",
            "linecolor": "white",
            "ticks": ""
           },
           "baxis": {
            "gridcolor": "white",
            "linecolor": "white",
            "ticks": ""
           },
           "bgcolor": "#E5ECF6",
           "caxis": {
            "gridcolor": "white",
            "linecolor": "white",
            "ticks": ""
           }
          },
          "title": {
           "x": 0.05
          },
          "xaxis": {
           "automargin": true,
           "gridcolor": "white",
           "linecolor": "white",
           "ticks": "",
           "title": {
            "standoff": 15
           },
           "zerolinecolor": "white",
           "zerolinewidth": 2
          },
          "yaxis": {
           "automargin": true,
           "gridcolor": "white",
           "linecolor": "white",
           "ticks": "",
           "title": {
            "standoff": 15
           },
           "zerolinecolor": "white",
           "zerolinewidth": 2
          }
         }
        },
        "title": {
         "text": "Validation Set F1 scores",
         "x": 0.5,
         "xanchor": "center",
         "y": 0.9,
         "yanchor": "top"
        },
        "yaxis": {
         "dtick": 0.05,
         "tick0": 0.4,
         "tickmode": "linear"
        }
       }
      }
     },
     "metadata": {},
     "output_type": "display_data"
    },
    {
     "data": {
      "application/vnd.plotly.v1+json": {
       "config": {
        "plotlyServerURL": "https://plot.ly"
       },
       "data": [
        {
         "name": "Large (~1500) (glove Embeddings)",
         "type": "box",
         "y": [
          0.4237,
          0.7343,
          0.7891,
          0.8614,
          0.8726,
          0.8832,
          0.9135,
          0.9105,
          0.916,
          0.9085,
          0.9177,
          0.9013,
          0.8938,
          0.9002,
          0.9184,
          0.9169,
          0.9105,
          0.9177,
          0.9143,
          0.9131,
          0.9169,
          0.914,
          0.9111,
          0.9042,
          0.9079,
          0.914,
          0.9146,
          0.9097,
          0.9097,
          0.9108,
          0.9059,
          0.9059,
          0.9094,
          0.9108,
          0.9045,
          0.9027,
          0.9027,
          0.9024,
          0.9042,
          0.9024,
          0.9056,
          0.9042,
          0.9042,
          0.9042,
          0.9042,
          0.9042,
          0.9042,
          0.9042,
          0.9027
         ]
        },
        {
         "name": "Large (~1500) (glove + Flair Embeddings)",
         "type": "box",
         "y": [
          0.7771,
          0.8755,
          0.8752,
          0.8939,
          0.8983,
          0.9228,
          0.9136,
          0.9088,
          0.9077,
          0.9083,
          0.9238,
          0.9307,
          0.9329,
          0.9204,
          0.9272,
          0.9387,
          0.9426,
          0.9392,
          0.9339,
          0.9345,
          0.9273,
          0.9375,
          0.9366,
          0.9512,
          0.9378,
          0.9369,
          0.9382,
          0.9373,
          0.9367,
          0.9367,
          0.9399,
          0.9396,
          0.9385,
          0.9415,
          0.9369,
          0.9369,
          0.9426,
          0.941,
          0.9412,
          0.9396,
          0.9396,
          0.9414,
          0.9414,
          0.9428,
          0.9428,
          0.9383,
          0.9398,
          0.9398,
          0.9398,
          0.9398,
          0.9398,
          0.9398,
          0.9383,
          0.9383,
          0.9383,
          0.9383,
          0.9383,
          0.9383,
          0.9383,
          0.9383,
          0.9383,
          0.9383,
          0.9383,
          0.9383,
          0.9383,
          0.9383,
          0.9383
         ]
        },
        {
         "name": "Large (~1500) (glove + distilBERT Embeddings)",
         "type": "box",
         "y": [
          0.6402,
          0.8011,
          0.8142,
          0.8584,
          0.8717,
          0.871,
          0.886,
          0.9001,
          0.8805,
          0.8967,
          0.8892,
          0.9144,
          0.8994,
          0.8988,
          0.867,
          0.9049,
          0.8905,
          0.9144,
          0.8936,
          0.8927,
          0.9054,
          0.913,
          0.9099,
          0.9125,
          0.9112,
          0.906,
          0.9008,
          0.9144,
          0.9094,
          0.9146,
          0.9117,
          0.9135,
          0.9159,
          0.9159,
          0.9146,
          0.9175,
          0.9217,
          0.9204,
          0.9204,
          0.9204,
          0.9204,
          0.9217,
          0.9204,
          0.9204,
          0.9204,
          0.9204,
          0.9217,
          0.9188,
          0.9188,
          0.9188,
          0.9188,
          0.9188,
          0.9188,
          0.9188,
          0.9188,
          0.9188
         ]
        },
        {
         "name": "Large (~1500) (FLAIR Embeddings)",
         "type": "box",
         "y": [
          0.8147,
          0.8698,
          0.9174,
          0.9137,
          0.9289,
          0.901,
          0.9194,
          0.9242,
          0.9104,
          0.9203,
          0.9204,
          0.9337,
          0.9428,
          0.9238,
          0.9053,
          0.9226,
          0.9242,
          0.9228,
          0.9293,
          0.9192,
          0.9272,
          0.9242,
          0.941,
          0.9331,
          0.9367,
          0.9414,
          0.9351,
          0.9323,
          0.9323,
          0.9325,
          0.9339,
          0.9353,
          0.9353,
          0.9341,
          0.9357,
          0.9295,
          0.9355,
          0.9339,
          0.9369,
          0.9355,
          0.9369,
          0.9369,
          0.9369,
          0.9369,
          0.9398,
          0.9291,
          0.9307,
          0.9367,
          0.9369,
          0.9398,
          0.9398,
          0.9398,
          0.9398,
          0.9398,
          0.9398,
          0.9398,
          0.9398,
          0.9398,
          0.9398
         ]
        }
       ],
       "layout": {
        "height": 600,
        "template": {
         "data": {
          "bar": [
           {
            "error_x": {
             "color": "#2a3f5f"
            },
            "error_y": {
             "color": "#2a3f5f"
            },
            "marker": {
             "line": {
              "color": "#E5ECF6",
              "width": 0.5
             },
             "pattern": {
              "fillmode": "overlay",
              "size": 10,
              "solidity": 0.2
             }
            },
            "type": "bar"
           }
          ],
          "barpolar": [
           {
            "marker": {
             "line": {
              "color": "#E5ECF6",
              "width": 0.5
             },
             "pattern": {
              "fillmode": "overlay",
              "size": 10,
              "solidity": 0.2
             }
            },
            "type": "barpolar"
           }
          ],
          "carpet": [
           {
            "aaxis": {
             "endlinecolor": "#2a3f5f",
             "gridcolor": "white",
             "linecolor": "white",
             "minorgridcolor": "white",
             "startlinecolor": "#2a3f5f"
            },
            "baxis": {
             "endlinecolor": "#2a3f5f",
             "gridcolor": "white",
             "linecolor": "white",
             "minorgridcolor": "white",
             "startlinecolor": "#2a3f5f"
            },
            "type": "carpet"
           }
          ],
          "choropleth": [
           {
            "colorbar": {
             "outlinewidth": 0,
             "ticks": ""
            },
            "type": "choropleth"
           }
          ],
          "contour": [
           {
            "colorbar": {
             "outlinewidth": 0,
             "ticks": ""
            },
            "colorscale": [
             [
              0,
              "#0d0887"
             ],
             [
              0.1111111111111111,
              "#46039f"
             ],
             [
              0.2222222222222222,
              "#7201a8"
             ],
             [
              0.3333333333333333,
              "#9c179e"
             ],
             [
              0.4444444444444444,
              "#bd3786"
             ],
             [
              0.5555555555555556,
              "#d8576b"
             ],
             [
              0.6666666666666666,
              "#ed7953"
             ],
             [
              0.7777777777777778,
              "#fb9f3a"
             ],
             [
              0.8888888888888888,
              "#fdca26"
             ],
             [
              1,
              "#f0f921"
             ]
            ],
            "type": "contour"
           }
          ],
          "contourcarpet": [
           {
            "colorbar": {
             "outlinewidth": 0,
             "ticks": ""
            },
            "type": "contourcarpet"
           }
          ],
          "heatmap": [
           {
            "colorbar": {
             "outlinewidth": 0,
             "ticks": ""
            },
            "colorscale": [
             [
              0,
              "#0d0887"
             ],
             [
              0.1111111111111111,
              "#46039f"
             ],
             [
              0.2222222222222222,
              "#7201a8"
             ],
             [
              0.3333333333333333,
              "#9c179e"
             ],
             [
              0.4444444444444444,
              "#bd3786"
             ],
             [
              0.5555555555555556,
              "#d8576b"
             ],
             [
              0.6666666666666666,
              "#ed7953"
             ],
             [
              0.7777777777777778,
              "#fb9f3a"
             ],
             [
              0.8888888888888888,
              "#fdca26"
             ],
             [
              1,
              "#f0f921"
             ]
            ],
            "type": "heatmap"
           }
          ],
          "heatmapgl": [
           {
            "colorbar": {
             "outlinewidth": 0,
             "ticks": ""
            },
            "colorscale": [
             [
              0,
              "#0d0887"
             ],
             [
              0.1111111111111111,
              "#46039f"
             ],
             [
              0.2222222222222222,
              "#7201a8"
             ],
             [
              0.3333333333333333,
              "#9c179e"
             ],
             [
              0.4444444444444444,
              "#bd3786"
             ],
             [
              0.5555555555555556,
              "#d8576b"
             ],
             [
              0.6666666666666666,
              "#ed7953"
             ],
             [
              0.7777777777777778,
              "#fb9f3a"
             ],
             [
              0.8888888888888888,
              "#fdca26"
             ],
             [
              1,
              "#f0f921"
             ]
            ],
            "type": "heatmapgl"
           }
          ],
          "histogram": [
           {
            "marker": {
             "pattern": {
              "fillmode": "overlay",
              "size": 10,
              "solidity": 0.2
             }
            },
            "type": "histogram"
           }
          ],
          "histogram2d": [
           {
            "colorbar": {
             "outlinewidth": 0,
             "ticks": ""
            },
            "colorscale": [
             [
              0,
              "#0d0887"
             ],
             [
              0.1111111111111111,
              "#46039f"
             ],
             [
              0.2222222222222222,
              "#7201a8"
             ],
             [
              0.3333333333333333,
              "#9c179e"
             ],
             [
              0.4444444444444444,
              "#bd3786"
             ],
             [
              0.5555555555555556,
              "#d8576b"
             ],
             [
              0.6666666666666666,
              "#ed7953"
             ],
             [
              0.7777777777777778,
              "#fb9f3a"
             ],
             [
              0.8888888888888888,
              "#fdca26"
             ],
             [
              1,
              "#f0f921"
             ]
            ],
            "type": "histogram2d"
           }
          ],
          "histogram2dcontour": [
           {
            "colorbar": {
             "outlinewidth": 0,
             "ticks": ""
            },
            "colorscale": [
             [
              0,
              "#0d0887"
             ],
             [
              0.1111111111111111,
              "#46039f"
             ],
             [
              0.2222222222222222,
              "#7201a8"
             ],
             [
              0.3333333333333333,
              "#9c179e"
             ],
             [
              0.4444444444444444,
              "#bd3786"
             ],
             [
              0.5555555555555556,
              "#d8576b"
             ],
             [
              0.6666666666666666,
              "#ed7953"
             ],
             [
              0.7777777777777778,
              "#fb9f3a"
             ],
             [
              0.8888888888888888,
              "#fdca26"
             ],
             [
              1,
              "#f0f921"
             ]
            ],
            "type": "histogram2dcontour"
           }
          ],
          "mesh3d": [
           {
            "colorbar": {
             "outlinewidth": 0,
             "ticks": ""
            },
            "type": "mesh3d"
           }
          ],
          "parcoords": [
           {
            "line": {
             "colorbar": {
              "outlinewidth": 0,
              "ticks": ""
             }
            },
            "type": "parcoords"
           }
          ],
          "pie": [
           {
            "automargin": true,
            "type": "pie"
           }
          ],
          "scatter": [
           {
            "marker": {
             "colorbar": {
              "outlinewidth": 0,
              "ticks": ""
             }
            },
            "type": "scatter"
           }
          ],
          "scatter3d": [
           {
            "line": {
             "colorbar": {
              "outlinewidth": 0,
              "ticks": ""
             }
            },
            "marker": {
             "colorbar": {
              "outlinewidth": 0,
              "ticks": ""
             }
            },
            "type": "scatter3d"
           }
          ],
          "scattercarpet": [
           {
            "marker": {
             "colorbar": {
              "outlinewidth": 0,
              "ticks": ""
             }
            },
            "type": "scattercarpet"
           }
          ],
          "scattergeo": [
           {
            "marker": {
             "colorbar": {
              "outlinewidth": 0,
              "ticks": ""
             }
            },
            "type": "scattergeo"
           }
          ],
          "scattergl": [
           {
            "marker": {
             "colorbar": {
              "outlinewidth": 0,
              "ticks": ""
             }
            },
            "type": "scattergl"
           }
          ],
          "scattermapbox": [
           {
            "marker": {
             "colorbar": {
              "outlinewidth": 0,
              "ticks": ""
             }
            },
            "type": "scattermapbox"
           }
          ],
          "scatterpolar": [
           {
            "marker": {
             "colorbar": {
              "outlinewidth": 0,
              "ticks": ""
             }
            },
            "type": "scatterpolar"
           }
          ],
          "scatterpolargl": [
           {
            "marker": {
             "colorbar": {
              "outlinewidth": 0,
              "ticks": ""
             }
            },
            "type": "scatterpolargl"
           }
          ],
          "scatterternary": [
           {
            "marker": {
             "colorbar": {
              "outlinewidth": 0,
              "ticks": ""
             }
            },
            "type": "scatterternary"
           }
          ],
          "surface": [
           {
            "colorbar": {
             "outlinewidth": 0,
             "ticks": ""
            },
            "colorscale": [
             [
              0,
              "#0d0887"
             ],
             [
              0.1111111111111111,
              "#46039f"
             ],
             [
              0.2222222222222222,
              "#7201a8"
             ],
             [
              0.3333333333333333,
              "#9c179e"
             ],
             [
              0.4444444444444444,
              "#bd3786"
             ],
             [
              0.5555555555555556,
              "#d8576b"
             ],
             [
              0.6666666666666666,
              "#ed7953"
             ],
             [
              0.7777777777777778,
              "#fb9f3a"
             ],
             [
              0.8888888888888888,
              "#fdca26"
             ],
             [
              1,
              "#f0f921"
             ]
            ],
            "type": "surface"
           }
          ],
          "table": [
           {
            "cells": {
             "fill": {
              "color": "#EBF0F8"
             },
             "line": {
              "color": "white"
             }
            },
            "header": {
             "fill": {
              "color": "#C8D4E3"
             },
             "line": {
              "color": "white"
             }
            },
            "type": "table"
           }
          ]
         },
         "layout": {
          "annotationdefaults": {
           "arrowcolor": "#2a3f5f",
           "arrowhead": 0,
           "arrowwidth": 1
          },
          "autotypenumbers": "strict",
          "coloraxis": {
           "colorbar": {
            "outlinewidth": 0,
            "ticks": ""
           }
          },
          "colorscale": {
           "diverging": [
            [
             0,
             "#8e0152"
            ],
            [
             0.1,
             "#c51b7d"
            ],
            [
             0.2,
             "#de77ae"
            ],
            [
             0.3,
             "#f1b6da"
            ],
            [
             0.4,
             "#fde0ef"
            ],
            [
             0.5,
             "#f7f7f7"
            ],
            [
             0.6,
             "#e6f5d0"
            ],
            [
             0.7,
             "#b8e186"
            ],
            [
             0.8,
             "#7fbc41"
            ],
            [
             0.9,
             "#4d9221"
            ],
            [
             1,
             "#276419"
            ]
           ],
           "sequential": [
            [
             0,
             "#0d0887"
            ],
            [
             0.1111111111111111,
             "#46039f"
            ],
            [
             0.2222222222222222,
             "#7201a8"
            ],
            [
             0.3333333333333333,
             "#9c179e"
            ],
            [
             0.4444444444444444,
             "#bd3786"
            ],
            [
             0.5555555555555556,
             "#d8576b"
            ],
            [
             0.6666666666666666,
             "#ed7953"
            ],
            [
             0.7777777777777778,
             "#fb9f3a"
            ],
            [
             0.8888888888888888,
             "#fdca26"
            ],
            [
             1,
             "#f0f921"
            ]
           ],
           "sequentialminus": [
            [
             0,
             "#0d0887"
            ],
            [
             0.1111111111111111,
             "#46039f"
            ],
            [
             0.2222222222222222,
             "#7201a8"
            ],
            [
             0.3333333333333333,
             "#9c179e"
            ],
            [
             0.4444444444444444,
             "#bd3786"
            ],
            [
             0.5555555555555556,
             "#d8576b"
            ],
            [
             0.6666666666666666,
             "#ed7953"
            ],
            [
             0.7777777777777778,
             "#fb9f3a"
            ],
            [
             0.8888888888888888,
             "#fdca26"
            ],
            [
             1,
             "#f0f921"
            ]
           ]
          },
          "colorway": [
           "#636efa",
           "#EF553B",
           "#00cc96",
           "#ab63fa",
           "#FFA15A",
           "#19d3f3",
           "#FF6692",
           "#B6E880",
           "#FF97FF",
           "#FECB52"
          ],
          "font": {
           "color": "#2a3f5f"
          },
          "geo": {
           "bgcolor": "white",
           "lakecolor": "white",
           "landcolor": "#E5ECF6",
           "showlakes": true,
           "showland": true,
           "subunitcolor": "white"
          },
          "hoverlabel": {
           "align": "left"
          },
          "hovermode": "closest",
          "mapbox": {
           "style": "light"
          },
          "paper_bgcolor": "white",
          "plot_bgcolor": "#E5ECF6",
          "polar": {
           "angularaxis": {
            "gridcolor": "white",
            "linecolor": "white",
            "ticks": ""
           },
           "bgcolor": "#E5ECF6",
           "radialaxis": {
            "gridcolor": "white",
            "linecolor": "white",
            "ticks": ""
           }
          },
          "scene": {
           "xaxis": {
            "backgroundcolor": "#E5ECF6",
            "gridcolor": "white",
            "gridwidth": 2,
            "linecolor": "white",
            "showbackground": true,
            "ticks": "",
            "zerolinecolor": "white"
           },
           "yaxis": {
            "backgroundcolor": "#E5ECF6",
            "gridcolor": "white",
            "gridwidth": 2,
            "linecolor": "white",
            "showbackground": true,
            "ticks": "",
            "zerolinecolor": "white"
           },
           "zaxis": {
            "backgroundcolor": "#E5ECF6",
            "gridcolor": "white",
            "gridwidth": 2,
            "linecolor": "white",
            "showbackground": true,
            "ticks": "",
            "zerolinecolor": "white"
           }
          },
          "shapedefaults": {
           "line": {
            "color": "#2a3f5f"
           }
          },
          "ternary": {
           "aaxis": {
            "gridcolor": "white",
            "linecolor": "white",
            "ticks": ""
           },
           "baxis": {
            "gridcolor": "white",
            "linecolor": "white",
            "ticks": ""
           },
           "bgcolor": "#E5ECF6",
           "caxis": {
            "gridcolor": "white",
            "linecolor": "white",
            "ticks": ""
           }
          },
          "title": {
           "x": 0.05
          },
          "xaxis": {
           "automargin": true,
           "gridcolor": "white",
           "linecolor": "white",
           "ticks": "",
           "title": {
            "standoff": 15
           },
           "zerolinecolor": "white",
           "zerolinewidth": 2
          },
          "yaxis": {
           "automargin": true,
           "gridcolor": "white",
           "linecolor": "white",
           "ticks": "",
           "title": {
            "standoff": 15
           },
           "zerolinecolor": "white",
           "zerolinewidth": 2
          }
         }
        },
        "title": {
         "text": "Test Set F1 scores",
         "x": 0.5,
         "xanchor": "center",
         "y": 0.9,
         "yanchor": "top"
        },
        "yaxis": {
         "dtick": 0.05,
         "tick0": 0.6,
         "tickmode": "linear"
        }
       }
      }
     },
     "metadata": {},
     "output_type": "display_data"
    },
    {
     "data": {
      "application/vnd.plotly.v1+json": {
       "config": {
        "plotlyServerURL": "https://plot.ly"
       },
       "data": [
        {
         "name": "Large (~1500) (glove + Flair Embeddings)",
         "type": "box",
         "y": [
          0.7771,
          0.8755,
          0.8752,
          0.8939,
          0.8983,
          0.9228,
          0.9136,
          0.9088,
          0.9077,
          0.9083,
          0.9238,
          0.9307,
          0.9329,
          0.9204,
          0.9272,
          0.9387,
          0.9426,
          0.9392,
          0.9339,
          0.9345,
          0.9273,
          0.9375,
          0.9366,
          0.9512,
          0.9378,
          0.9369,
          0.9382,
          0.9373,
          0.9367,
          0.9367,
          0.9399,
          0.9396,
          0.9385,
          0.9415,
          0.9369,
          0.9369,
          0.9426,
          0.941,
          0.9412,
          0.9396,
          0.9396,
          0.9414,
          0.9414,
          0.9428,
          0.9428,
          0.9383,
          0.9398,
          0.9398,
          0.9398,
          0.9398,
          0.9398,
          0.9398,
          0.9383,
          0.9383,
          0.9383,
          0.9383,
          0.9383,
          0.9383,
          0.9383,
          0.9383,
          0.9383,
          0.9383,
          0.9383,
          0.9383,
          0.9383,
          0.9383,
          0.9383
         ]
        },
        {
         "name": "Large (~1500) (glove + distilBERT Embeddings)",
         "type": "box",
         "y": [
          0.6402,
          0.8011,
          0.8142,
          0.8584,
          0.8717,
          0.871,
          0.886,
          0.9001,
          0.8805,
          0.8967,
          0.8892,
          0.9144,
          0.8994,
          0.8988,
          0.867,
          0.9049,
          0.8905,
          0.9144,
          0.8936,
          0.8927,
          0.9054,
          0.913,
          0.9099,
          0.9125,
          0.9112,
          0.906,
          0.9008,
          0.9144,
          0.9094,
          0.9146,
          0.9117,
          0.9135,
          0.9159,
          0.9159,
          0.9146,
          0.9175,
          0.9217,
          0.9204,
          0.9204,
          0.9204,
          0.9204,
          0.9217,
          0.9204,
          0.9204,
          0.9204,
          0.9204,
          0.9217,
          0.9188,
          0.9188,
          0.9188,
          0.9188,
          0.9188,
          0.9188,
          0.9188,
          0.9188,
          0.9188
         ]
        },
        {
         "name": "Large (~1500) (FLAIR Embeddings)",
         "type": "box",
         "y": [
          0.8147,
          0.8698,
          0.9174,
          0.9137,
          0.9289,
          0.901,
          0.9194,
          0.9242,
          0.9104,
          0.9203,
          0.9204,
          0.9337,
          0.9428,
          0.9238,
          0.9053,
          0.9226,
          0.9242,
          0.9228,
          0.9293,
          0.9192,
          0.9272,
          0.9242,
          0.941,
          0.9331,
          0.9367,
          0.9414,
          0.9351,
          0.9323,
          0.9323,
          0.9325,
          0.9339,
          0.9353,
          0.9353,
          0.9341,
          0.9357,
          0.9295,
          0.9355,
          0.9339,
          0.9369,
          0.9355,
          0.9369,
          0.9369,
          0.9369,
          0.9369,
          0.9398,
          0.9291,
          0.9307,
          0.9367,
          0.9369,
          0.9398,
          0.9398,
          0.9398,
          0.9398,
          0.9398,
          0.9398,
          0.9398,
          0.9398,
          0.9398,
          0.9398
         ]
        }
       ],
       "layout": {
        "height": 600,
        "template": {
         "data": {
          "bar": [
           {
            "error_x": {
             "color": "#2a3f5f"
            },
            "error_y": {
             "color": "#2a3f5f"
            },
            "marker": {
             "line": {
              "color": "#E5ECF6",
              "width": 0.5
             },
             "pattern": {
              "fillmode": "overlay",
              "size": 10,
              "solidity": 0.2
             }
            },
            "type": "bar"
           }
          ],
          "barpolar": [
           {
            "marker": {
             "line": {
              "color": "#E5ECF6",
              "width": 0.5
             },
             "pattern": {
              "fillmode": "overlay",
              "size": 10,
              "solidity": 0.2
             }
            },
            "type": "barpolar"
           }
          ],
          "carpet": [
           {
            "aaxis": {
             "endlinecolor": "#2a3f5f",
             "gridcolor": "white",
             "linecolor": "white",
             "minorgridcolor": "white",
             "startlinecolor": "#2a3f5f"
            },
            "baxis": {
             "endlinecolor": "#2a3f5f",
             "gridcolor": "white",
             "linecolor": "white",
             "minorgridcolor": "white",
             "startlinecolor": "#2a3f5f"
            },
            "type": "carpet"
           }
          ],
          "choropleth": [
           {
            "colorbar": {
             "outlinewidth": 0,
             "ticks": ""
            },
            "type": "choropleth"
           }
          ],
          "contour": [
           {
            "colorbar": {
             "outlinewidth": 0,
             "ticks": ""
            },
            "colorscale": [
             [
              0,
              "#0d0887"
             ],
             [
              0.1111111111111111,
              "#46039f"
             ],
             [
              0.2222222222222222,
              "#7201a8"
             ],
             [
              0.3333333333333333,
              "#9c179e"
             ],
             [
              0.4444444444444444,
              "#bd3786"
             ],
             [
              0.5555555555555556,
              "#d8576b"
             ],
             [
              0.6666666666666666,
              "#ed7953"
             ],
             [
              0.7777777777777778,
              "#fb9f3a"
             ],
             [
              0.8888888888888888,
              "#fdca26"
             ],
             [
              1,
              "#f0f921"
             ]
            ],
            "type": "contour"
           }
          ],
          "contourcarpet": [
           {
            "colorbar": {
             "outlinewidth": 0,
             "ticks": ""
            },
            "type": "contourcarpet"
           }
          ],
          "heatmap": [
           {
            "colorbar": {
             "outlinewidth": 0,
             "ticks": ""
            },
            "colorscale": [
             [
              0,
              "#0d0887"
             ],
             [
              0.1111111111111111,
              "#46039f"
             ],
             [
              0.2222222222222222,
              "#7201a8"
             ],
             [
              0.3333333333333333,
              "#9c179e"
             ],
             [
              0.4444444444444444,
              "#bd3786"
             ],
             [
              0.5555555555555556,
              "#d8576b"
             ],
             [
              0.6666666666666666,
              "#ed7953"
             ],
             [
              0.7777777777777778,
              "#fb9f3a"
             ],
             [
              0.8888888888888888,
              "#fdca26"
             ],
             [
              1,
              "#f0f921"
             ]
            ],
            "type": "heatmap"
           }
          ],
          "heatmapgl": [
           {
            "colorbar": {
             "outlinewidth": 0,
             "ticks": ""
            },
            "colorscale": [
             [
              0,
              "#0d0887"
             ],
             [
              0.1111111111111111,
              "#46039f"
             ],
             [
              0.2222222222222222,
              "#7201a8"
             ],
             [
              0.3333333333333333,
              "#9c179e"
             ],
             [
              0.4444444444444444,
              "#bd3786"
             ],
             [
              0.5555555555555556,
              "#d8576b"
             ],
             [
              0.6666666666666666,
              "#ed7953"
             ],
             [
              0.7777777777777778,
              "#fb9f3a"
             ],
             [
              0.8888888888888888,
              "#fdca26"
             ],
             [
              1,
              "#f0f921"
             ]
            ],
            "type": "heatmapgl"
           }
          ],
          "histogram": [
           {
            "marker": {
             "pattern": {
              "fillmode": "overlay",
              "size": 10,
              "solidity": 0.2
             }
            },
            "type": "histogram"
           }
          ],
          "histogram2d": [
           {
            "colorbar": {
             "outlinewidth": 0,
             "ticks": ""
            },
            "colorscale": [
             [
              0,
              "#0d0887"
             ],
             [
              0.1111111111111111,
              "#46039f"
             ],
             [
              0.2222222222222222,
              "#7201a8"
             ],
             [
              0.3333333333333333,
              "#9c179e"
             ],
             [
              0.4444444444444444,
              "#bd3786"
             ],
             [
              0.5555555555555556,
              "#d8576b"
             ],
             [
              0.6666666666666666,
              "#ed7953"
             ],
             [
              0.7777777777777778,
              "#fb9f3a"
             ],
             [
              0.8888888888888888,
              "#fdca26"
             ],
             [
              1,
              "#f0f921"
             ]
            ],
            "type": "histogram2d"
           }
          ],
          "histogram2dcontour": [
           {
            "colorbar": {
             "outlinewidth": 0,
             "ticks": ""
            },
            "colorscale": [
             [
              0,
              "#0d0887"
             ],
             [
              0.1111111111111111,
              "#46039f"
             ],
             [
              0.2222222222222222,
              "#7201a8"
             ],
             [
              0.3333333333333333,
              "#9c179e"
             ],
             [
              0.4444444444444444,
              "#bd3786"
             ],
             [
              0.5555555555555556,
              "#d8576b"
             ],
             [
              0.6666666666666666,
              "#ed7953"
             ],
             [
              0.7777777777777778,
              "#fb9f3a"
             ],
             [
              0.8888888888888888,
              "#fdca26"
             ],
             [
              1,
              "#f0f921"
             ]
            ],
            "type": "histogram2dcontour"
           }
          ],
          "mesh3d": [
           {
            "colorbar": {
             "outlinewidth": 0,
             "ticks": ""
            },
            "type": "mesh3d"
           }
          ],
          "parcoords": [
           {
            "line": {
             "colorbar": {
              "outlinewidth": 0,
              "ticks": ""
             }
            },
            "type": "parcoords"
           }
          ],
          "pie": [
           {
            "automargin": true,
            "type": "pie"
           }
          ],
          "scatter": [
           {
            "marker": {
             "colorbar": {
              "outlinewidth": 0,
              "ticks": ""
             }
            },
            "type": "scatter"
           }
          ],
          "scatter3d": [
           {
            "line": {
             "colorbar": {
              "outlinewidth": 0,
              "ticks": ""
             }
            },
            "marker": {
             "colorbar": {
              "outlinewidth": 0,
              "ticks": ""
             }
            },
            "type": "scatter3d"
           }
          ],
          "scattercarpet": [
           {
            "marker": {
             "colorbar": {
              "outlinewidth": 0,
              "ticks": ""
             }
            },
            "type": "scattercarpet"
           }
          ],
          "scattergeo": [
           {
            "marker": {
             "colorbar": {
              "outlinewidth": 0,
              "ticks": ""
             }
            },
            "type": "scattergeo"
           }
          ],
          "scattergl": [
           {
            "marker": {
             "colorbar": {
              "outlinewidth": 0,
              "ticks": ""
             }
            },
            "type": "scattergl"
           }
          ],
          "scattermapbox": [
           {
            "marker": {
             "colorbar": {
              "outlinewidth": 0,
              "ticks": ""
             }
            },
            "type": "scattermapbox"
           }
          ],
          "scatterpolar": [
           {
            "marker": {
             "colorbar": {
              "outlinewidth": 0,
              "ticks": ""
             }
            },
            "type": "scatterpolar"
           }
          ],
          "scatterpolargl": [
           {
            "marker": {
             "colorbar": {
              "outlinewidth": 0,
              "ticks": ""
             }
            },
            "type": "scatterpolargl"
           }
          ],
          "scatterternary": [
           {
            "marker": {
             "colorbar": {
              "outlinewidth": 0,
              "ticks": ""
             }
            },
            "type": "scatterternary"
           }
          ],
          "surface": [
           {
            "colorbar": {
             "outlinewidth": 0,
             "ticks": ""
            },
            "colorscale": [
             [
              0,
              "#0d0887"
             ],
             [
              0.1111111111111111,
              "#46039f"
             ],
             [
              0.2222222222222222,
              "#7201a8"
             ],
             [
              0.3333333333333333,
              "#9c179e"
             ],
             [
              0.4444444444444444,
              "#bd3786"
             ],
             [
              0.5555555555555556,
              "#d8576b"
             ],
             [
              0.6666666666666666,
              "#ed7953"
             ],
             [
              0.7777777777777778,
              "#fb9f3a"
             ],
             [
              0.8888888888888888,
              "#fdca26"
             ],
             [
              1,
              "#f0f921"
             ]
            ],
            "type": "surface"
           }
          ],
          "table": [
           {
            "cells": {
             "fill": {
              "color": "#EBF0F8"
             },
             "line": {
              "color": "white"
             }
            },
            "header": {
             "fill": {
              "color": "#C8D4E3"
             },
             "line": {
              "color": "white"
             }
            },
            "type": "table"
           }
          ]
         },
         "layout": {
          "annotationdefaults": {
           "arrowcolor": "#2a3f5f",
           "arrowhead": 0,
           "arrowwidth": 1
          },
          "autotypenumbers": "strict",
          "coloraxis": {
           "colorbar": {
            "outlinewidth": 0,
            "ticks": ""
           }
          },
          "colorscale": {
           "diverging": [
            [
             0,
             "#8e0152"
            ],
            [
             0.1,
             "#c51b7d"
            ],
            [
             0.2,
             "#de77ae"
            ],
            [
             0.3,
             "#f1b6da"
            ],
            [
             0.4,
             "#fde0ef"
            ],
            [
             0.5,
             "#f7f7f7"
            ],
            [
             0.6,
             "#e6f5d0"
            ],
            [
             0.7,
             "#b8e186"
            ],
            [
             0.8,
             "#7fbc41"
            ],
            [
             0.9,
             "#4d9221"
            ],
            [
             1,
             "#276419"
            ]
           ],
           "sequential": [
            [
             0,
             "#0d0887"
            ],
            [
             0.1111111111111111,
             "#46039f"
            ],
            [
             0.2222222222222222,
             "#7201a8"
            ],
            [
             0.3333333333333333,
             "#9c179e"
            ],
            [
             0.4444444444444444,
             "#bd3786"
            ],
            [
             0.5555555555555556,
             "#d8576b"
            ],
            [
             0.6666666666666666,
             "#ed7953"
            ],
            [
             0.7777777777777778,
             "#fb9f3a"
            ],
            [
             0.8888888888888888,
             "#fdca26"
            ],
            [
             1,
             "#f0f921"
            ]
           ],
           "sequentialminus": [
            [
             0,
             "#0d0887"
            ],
            [
             0.1111111111111111,
             "#46039f"
            ],
            [
             0.2222222222222222,
             "#7201a8"
            ],
            [
             0.3333333333333333,
             "#9c179e"
            ],
            [
             0.4444444444444444,
             "#bd3786"
            ],
            [
             0.5555555555555556,
             "#d8576b"
            ],
            [
             0.6666666666666666,
             "#ed7953"
            ],
            [
             0.7777777777777778,
             "#fb9f3a"
            ],
            [
             0.8888888888888888,
             "#fdca26"
            ],
            [
             1,
             "#f0f921"
            ]
           ]
          },
          "colorway": [
           "#636efa",
           "#EF553B",
           "#00cc96",
           "#ab63fa",
           "#FFA15A",
           "#19d3f3",
           "#FF6692",
           "#B6E880",
           "#FF97FF",
           "#FECB52"
          ],
          "font": {
           "color": "#2a3f5f"
          },
          "geo": {
           "bgcolor": "white",
           "lakecolor": "white",
           "landcolor": "#E5ECF6",
           "showlakes": true,
           "showland": true,
           "subunitcolor": "white"
          },
          "hoverlabel": {
           "align": "left"
          },
          "hovermode": "closest",
          "mapbox": {
           "style": "light"
          },
          "paper_bgcolor": "white",
          "plot_bgcolor": "#E5ECF6",
          "polar": {
           "angularaxis": {
            "gridcolor": "white",
            "linecolor": "white",
            "ticks": ""
           },
           "bgcolor": "#E5ECF6",
           "radialaxis": {
            "gridcolor": "white",
            "linecolor": "white",
            "ticks": ""
           }
          },
          "scene": {
           "xaxis": {
            "backgroundcolor": "#E5ECF6",
            "gridcolor": "white",
            "gridwidth": 2,
            "linecolor": "white",
            "showbackground": true,
            "ticks": "",
            "zerolinecolor": "white"
           },
           "yaxis": {
            "backgroundcolor": "#E5ECF6",
            "gridcolor": "white",
            "gridwidth": 2,
            "linecolor": "white",
            "showbackground": true,
            "ticks": "",
            "zerolinecolor": "white"
           },
           "zaxis": {
            "backgroundcolor": "#E5ECF6",
            "gridcolor": "white",
            "gridwidth": 2,
            "linecolor": "white",
            "showbackground": true,
            "ticks": "",
            "zerolinecolor": "white"
           }
          },
          "shapedefaults": {
           "line": {
            "color": "#2a3f5f"
           }
          },
          "ternary": {
           "aaxis": {
            "gridcolor": "white",
            "linecolor": "white",
            "ticks": ""
           },
           "baxis": {
            "gridcolor": "white",
            "linecolor": "white",
            "ticks": ""
           },
           "bgcolor": "#E5ECF6",
           "caxis": {
            "gridcolor": "white",
            "linecolor": "white",
            "ticks": ""
           }
          },
          "title": {
           "x": 0.05
          },
          "xaxis": {
           "automargin": true,
           "gridcolor": "white",
           "linecolor": "white",
           "ticks": "",
           "title": {
            "standoff": 15
           },
           "zerolinecolor": "white",
           "zerolinewidth": 2
          },
          "yaxis": {
           "automargin": true,
           "gridcolor": "white",
           "linecolor": "white",
           "ticks": "",
           "title": {
            "standoff": 15
           },
           "zerolinecolor": "white",
           "zerolinewidth": 2
          }
         }
        },
        "title": {
         "text": "Test Set F1 scores (Higher performers)",
         "x": 0.5,
         "xanchor": "center",
         "y": 0.9,
         "yanchor": "top"
        },
        "yaxis": {
         "dtick": 0.05,
         "tick0": 0.6,
         "tickmode": "linear"
        }
       }
      }
     },
     "metadata": {},
     "output_type": "display_data"
    }
   ],
   "source": [
    "import plotly.graph_objects as go\n",
    "import numpy as np\n",
    "\n",
    "fig = go.Figure()\n",
    "fig.add_trace(go.Box(y=results_1['DEV_F1'].values, name='Small (~100) (glove Embeddings)'))\n",
    "fig.add_trace(go.Box(y=results_2['DEV_F1'].values, name='Small (~200) (glove Embeddings)'))\n",
    "fig.add_trace(go.Box(y=results_3['DEV_F1'].values, name='Large (~1500) (glove Embeddings)'))\n",
    "fig.add_trace(go.Box(y=results_4['DEV_F1'].values, name='Large (~1500) (glove + Flair Embeddings)'))\n",
    "fig.add_trace(go.Box(y=results_5['DEV_F1'].values, name='Large (~1500) (glove + distilBERT Embeddings)'))\n",
    "fig.add_trace(go.Box(y=results_6['DEV_F1'].values, name='Large (~1500) (FLAIR Embeddings)'))\n",
    "fig.update_layout(\n",
    "    title={\n",
    "    'text': \"Validation Set F1 scores\",\n",
    "    'y':0.9,\n",
    "    'x':0.5,\n",
    "    'xanchor': 'center',\n",
    "    'yanchor': 'top'},\n",
    "    height=600,\n",
    "    yaxis = dict(\n",
    "        tickmode = 'linear',\n",
    "        tick0 = 0.4,\n",
    "        dtick = 0.05\n",
    "    )\n",
    ")\n",
    "fig.show()\n",
    "fig2 = go.Figure()\n",
    "fig2.add_trace(go.Box(y=results_3['TEST_F1'].values, name='Large (~1500) (glove Embeddings)'))\n",
    "fig2.add_trace(go.Box(y=results_4['TEST_F1'].values, name='Large (~1500) (glove + Flair Embeddings)'))\n",
    "fig2.add_trace(go.Box(y=results_5['TEST_F1'].values, name='Large (~1500) (glove + distilBERT Embeddings)'))\n",
    "fig2.add_trace(go.Box(y=results_6['TEST_F1'].values, name='Large (~1500) (FLAIR Embeddings)'))\n",
    "fig2.update_layout(\n",
    "    title={\n",
    "        'text': \"Test Set F1 scores\",\n",
    "        'y':0.9,\n",
    "        'x':0.5,\n",
    "        'xanchor': 'center',\n",
    "        'yanchor': 'top'},\n",
    "    height=600,\n",
    "    yaxis = dict(\n",
    "        tickmode = 'linear',\n",
    "        tick0 = 0.6,\n",
    "        dtick = 0.05\n",
    "    )\n",
    ")\n",
    "fig2.show()\n",
    "\n",
    "fig3 = go.Figure()\n",
    "fig3.add_trace(go.Box(y=results_4['TEST_F1'].values, name='Large (~1500) (glove + Flair Embeddings)'))\n",
    "fig3.add_trace(go.Box(y=results_5['TEST_F1'].values, name='Large (~1500) (glove + distilBERT Embeddings)'))\n",
    "fig3.add_trace(go.Box(y=results_6['TEST_F1'].values, name='Large (~1500) (FLAIR Embeddings)'))\n",
    "fig3.update_layout(\n",
    "    title={\n",
    "        'text': \"Test Set F1 scores (Higher performers)\",\n",
    "        'y':0.9,\n",
    "        'x':0.5,\n",
    "        'xanchor': 'center',\n",
    "        'yanchor': 'top'},\n",
    "    height=600,\n",
    "    yaxis = dict(\n",
    "        tickmode = 'linear',\n",
    "        tick0 = 0.6,\n",
    "        dtick = 0.05\n",
    "    )\n",
    ")\n",
    "fig3.show()"
   ]
  },
  {
   "cell_type": "code",
   "execution_count": null,
   "metadata": {},
   "outputs": [
    {
     "name": "stdout",
     "output_type": "stream",
     "text": [
      "FLAIR MODEL\n",
      "2022-04-21 10:34:52,189 loading file models/resources_v4/taggers/ner/best-model.pt\n",
      "2022-04-21 10:34:55,295 SequenceTagger predicts: Dictionary with 10 tags: <unk>, B-QUANTITY, B-FREQUENCY, I-FREQUENCY, O, I-QUANTITY, B-MEALTIME, I-MEALTIME, <START>, <STOP>\n"
     ]
    }
   ],
   "source": [
    "# get unique frequency values from whole data set. so i can look at what RRules I need to set up.\n",
    "# Model scores tend to change with FLAIR and DISTILBERT embeddings becoming somewhat interchangeable, so \n",
    "if results_4['TEST_F1'].max() > results_5['TEST_F1'].max():\n",
    "    print('FLAIR MODEL')\n",
    "    best_model = SequenceTagger.load('models/resources_v4/taggers/ner/best-model.pt') # FLAIR embedding model\n",
    "else:\n",
    "    print('TRANFORMER EMBEDDING MODEL')\n",
    "    best_model = SequenceTagger.load('models/resources_v5/taggers/ner/best-model.pt') # DISTILBERT embedding model\n",
    "\n",
    "whole_set.loc[:,'annotation'] = whole_set.loc[:,'prescriber_dosage'].apply(label, args=[best_model])\n",
    "whole_set.to_csv('data/labelled_set_v2_corrected_flair_model.csv')"
   ]
  },
  {
   "cell_type": "code",
   "execution_count": null,
   "metadata": {},
   "outputs": [
    {
     "data": {
      "text/plain": [
       "['daily',\n",
       " '4 times a day',\n",
       " 'twice daily',\n",
       " 'every 7 days',\n",
       " 'every 4-6 hours',\n",
       " '8 in 24 hours',\n",
       " '7 day',\n",
       " '3 times day',\n",
       " '7 day',\n",
       " '4 times day',\n",
       " 'three times a day',\n",
       " '4 times a day',\n",
       " 'daily',\n",
       " 'each day',\n",
       " 'once weekly',\n",
       " 'daily',\n",
       " 'daily',\n",
       " 'twice daily',\n",
       " 'four times a day',\n",
       " 'four times a day',\n",
       " 'four times a day',\n",
       " 'daily',\n",
       " 'four times a day',\n",
       " 'four times a day',\n",
       " 'four times a day',\n",
       " 'four times a dayprn',\n",
       " 'four times a day',\n",
       " 'once daily',\n",
       " 'four times a day',\n",
       " 'four times a day',\n",
       " 'four times a day',\n",
       " 'four times a day',\n",
       " 'twice a day',\n",
       " '4 times a day',\n",
       " 'four times a day',\n",
       " 'three times a day',\n",
       " 'four times a day',\n",
       " 'four times a day',\n",
       " 'a day',\n",
       " 'a day',\n",
       " 'daily',\n",
       " 'a month',\n",
       " 'a week',\n",
       " 'alt days',\n",
       " 'alternate days',\n",
       " 'a month',\n",
       " 'three times a day',\n",
       " 'twice a day',\n",
       " 'twice daily',\n",
       " 'twice daily',\n",
       " 'twice daily',\n",
       " 'once a day',\n",
       " 'twice daily',\n",
       " 'daily',\n",
       " 'every day',\n",
       " 'once daily',\n",
       " '3 times a day',\n",
       " 'every 6 hours',\n",
       " 'every 8 hours',\n",
       " 'every morning',\n",
       " 'once a day',\n",
       " 'twice a day',\n",
       " '4 hourly',\n",
       " 'twice daily',\n",
       " 'daily',\n",
       " 'four times a day',\n",
       " 'once a day',\n",
       " 'once a day',\n",
       " 'once a day',\n",
       " 'once daily',\n",
       " 'once daily',\n",
       " 'three times a day',\n",
       " 'three times daily',\n",
       " 'twice a day',\n",
       " 'twice daily',\n",
       " 'daily',\n",
       " 'daily',\n",
       " 'daily',\n",
       " 'daily',\n",
       " 'daily',\n",
       " 'daily',\n",
       " 'daily',\n",
       " 'daily',\n",
       " 'daily',\n",
       " 'daily',\n",
       " 'daily',\n",
       " 'daily',\n",
       " 'daily',\n",
       " 'daily',\n",
       " 'daily',\n",
       " 'daily',\n",
       " 'daily',\n",
       " 'daily',\n",
       " 'four times a day',\n",
       " 'once daily',\n",
       " 'once a day',\n",
       " 'each evening',\n",
       " 'each morning',\n",
       " 'each night',\n",
       " 'every day',\n",
       " 'every day',\n",
       " 'every day',\n",
       " 'every day',\n",
       " 'every day',\n",
       " 'every day',\n",
       " 'every day',\n",
       " 'every day',\n",
       " 'every day',\n",
       " 'every day',\n",
       " 'every day',\n",
       " 'every day',\n",
       " 'every day',\n",
       " 'every day',\n",
       " 'every day',\n",
       " 'every day',\n",
       " 'every day',\n",
       " 'every day',\n",
       " 'every day',\n",
       " 'every morning',\n",
       " 'every morning',\n",
       " 'every other day',\n",
       " 'four times a day',\n",
       " 'twice a day',\n",
       " 'in the morning',\n",
       " 'once daily',\n",
       " 'twice a day',\n",
       " 'twice daily',\n",
       " 'every morning',\n",
       " 'every morning',\n",
       " 'every morning',\n",
       " 'every night',\n",
       " 'every morning',\n",
       " 'every night',\n",
       " 'every morning',\n",
       " 'every night',\n",
       " 'every morning',\n",
       " 'every morning',\n",
       " 'every night',\n",
       " 'twice daily',\n",
       " 'every night',\n",
       " 'every morning',\n",
       " 'once a day',\n",
       " 'once a day',\n",
       " 'once a day',\n",
       " 'once a day',\n",
       " 'alternate days',\n",
       " 'once a day',\n",
       " 'once daily',\n",
       " 'once daily',\n",
       " 'once daily',\n",
       " 'once daily',\n",
       " 'once daily',\n",
       " 'once daily',\n",
       " 'once',\n",
       " 'once',\n",
       " 'once',\n",
       " 'once',\n",
       " 'daily',\n",
       " 'four times a day',\n",
       " 'four times a day',\n",
       " '4 hourly',\n",
       " '8 per day',\n",
       " 'four times a day',\n",
       " 'four times daily',\n",
       " 'daily',\n",
       " 'twice a day',\n",
       " 'per day',\n",
       " 'daily',\n",
       " 'four times a day',\n",
       " 'twice daily',\n",
       " 'twice a day',\n",
       " 'twice daily',\n",
       " 'four times daily',\n",
       " 'twice daily',\n",
       " 'daily',\n",
       " 'twice daily',\n",
       " 'twice a day',\n",
       " 'twice daily',\n",
       " 'twice daily',\n",
       " '3 times a day',\n",
       " 'three times daily',\n",
       " 'once daily',\n",
       " 'once a day',\n",
       " 'twice daily',\n",
       " 'daily',\n",
       " 'every morning',\n",
       " 'every night',\n",
       " 'once a day',\n",
       " 'once a day every night',\n",
       " '3 times a day',\n",
       " '3 times a day',\n",
       " 'twice a day',\n",
       " 'twice daily',\n",
       " 'every night',\n",
       " 'day',\n",
       " 'every 12 hours',\n",
       " 'every night',\n",
       " 'five times a day',\n",
       " 'once a day',\n",
       " 'three times a day',\n",
       " 'three times a day',\n",
       " 'three times a day',\n",
       " 'twice a day',\n",
       " 'twice a day',\n",
       " 'a day',\n",
       " 'alternate days',\n",
       " 'twice daily',\n",
       " 'daily',\n",
       " 'daily',\n",
       " 'each day',\n",
       " 'each morning',\n",
       " 'each night',\n",
       " 'every day',\n",
       " 'every morning',\n",
       " 'every night',\n",
       " 'four times a day',\n",
       " 'in the morning',\n",
       " 'every morning',\n",
       " 'every night',\n",
       " 'once a day',\n",
       " 'once a day',\n",
       " 'once a day',\n",
       " 'once a day',\n",
       " 'once a day',\n",
       " 'once a day',\n",
       " 'once a day',\n",
       " 'once a day',\n",
       " 'once a month',\n",
       " 'once a week',\n",
       " 'once at night',\n",
       " 'once daily',\n",
       " 'once daily',\n",
       " 'once daily',\n",
       " 'once nightly',\n",
       " '3 times a day',\n",
       " 'three times a day',\n",
       " 'three times a day',\n",
       " 'three times daily',\n",
       " 'each night',\n",
       " 'three times daily',\n",
       " 'twice daily',\n",
       " 'twice a day',\n",
       " 'twice a day',\n",
       " 'twice daily',\n",
       " 'twice daily',\n",
       " 'twice daily',\n",
       " 'two times a day',\n",
       " 'weekly',\n",
       " 'daily',\n",
       " 'every day',\n",
       " 'twice a day',\n",
       " 'twice a day',\n",
       " '3 times a day',\n",
       " '3 times a day',\n",
       " '3 times a day',\n",
       " 'three times a day',\n",
       " 'three times a day',\n",
       " 'three times a day',\n",
       " 'three times daily',\n",
       " 'three times daily',\n",
       " 'four times a day',\n",
       " 'four times a day',\n",
       " 'every 4 to 6 hours',\n",
       " 'daily',\n",
       " 'every 6 hours',\n",
       " 'daily',\n",
       " 'four times daily',\n",
       " 'four times daily',\n",
       " 'four times daily',\n",
       " 'every 4 to 6 hours',\n",
       " 'daily',\n",
       " 'every four hours',\n",
       " 'four times daily',\n",
       " 'daily',\n",
       " 'each morning',\n",
       " 'each morning',\n",
       " 'each morning',\n",
       " 'each night',\n",
       " 'each night',\n",
       " 'each night',\n",
       " 'four times daily',\n",
       " 'four times daily',\n",
       " 'once daily',\n",
       " 'three times daily',\n",
       " 'three times daily',\n",
       " 'twice daily',\n",
       " 'twice daily',\n",
       " 'twice daily',\n",
       " 'twice daily',\n",
       " 'twice daily',\n",
       " 'twice a day',\n",
       " 'twice a day',\n",
       " 'twice a day',\n",
       " 'twice a day',\n",
       " 'twice a day',\n",
       " 'twice a day',\n",
       " 'twice daily',\n",
       " 'a day',\n",
       " '4-6 hourly',\n",
       " 'once a day',\n",
       " 'four times a day',\n",
       " 'four times daily',\n",
       " 'four times daily',\n",
       " 'daily',\n",
       " 'daily',\n",
       " 'daily',\n",
       " 'daily',\n",
       " 'every 2-4 hours',\n",
       " '3 times day',\n",
       " '4 times day',\n",
       " 'every day',\n",
       " 'four times a day',\n",
       " 'four times a day',\n",
       " 'four times a day',\n",
       " 'four times daily',\n",
       " 'four times daily',\n",
       " 'per day',\n",
       " '4 times a day',\n",
       " 'twice daily',\n",
       " 'twice a day',\n",
       " 'twice a day',\n",
       " 'twice daily',\n",
       " 'four times a day',\n",
       " '4 times a day',\n",
       " '4 times a day',\n",
       " '4 times a day',\n",
       " '4 times a day',\n",
       " 'daily',\n",
       " '4 times a day',\n",
       " '24 hrs',\n",
       " 'every 4-6 hours',\n",
       " 'per 24 hours',\n",
       " 'four times a day',\n",
       " 'every night',\n",
       " '4 times a day',\n",
       " 'four times daily',\n",
       " 'four times daily',\n",
       " 'four times daily',\n",
       " '4 times a day',\n",
       " 'every night',\n",
       " '4 times a day',\n",
       " 'each night',\n",
       " 'each night',\n",
       " 'four times daily',\n",
       " 'four times daily',\n",
       " 'four times daily',\n",
       " 'four times daily',\n",
       " 'three times daily',\n",
       " 'three times daily',\n",
       " 'twice daily',\n",
       " '4 x a day',\n",
       " 'four times a day',\n",
       " 'four times daily',\n",
       " '4 times a day',\n",
       " 'four times a day',\n",
       " 'daily',\n",
       " 'daily',\n",
       " 'once weekly',\n",
       " 'daily',\n",
       " 'twice daily',\n",
       " 'daily',\n",
       " 'twice daily',\n",
       " '24 hours',\n",
       " 'every 2hours',\n",
       " 'weekly',\n",
       " 'daily',\n",
       " 'every morning',\n",
       " 'every 8 hours',\n",
       " '4 times day',\n",
       " 'daily',\n",
       " '3 times day',\n",
       " 'twice a day',\n",
       " 'twice daily',\n",
       " '4 times day',\n",
       " 'weekly',\n",
       " 'daily',\n",
       " 'weekly',\n",
       " 'twice a day',\n",
       " 'twice daily',\n",
       " 'twice daily',\n",
       " 'with meals',\n",
       " 'twice daily',\n",
       " '4 times a day',\n",
       " '4 times day',\n",
       " 'four times a day',\n",
       " 'one daily',\n",
       " 'every day',\n",
       " 'each night',\n",
       " 'twice daily',\n",
       " 'once a day',\n",
       " '3 times day',\n",
       " '3 times day',\n",
       " '4 times day',\n",
       " '4 times day',\n",
       " 'daily',\n",
       " 'twice daily',\n",
       " 'daily',\n",
       " 'a day',\n",
       " 'a day',\n",
       " 'daily',\n",
       " 'twice a day',\n",
       " 'four times a day',\n",
       " 'twice daily',\n",
       " 'twice daily',\n",
       " 'twice daily',\n",
       " 'once a day',\n",
       " '3 times a day',\n",
       " 'once a day',\n",
       " 'twice daily',\n",
       " 'daily',\n",
       " 'once a day',\n",
       " '3 times a day',\n",
       " 'twice a day',\n",
       " 'twice daily',\n",
       " 'daily',\n",
       " 'daily',\n",
       " 'four times a day',\n",
       " 'three times a day',\n",
       " 'each morning',\n",
       " 'each night',\n",
       " 'every day',\n",
       " 'four times a day',\n",
       " 'four times a day',\n",
       " 'four times a day',\n",
       " 'four times a day',\n",
       " 'four times a day',\n",
       " 'four times a day',\n",
       " 'four times a dayprn',\n",
       " 'four times daily',\n",
       " 'four times daily',\n",
       " 'every morning',\n",
       " 'every morning',\n",
       " 'every night',\n",
       " 'every morning',\n",
       " 'every night',\n",
       " 'every morning',\n",
       " 'every night',\n",
       " 'every morning',\n",
       " 'every night',\n",
       " 'once a day',\n",
       " 'once daily',\n",
       " 'four times a day',\n",
       " 'twice a day',\n",
       " 'per day',\n",
       " '4 times a day',\n",
       " 'four times a day',\n",
       " 'twice daily',\n",
       " 'twice a day',\n",
       " 'twice daily',\n",
       " 'twice a day',\n",
       " 'four times a day',\n",
       " 'twice daily',\n",
       " 'daily',\n",
       " 'every 4 to 6 hours',\n",
       " 'four times a day',\n",
       " 'four times a day',\n",
       " 'four times a day',\n",
       " 'four times a day',\n",
       " 'four times daily',\n",
       " 'twice a day',\n",
       " 'once daily',\n",
       " '4 times a day',\n",
       " 'three times a day',\n",
       " 'four times daily',\n",
       " 'twice daily',\n",
       " 'twice a day',\n",
       " 'twice a day',\n",
       " 'twice aday',\n",
       " 'twice daily',\n",
       " 'four times daily',\n",
       " 'four times a day',\n",
       " 'daily',\n",
       " '4 times a day',\n",
       " '4 times a day',\n",
       " 'daily',\n",
       " 'twice daily',\n",
       " 'once daily',\n",
       " 'twice daily',\n",
       " 'daily',\n",
       " 'every night',\n",
       " 'once a day',\n",
       " '3 times a day',\n",
       " 'twice daily',\n",
       " 'daily',\n",
       " 'once a day',\n",
       " 'once daily',\n",
       " 'twice daily',\n",
       " 'twice a day',\n",
       " 'twice daily',\n",
       " 'every 4 to 6 hours',\n",
       " 'daily',\n",
       " 'every 6 hours',\n",
       " 'a day',\n",
       " 'twice daily',\n",
       " 'daily',\n",
       " 'four times a day',\n",
       " 'four times daily',\n",
       " 'every night',\n",
       " 'once a day',\n",
       " 'once a day',\n",
       " 'once daily',\n",
       " '4 times a day',\n",
       " '3 times a day',\n",
       " 'three times a day',\n",
       " 'three times daily',\n",
       " 'twice daily',\n",
       " 'twice a day',\n",
       " 'twice daily',\n",
       " 'four times daily',\n",
       " 'four times daily',\n",
       " 'a day',\n",
       " 'twice daily',\n",
       " 'daily',\n",
       " 'every night',\n",
       " 'once a day',\n",
       " '4 times a day',\n",
       " '4 times a day',\n",
       " '3 times a day',\n",
       " 'twice daily',\n",
       " 'twice a day',\n",
       " 'twice daily',\n",
       " 'three times a day',\n",
       " 'three times daily',\n",
       " 'daily',\n",
       " 'each morning',\n",
       " 'each night',\n",
       " 'four times daily',\n",
       " 'four times daily',\n",
       " 'four times daily',\n",
       " 'three times daily',\n",
       " 'three times daily',\n",
       " 'twice a day',\n",
       " 'twice daily',\n",
       " 'twice daily',\n",
       " 'four times daily',\n",
       " 'twice a day',\n",
       " 'twice a day',\n",
       " 'twice a day',\n",
       " 'twice a day',\n",
       " 'twice daily',\n",
       " 'twice daily',\n",
       " 'four times a day',\n",
       " 'every 2hours',\n",
       " 'every two hours',\n",
       " 'four times a day',\n",
       " 'twice a day',\n",
       " 'twice a day',\n",
       " 'twice daily',\n",
       " 'daily',\n",
       " 'weekly',\n",
       " 'every morning',\n",
       " 'weekly',\n",
       " 'twice daily',\n",
       " 'twice a day',\n",
       " 'every day',\n",
       " 'times a day',\n",
       " '3 times day',\n",
       " '4 times day',\n",
       " '4 times day',\n",
       " '4 times day',\n",
       " 'daily',\n",
       " 'twice daily',\n",
       " 'twice daily',\n",
       " 'a day',\n",
       " 'daily',\n",
       " 'every day',\n",
       " 'every morning',\n",
       " 'per day',\n",
       " 'twice daily',\n",
       " 'daily',\n",
       " 'twice daily',\n",
       " 'twice daily',\n",
       " 'daily',\n",
       " 'every night',\n",
       " 'times a day',\n",
       " 'each night',\n",
       " 'three times daily',\n",
       " 'twice daily',\n",
       " 'twice a day',\n",
       " 'daily',\n",
       " 'a day',\n",
       " 'daily',\n",
       " 'every day',\n",
       " 'daily',\n",
       " 'times a day',\n",
       " 'to',\n",
       " 'every 1 5 to 3 hours',\n",
       " 'each night',\n",
       " 'daily',\n",
       " 'once daily',\n",
       " 'daily',\n",
       " '4 times day',\n",
       " 'daily',\n",
       " 'every 2hours',\n",
       " 'daily',\n",
       " '4 times day',\n",
       " '4 times day',\n",
       " 'every 6 hours',\n",
       " 'every 8 hours',\n",
       " 'daily',\n",
       " 'four times a day',\n",
       " '4 times day',\n",
       " 'three times a day',\n",
       " 'four times daily',\n",
       " 'twice daily',\n",
       " 'twice a day',\n",
       " 'twice daily',\n",
       " 'daily',\n",
       " 'a day',\n",
       " 'a day',\n",
       " 'daily',\n",
       " 'daily',\n",
       " 'daily',\n",
       " 'every morning',\n",
       " 'daily',\n",
       " 'daily',\n",
       " 'daily',\n",
       " 'daily',\n",
       " 'per day',\n",
       " 'every morning',\n",
       " 'every four to six hours',\n",
       " 'once daily',\n",
       " 'a',\n",
       " '4 times a day',\n",
       " 'twice a day',\n",
       " 'once a day',\n",
       " 'once a day',\n",
       " 'alt days',\n",
       " 'alternate days',\n",
       " 'four times a day',\n",
       " 'twice weekly',\n",
       " '1-2 times a day',\n",
       " '1-2 times day',\n",
       " '1-2 times day',\n",
       " '2 times day',\n",
       " '3-4 times a day',\n",
       " '2-3 times a day',\n",
       " '2-3 times day',\n",
       " '2-3 times day',\n",
       " '3 times a day',\n",
       " '3 times day',\n",
       " '3 times day',\n",
       " '3 times day',\n",
       " '3 times day',\n",
       " '3 times day',\n",
       " '3 times day',\n",
       " '4 times daily',\n",
       " '3-4 times a day',\n",
       " '3-4 times day',\n",
       " '3-4 times day',\n",
       " '4 times a day',\n",
       " '4 times day',\n",
       " '5 times day',\n",
       " 'twice a day',\n",
       " '5 hours',\n",
       " '3-4 times a day',\n",
       " 'twice daily',\n",
       " 'twice daily',\n",
       " 'daily',\n",
       " 'each day',\n",
       " 'each morning',\n",
       " 'four times a day',\n",
       " 'four times a day',\n",
       " '7 days',\n",
       " 'every night',\n",
       " 'once a day',\n",
       " 'once a day',\n",
       " 'once a day',\n",
       " 'once a day',\n",
       " 'once daily',\n",
       " 'one daily',\n",
       " 'every 3 days',\n",
       " 'every 72 hours',\n",
       " 'each week',\n",
       " 'each week',\n",
       " 'every 72 hours',\n",
       " 'once every 7 days',\n",
       " 'twice weekly',\n",
       " 'one weekly',\n",
       " '4 times a day',\n",
       " '4 times a day',\n",
       " '4 times a day',\n",
       " '4 times a day',\n",
       " '3 or',\n",
       " '4 times daily',\n",
       " '3 times a day',\n",
       " '3 times a day',\n",
       " 'twice daily',\n",
       " 'once a day',\n",
       " 'once a day',\n",
       " 'twice a day',\n",
       " 'twice a day',\n",
       " 'twice a day',\n",
       " 'twice a day',\n",
       " 'four times a day',\n",
       " 'four times a day',\n",
       " 'four times a day',\n",
       " 'three times a day',\n",
       " 'three times a day',\n",
       " 'three times a day',\n",
       " 'three times daily',\n",
       " 'three times daily',\n",
       " 'three times day',\n",
       " 'four times daily',\n",
       " 'three times daily',\n",
       " 'twice daily',\n",
       " 'three times daily',\n",
       " '2 times weekly',\n",
       " 'four times a day',\n",
       " 'twice a day',\n",
       " 'twice a day',\n",
       " 'twice daily',\n",
       " 'twice daily',\n",
       " 'twice each week',\n",
       " 'twice weekly',\n",
       " 'four times a day',\n",
       " 'four times a day',\n",
       " 'three times a day',\n",
       " 'three times a day',\n",
       " 'three times a day',\n",
       " 'daily',\n",
       " 'every day',\n",
       " '7 day',\n",
       " 'daily',\n",
       " 'twice daily',\n",
       " 'twice daily',\n",
       " 'twice daily',\n",
       " 'twice daily',\n",
       " 'once daily',\n",
       " 'daily',\n",
       " 'each day',\n",
       " 'twice a day',\n",
       " 'twice a day',\n",
       " 'each night',\n",
       " 'every day',\n",
       " 'twice daily',\n",
       " '10 minutes',\n",
       " 'daily',\n",
       " 'four times a day',\n",
       " 'four times a day',\n",
       " 'four times a day',\n",
       " 'four times daily',\n",
       " 'each day',\n",
       " 'twice daily',\n",
       " 'daily',\n",
       " 'once a day',\n",
       " 'a',\n",
       " 'each day',\n",
       " 'a',\n",
       " 'three times a day',\n",
       " 'a',\n",
       " 'twice a day',\n",
       " 'daily',\n",
       " 'every night',\n",
       " 'once a day',\n",
       " 'twice daily',\n",
       " 'daily',\n",
       " 'daily',\n",
       " 'daily',\n",
       " 'every four to six hours',\n",
       " 'once a day',\n",
       " 'once daily',\n",
       " '3-4 times day',\n",
       " 'daily',\n",
       " 'once daily',\n",
       " 'twice daily',\n",
       " 'four times a day',\n",
       " 'twice daily',\n",
       " 'twice a day',\n",
       " 'twice daily',\n",
       " 'twice daily',\n",
       " 'four times a day',\n",
       " 'twice daily',\n",
       " '4 times a day',\n",
       " '4 times a day',\n",
       " '4 times a day',\n",
       " '4 times a day',\n",
       " 'twice daily',\n",
       " 'twice daily',\n",
       " 'four times a day',\n",
       " 'four times a day',\n",
       " 'four times a day',\n",
       " 'once a day',\n",
       " 'once daily',\n",
       " 'twice a day',\n",
       " 'twice a day',\n",
       " 'twice daily',\n",
       " 'once daily',\n",
       " 'twice a day',\n",
       " 'four times a day',\n",
       " 'four times a day',\n",
       " 'once each day',\n",
       " 'once daily',\n",
       " 'twice a day',\n",
       " 'twice daily',\n",
       " 'twice daily',\n",
       " '7 days',\n",
       " 'daily',\n",
       " 'twice a week',\n",
       " 'at night',\n",
       " 'daily',\n",
       " 'twice daily',\n",
       " 'twice a day',\n",
       " 'every morning',\n",
       " 'every morning',\n",
       " 'once a day',\n",
       " 'once a day',\n",
       " 'once a day',\n",
       " 'once a day',\n",
       " 'once a day every morning',\n",
       " 'once a day',\n",
       " 'once a day',\n",
       " 'once a day',\n",
       " 'once a week',\n",
       " 'once daily',\n",
       " 'once daily',\n",
       " 'daily',\n",
       " 'four times a day',\n",
       " '4 times a day',\n",
       " 'each day',\n",
       " 'four times a day',\n",
       " 'three times a day',\n",
       " 'three times daily',\n",
       " 'twice a day',\n",
       " 'a day',\n",
       " 'alternate days',\n",
       " 'twice daily',\n",
       " 'daily',\n",
       " 'daily',\n",
       " 'once daily',\n",
       " 'daily',\n",
       " 'every 12 hours',\n",
       " 'every morning',\n",
       " 'four times a day',\n",
       " 'in the morning',\n",
       " 'twice a day',\n",
       " 'twice daily',\n",
       " 'daily',\n",
       " 'daily',\n",
       " 'daily',\n",
       " 'daily',\n",
       " 'daily',\n",
       " 'daily',\n",
       " 'daily',\n",
       " '6 times per 24 hours',\n",
       " 'each day',\n",
       " 'four times a day',\n",
       " 'twice a day',\n",
       " '3 times day',\n",
       " '3-4 times day',\n",
       " '4 times day',\n",
       " '4 times day',\n",
       " 'once daily',\n",
       " 'once daily',\n",
       " 'once daily',\n",
       " 'once daily',\n",
       " 'once daily',\n",
       " 'once daily',\n",
       " 'once daily',\n",
       " 'each day',\n",
       " 'each morning',\n",
       " 'four times a day',\n",
       " 'once daily',\n",
       " 'three times a day',\n",
       " 'twice a day',\n",
       " 'twice a day',\n",
       " 'twice daily',\n",
       " 'twice daily',\n",
       " 'twice daily',\n",
       " 'twice daily',\n",
       " 'twice daily',\n",
       " 'twice daily',\n",
       " 'each day',\n",
       " 'each evening',\n",
       " 'each morning',\n",
       " 'each night',\n",
       " 'each night',\n",
       " 'each night',\n",
       " 'every day',\n",
       " 'every other day',\n",
       " 'four times a day',\n",
       " 'in the morning',\n",
       " 'at night',\n",
       " 'once daily',\n",
       " 'every morning',\n",
       " 'once a day',\n",
       " 'once daily',\n",
       " 'three times a day',\n",
       " 'at night',\n",
       " 'daily',\n",
       " 'four times a day',\n",
       " 'four times a day',\n",
       " 'four times a day',\n",
       " 'twice a day',\n",
       " 'four times a day',\n",
       " 'four times a day',\n",
       " 'each morning',\n",
       " 'every 4 to 6 hours',\n",
       " 'every 4-6 hours',\n",
       " 'four times a day',\n",
       " 'every four hours',\n",
       " '8 in 24 hours',\n",
       " 'every four hours',\n",
       " 'four times a day',\n",
       " 'four times a day',\n",
       " 'four times a day',\n",
       " 'four times daily',\n",
       " 'three times a day',\n",
       " 'four times daily',\n",
       " 'each day',\n",
       " 'every 72 hours',\n",
       " 'twice weekly',\n",
       " 'per day',\n",
       " 'daily',\n",
       " 'each day',\n",
       " 'four times a day',\n",
       " 'twice a day',\n",
       " 'twice a day',\n",
       " 'twice a day',\n",
       " 'twice a day',\n",
       " 'twice daily',\n",
       " 'twice daily',\n",
       " 'twice daily',\n",
       " 'twice daily',\n",
       " 'daily',\n",
       " 'each day',\n",
       " '3 times day',\n",
       " 'once a day',\n",
       " 'twice a day',\n",
       " 'three times a day',\n",
       " 'twice daily',\n",
       " 'daily',\n",
       " 'every morning',\n",
       " 'every night',\n",
       " 'once a day',\n",
       " '3 times a day',\n",
       " 'twice a day',\n",
       " 'twice daily',\n",
       " 'in the morning',\n",
       " 'twice daily',\n",
       " 'a day',\n",
       " 'daily',\n",
       " 'at night',\n",
       " 'twice daily',\n",
       " 'daily',\n",
       " 'daily',\n",
       " 'each day',\n",
       " 'daily',\n",
       " 'daily',\n",
       " 'once daily',\n",
       " 'each day',\n",
       " 'every day',\n",
       " 'every morning',\n",
       " 'in the morning',\n",
       " 'in the morning',\n",
       " 'in the morning',\n",
       " 'in the morning',\n",
       " 'every morning',\n",
       " 'every night',\n",
       " 'once a day',\n",
       " 'once a day',\n",
       " 'once daily',\n",
       " 'once daily',\n",
       " 'once daily',\n",
       " 'once daily',\n",
       " '4 times a day',\n",
       " '3 times a day',\n",
       " 'three times a day',\n",
       " 'three times daily',\n",
       " 'daily',\n",
       " 'every morning',\n",
       " 'every morning',\n",
       " 'every night',\n",
       " 'every night',\n",
       " 'once a day',\n",
       " '3 times day',\n",
       " 'twice a day',\n",
       " 'twice daily',\n",
       " 'twice a day',\n",
       " 'twice daily',\n",
       " 'daily',\n",
       " '3 times a day',\n",
       " 'three times a day',\n",
       " 'three times a day',\n",
       " 'three times a day',\n",
       " 'three times daily',\n",
       " 'twice a week',\n",
       " 'twice daily',\n",
       " 'daily',\n",
       " 'daily',\n",
       " 'once a year',\n",
       " 'daily',\n",
       " 'daily',\n",
       " 'daily',\n",
       " 'daily',\n",
       " 'daily',\n",
       " 'daily',\n",
       " 'each day',\n",
       " 'each day',\n",
       " 'each day',\n",
       " ...]"
      ]
     },
     "execution_count": 37,
     "metadata": {},
     "output_type": "execute_result"
    }
   ],
   "source": [
    "frequencies = [item[0] for list in whole_set.loc[:,'annotation'].tolist() for item in list if item[1] == 'FREQUENCY']\n",
    "frequencies"
   ]
  },
  {
   "cell_type": "code",
   "execution_count": null,
   "metadata": {},
   "outputs": [],
   "source": [
    "unique_values = set(frequencies)"
   ]
  },
  {
   "cell_type": "markdown",
   "metadata": {},
   "source": [
    "Mapping frequency to RRule:\n",
    "\n",
    "I think the best thing to do is to come up with RRules that are most relevant. x times a day, every x hours.\n",
    "\n",
    "First I need to split everything up into 3 categories, frequency, frequency with time of day, other"
   ]
  },
  {
   "cell_type": "code",
   "execution_count": null,
   "metadata": {},
   "outputs": [
    {
     "data": {
      "text/plain": [
       "142"
      ]
     },
     "execution_count": 39,
     "metadata": {},
     "output_type": "execute_result"
    }
   ],
   "source": [
    "from word2number.w2n import word_to_num as w2n\n",
    "import inflect\n",
    "\n",
    "p = inflect.engine()\n",
    "\n",
    "\n",
    "def post_process(sentence: str): #should have done this before tbh \n",
    "    sentence = Sentence(sentence)\n",
    "    new_string = []\n",
    "    for i in range(len(sentence)):\n",
    "        token = sentence[i].text\n",
    "        try:\n",
    "            number = p.number_to_words(int(token))\n",
    "            new_string.append(str(number))\n",
    "        except:\n",
    "            new_string.append(token)\n",
    "    return ' '.join(new_string)\n",
    "            \n",
    "processed_values = []\n",
    "for string in unique_values:\n",
    "    processed_values.append(post_process(string))\n",
    "\n",
    "unique_values = list(set(processed_values))\n",
    "len(unique_values)"
   ]
  },
  {
   "cell_type": "code",
   "execution_count": null,
   "metadata": {},
   "outputs": [
    {
     "data": {
      "text/plain": [
       "['once weekly',\n",
       " 'twice weekly',\n",
       " 'three times weekly',\n",
       " 'every other day',\n",
       " 'once daily',\n",
       " 'twice daily',\n",
       " 'three times daily',\n",
       " 'four times daily',\n",
       " 'five times daily',\n",
       " 'every morning',\n",
       " 'every night']"
      ]
     },
     "execution_count": 40,
     "metadata": {},
     "output_type": "execute_result"
    }
   ],
   "source": [
    "rrules = pd.read_csv('data/rrules.csv')\n",
    "standard = rrules.loc[:, 'text'].to_list()\n",
    "standard"
   ]
  },
  {
   "cell_type": "code",
   "execution_count": null,
   "metadata": {},
   "outputs": [],
   "source": [
    "# embed sentences using a model, calculate similarity between sentences using cosine_similarity\n",
    "#  CITE: https://www.sbert.net/index.html\n",
    "from sklearn.metrics.pairwise import cosine_similarity\n",
    "\n",
    "# using sentence_transformer package as it works better with lists for whole sentences, flair we would have to concatenate all strings\n",
    "# This framework provides an easy method to compute dense vector representations for sentences, paragraphs, and images. \n",
    "# The models are based on transformer networks like BERT / RoBERTa / XLM-RoBERTa etc. and achieve state-of-the-art performance in various task. \n",
    "# Text is embedding in vector space such that similar text is close and can efficiently be found using cosine similarity.\n",
    "\n",
    "from sentence_transformers import SentenceTransformer\n",
    "\n",
    "model = SentenceTransformer('multi-qa-mpnet-base-dot-v1') # highest score in semantic search\n",
    "rrules.loc[:, 'embeddings'] = rrules.loc[:, 'text'].apply(model.encode)"
   ]
  },
  {
   "cell_type": "code",
   "execution_count": null,
   "metadata": {},
   "outputs": [
    {
     "data": {
      "text/html": [
       "<div>\n",
       "<style scoped>\n",
       "    .dataframe tbody tr th:only-of-type {\n",
       "        vertical-align: middle;\n",
       "    }\n",
       "\n",
       "    .dataframe tbody tr th {\n",
       "        vertical-align: top;\n",
       "    }\n",
       "\n",
       "    .dataframe thead th {\n",
       "        text-align: right;\n",
       "    }\n",
       "</style>\n",
       "<table border=\"1\" class=\"dataframe\">\n",
       "  <thead>\n",
       "    <tr style=\"text-align: right;\">\n",
       "      <th></th>\n",
       "      <th>string</th>\n",
       "      <th>pre-trained match</th>\n",
       "    </tr>\n",
       "  </thead>\n",
       "  <tbody>\n",
       "    <tr>\n",
       "      <th>0</th>\n",
       "      <td>once every night</td>\n",
       "      <td>(once daily, 0.8245864)</td>\n",
       "    </tr>\n",
       "    <tr>\n",
       "      <th>1</th>\n",
       "      <td>five times day</td>\n",
       "      <td>(five times daily, 0.9587241)</td>\n",
       "    </tr>\n",
       "    <tr>\n",
       "      <th>2</th>\n",
       "      <td>one weekly</td>\n",
       "      <td>(once weekly, 0.88382715)</td>\n",
       "    </tr>\n",
       "    <tr>\n",
       "      <th>3</th>\n",
       "      <td>early evening</td>\n",
       "      <td>(every night, 0.53193414)</td>\n",
       "    </tr>\n",
       "    <tr>\n",
       "      <th>4</th>\n",
       "      <td>two times day</td>\n",
       "      <td>(twice daily, 0.86788356)</td>\n",
       "    </tr>\n",
       "    <tr>\n",
       "      <th>...</th>\n",
       "      <td>...</td>\n",
       "      <td>...</td>\n",
       "    </tr>\n",
       "    <tr>\n",
       "      <th>137</th>\n",
       "      <td>once a week</td>\n",
       "      <td>(once weekly, 0.8903437)</td>\n",
       "    </tr>\n",
       "    <tr>\n",
       "      <th>138</th>\n",
       "      <td>five hours</td>\n",
       "      <td>(five times daily, 0.6522585)</td>\n",
       "    </tr>\n",
       "    <tr>\n",
       "      <th>139</th>\n",
       "      <td>once a day each morning</td>\n",
       "      <td>(once daily, 0.84654903)</td>\n",
       "    </tr>\n",
       "    <tr>\n",
       "      <th>140</th>\n",
       "      <td>daily</td>\n",
       "      <td>(once daily, 0.79377365)</td>\n",
       "    </tr>\n",
       "    <tr>\n",
       "      <th>141</th>\n",
       "      <td>six fourteen</td>\n",
       "      <td>(four times daily, 0.42290002)</td>\n",
       "    </tr>\n",
       "  </tbody>\n",
       "</table>\n",
       "<p>142 rows × 2 columns</p>\n",
       "</div>"
      ],
      "text/plain": [
       "                      string               pre-trained match\n",
       "0           once every night         (once daily, 0.8245864)\n",
       "1             five times day   (five times daily, 0.9587241)\n",
       "2                 one weekly       (once weekly, 0.88382715)\n",
       "3              early evening       (every night, 0.53193414)\n",
       "4              two times day       (twice daily, 0.86788356)\n",
       "..                       ...                             ...\n",
       "137              once a week        (once weekly, 0.8903437)\n",
       "138               five hours   (five times daily, 0.6522585)\n",
       "139  once a day each morning        (once daily, 0.84654903)\n",
       "140                    daily        (once daily, 0.79377365)\n",
       "141             six fourteen  (four times daily, 0.42290002)\n",
       "\n",
       "[142 rows x 2 columns]"
      ]
     },
     "execution_count": 42,
     "metadata": {},
     "output_type": "execute_result"
    }
   ],
   "source": [
    "def find_most_similar(string: str):\n",
    "    embeddings_stan  = rrules.loc[:, 'embeddings'].to_list()\n",
    "    difference =  cosine_similarity([model.encode(string)], embeddings_stan)\n",
    "    index = difference[0].argmax()\n",
    "    return rrules.iloc[index].loc['text'], difference[0][index]\n",
    "\n",
    "freq = []\n",
    "match = []\n",
    "for each in unique_values:\n",
    "    freq.append(each)\n",
    "    match.append(find_most_similar(each))\n",
    "\n",
    "pre_trained_matches = pd.DataFrame({'string': freq, 'pre-trained match': match})\n",
    "pre_trained_matches"
   ]
  },
  {
   "cell_type": "markdown",
   "metadata": {},
   "source": [
    "As can be seen, pre-trained models work to a certain extent but there is still much room for improvement eg. 'every 4-6 hours' maps to 'twice daily'. I will need to train custom embeddings."
   ]
  },
  {
   "cell_type": "code",
   "execution_count": null,
   "metadata": {},
   "outputs": [
    {
     "data": {
      "text/plain": [
       "('twice daily', 0.7603087)"
      ]
     },
     "execution_count": 43,
     "metadata": {},
     "output_type": "execute_result"
    }
   ],
   "source": [
    "find_most_similar('every 4-6 hours')"
   ]
  },
  {
   "cell_type": "code",
   "execution_count": null,
   "metadata": {},
   "outputs": [],
   "source": [
    "# after labelling a semantic textual similarity training set\n",
    "# I will apply that mapping to every single datapoint in frequency to create a dataset of ~1900\n",
    "# train a transformer embedding model on this dataset\n",
    "mapping_dict = pd.read_csv('data/mapping_training_data.csv')\n",
    "mapping_dict.set_index('string', inplace=True)"
   ]
  },
  {
   "cell_type": "code",
   "execution_count": null,
   "metadata": {},
   "outputs": [
    {
     "name": "stdout",
     "output_type": "stream",
     "text": [
      "No match found for:  eight in twenty-four hours\n",
      "No match found for:  in the morning\n",
      "No match found for:  day\n",
      "No match found for:  in the morning\n",
      "No match found for:  once at night\n",
      "No match found for:  four x a day\n",
      "No match found for:  with meals\n",
      "No match found for:  to\n",
      "No match found for:  a\n",
      "No match found for:  ten minutes\n",
      "No match found for:  a\n",
      "No match found for:  a\n",
      "No match found for:  a\n",
      "No match found for:  at night\n",
      "No match found for:  once a day every morning\n",
      "No match found for:  in the morning\n",
      "No match found for:  in the morning\n",
      "No match found for:  at night\n",
      "No match found for:  at night\n",
      "No match found for:  eight in twenty-four hours\n",
      "No match found for:  in the morning\n",
      "No match found for:  at night\n",
      "No match found for:  in the morning\n",
      "No match found for:  in the morning\n",
      "No match found for:  in the morning\n",
      "No match found for:  in the morning\n",
      "No match found for:  each day every morning\n",
      "No match found for:  each day every night\n",
      "No match found for:  in the evening\n",
      "No match found for:  in the morning\n",
      "No match found for:  in the morning\n",
      "No match found for:  at night\n",
      "No match found for:  three in twenty-four hours\n",
      "No match found for:  at night\n",
      "No match found for:  once or twice a day\n",
      "No match found for:  at night\n",
      "No match found for:  at night\n",
      "No match found for:  at night\n",
      "No match found for:  at night\n",
      "No match found for:  in the morning\n",
      "No match found for:  at night\n",
      "No match found for:  at night\n",
      "No match found for:  at night\n",
      "No match found for:  at night\n",
      "No match found for:  at night\n",
      "No match found for:  in the morning\n",
      "No match found for:  in the morning\n",
      "No match found for:  at night\n",
      "No match found for:  at night\n",
      "No match found for:  at night\n",
      "No match found for:  in the morning\n",
      "No match found for:  at night\n",
      "No match found for:  at night\n",
      "No match found for:  at night\n",
      "No match found for:  at night\n",
      "No match found for:  at night\n",
      "No match found for:  at night\n",
      "No match found for:  at night\n",
      "No match found for:  at night\n",
      "No match found for:  at night\n",
      "No match found for:  at night\n",
      "No match found for:  at night\n",
      "No match found for:  at night\n",
      "No match found for:  at night\n",
      "No match found for:  at night\n",
      "No match found for:  at teatime\n",
      "No match found for:  every and\n",
      "No match found for:  at night\n",
      "No match found for:  in the morning\n",
      "No match found for:  daily every morning\n",
      "No match found for:  with food\n",
      "No match found for:  at night\n",
      "No match found for:  in the morning\n",
      "No match found for:  each morni\n",
      "No match found for:  everyday\n",
      "No match found for:  in evening\n",
      "No match found for:  in morning\n",
      "No match found for:  in morning\n",
      "No match found for:  in morning\n",
      "No match found for:  in the evening\n",
      "No match found for:  in the evening\n",
      "No match found for:  in the morning\n",
      "No match found for:  in the morning\n",
      "No match found for:  at night\n",
      "No match found for:  night\n",
      "No match found for:  night morning\n",
      "No match found for:  once or\n",
      "No match found for:  at night\n",
      "No match found for:  at night\n",
      "No match found for:  at night\n",
      "No match found for:  at night\n",
      "No match found for:  in the morning\n",
      "No match found for:  once a day each morning\n",
      "No match found for:  at night\n",
      "No match found for:  at night\n",
      "No match found for:  at night\n",
      "No match found for:  in the morning\n",
      "No match found for:  at night\n",
      "No match found for:  at night\n",
      "No match found for:  three a day\n",
      "No match found for:  two a day\n",
      "No match found for:  in the morning\n",
      "No match found for:  every one and a half to\n",
      "No match found for:  at night\n",
      "No match found for:  twice daily every morning\n",
      "No match found for:  in the afternoon\n",
      "No match found for:  in the morning\n",
      "No match found for:  in the morning\n",
      "No match found for:  three every night\n",
      "No match found for:  in the morning\n",
      "No match found for:  in the morning\n",
      "No match found for:  in the morning\n",
      "No match found for:  six fourteen\n",
      "No match found for:  in morning\n",
      "No match found for:  twice a day-am\n",
      "No match found for:  at night\n",
      "No match found for:  every night twice a week\n",
      "No match found for:  two every night\n",
      "No match found for:  at night\n",
      "No match found for:  in the morning\n"
     ]
    },
    {
     "data": {
      "text/html": [
       "<div>\n",
       "<style scoped>\n",
       "    .dataframe tbody tr th:only-of-type {\n",
       "        vertical-align: middle;\n",
       "    }\n",
       "\n",
       "    .dataframe tbody tr th {\n",
       "        vertical-align: top;\n",
       "    }\n",
       "\n",
       "    .dataframe thead th {\n",
       "        text-align: right;\n",
       "    }\n",
       "</style>\n",
       "<table border=\"1\" class=\"dataframe\">\n",
       "  <thead>\n",
       "    <tr style=\"text-align: right;\">\n",
       "      <th></th>\n",
       "      <th>string</th>\n",
       "      <th>once weekly</th>\n",
       "      <th>twice weekly</th>\n",
       "      <th>three times weekly</th>\n",
       "      <th>every other day</th>\n",
       "      <th>once daily</th>\n",
       "      <th>twice daily</th>\n",
       "      <th>three times daily</th>\n",
       "      <th>four times daily</th>\n",
       "      <th>five times daily</th>\n",
       "      <th>every morning</th>\n",
       "      <th>every night</th>\n",
       "    </tr>\n",
       "  </thead>\n",
       "  <tbody>\n",
       "    <tr>\n",
       "      <th>0</th>\n",
       "      <td>daily</td>\n",
       "      <td>0</td>\n",
       "      <td>0</td>\n",
       "      <td>0</td>\n",
       "      <td>0</td>\n",
       "      <td>5</td>\n",
       "      <td>0</td>\n",
       "      <td>0</td>\n",
       "      <td>0</td>\n",
       "      <td>0</td>\n",
       "      <td>0</td>\n",
       "      <td>0</td>\n",
       "    </tr>\n",
       "    <tr>\n",
       "      <th>1</th>\n",
       "      <td>four times a day</td>\n",
       "      <td>0</td>\n",
       "      <td>0</td>\n",
       "      <td>0</td>\n",
       "      <td>0</td>\n",
       "      <td>1</td>\n",
       "      <td>3</td>\n",
       "      <td>3</td>\n",
       "      <td>5</td>\n",
       "      <td>3</td>\n",
       "      <td>1</td>\n",
       "      <td>1</td>\n",
       "    </tr>\n",
       "    <tr>\n",
       "      <th>2</th>\n",
       "      <td>twice daily</td>\n",
       "      <td>0</td>\n",
       "      <td>1</td>\n",
       "      <td>0</td>\n",
       "      <td>0</td>\n",
       "      <td>1</td>\n",
       "      <td>5</td>\n",
       "      <td>1</td>\n",
       "      <td>1</td>\n",
       "      <td>1</td>\n",
       "      <td>0</td>\n",
       "      <td>0</td>\n",
       "    </tr>\n",
       "    <tr>\n",
       "      <th>3</th>\n",
       "      <td>every seven days</td>\n",
       "      <td>5</td>\n",
       "      <td>1</td>\n",
       "      <td>1</td>\n",
       "      <td>1</td>\n",
       "      <td>0</td>\n",
       "      <td>0</td>\n",
       "      <td>0</td>\n",
       "      <td>0</td>\n",
       "      <td>0</td>\n",
       "      <td>0</td>\n",
       "      <td>0</td>\n",
       "    </tr>\n",
       "    <tr>\n",
       "      <th>4</th>\n",
       "      <td>every 4-6 hours</td>\n",
       "      <td>0</td>\n",
       "      <td>0</td>\n",
       "      <td>0</td>\n",
       "      <td>0</td>\n",
       "      <td>0</td>\n",
       "      <td>3</td>\n",
       "      <td>3</td>\n",
       "      <td>4</td>\n",
       "      <td>0</td>\n",
       "      <td>0</td>\n",
       "      <td>0</td>\n",
       "    </tr>\n",
       "    <tr>\n",
       "      <th>...</th>\n",
       "      <td>...</td>\n",
       "      <td>...</td>\n",
       "      <td>...</td>\n",
       "      <td>...</td>\n",
       "      <td>...</td>\n",
       "      <td>...</td>\n",
       "      <td>...</td>\n",
       "      <td>...</td>\n",
       "      <td>...</td>\n",
       "      <td>...</td>\n",
       "      <td>...</td>\n",
       "      <td>...</td>\n",
       "    </tr>\n",
       "    <tr>\n",
       "      <th>1965</th>\n",
       "      <td>every night</td>\n",
       "      <td>0</td>\n",
       "      <td>0</td>\n",
       "      <td>0</td>\n",
       "      <td>0</td>\n",
       "      <td>4</td>\n",
       "      <td>0</td>\n",
       "      <td>0</td>\n",
       "      <td>0</td>\n",
       "      <td>0</td>\n",
       "      <td>0</td>\n",
       "      <td>5</td>\n",
       "    </tr>\n",
       "    <tr>\n",
       "      <th>1966</th>\n",
       "      <td>every night</td>\n",
       "      <td>0</td>\n",
       "      <td>0</td>\n",
       "      <td>0</td>\n",
       "      <td>0</td>\n",
       "      <td>4</td>\n",
       "      <td>0</td>\n",
       "      <td>0</td>\n",
       "      <td>0</td>\n",
       "      <td>0</td>\n",
       "      <td>0</td>\n",
       "      <td>5</td>\n",
       "    </tr>\n",
       "    <tr>\n",
       "      <th>1967</th>\n",
       "      <td>every morning</td>\n",
       "      <td>0</td>\n",
       "      <td>0</td>\n",
       "      <td>0</td>\n",
       "      <td>0</td>\n",
       "      <td>1</td>\n",
       "      <td>0</td>\n",
       "      <td>0</td>\n",
       "      <td>0</td>\n",
       "      <td>0</td>\n",
       "      <td>5</td>\n",
       "      <td>0</td>\n",
       "    </tr>\n",
       "    <tr>\n",
       "      <th>1968</th>\n",
       "      <td>every night</td>\n",
       "      <td>0</td>\n",
       "      <td>0</td>\n",
       "      <td>0</td>\n",
       "      <td>0</td>\n",
       "      <td>4</td>\n",
       "      <td>0</td>\n",
       "      <td>0</td>\n",
       "      <td>0</td>\n",
       "      <td>0</td>\n",
       "      <td>0</td>\n",
       "      <td>5</td>\n",
       "    </tr>\n",
       "    <tr>\n",
       "      <th>1969</th>\n",
       "      <td>every night</td>\n",
       "      <td>0</td>\n",
       "      <td>0</td>\n",
       "      <td>0</td>\n",
       "      <td>0</td>\n",
       "      <td>4</td>\n",
       "      <td>0</td>\n",
       "      <td>0</td>\n",
       "      <td>0</td>\n",
       "      <td>0</td>\n",
       "      <td>0</td>\n",
       "      <td>5</td>\n",
       "    </tr>\n",
       "  </tbody>\n",
       "</table>\n",
       "<p>1970 rows × 12 columns</p>\n",
       "</div>"
      ],
      "text/plain": [
       "                string  once weekly  twice weekly  three times weekly  \\\n",
       "0                daily            0             0                   0   \n",
       "1     four times a day            0             0                   0   \n",
       "2          twice daily            0             1                   0   \n",
       "3     every seven days            5             1                   1   \n",
       "4      every 4-6 hours            0             0                   0   \n",
       "...                ...          ...           ...                 ...   \n",
       "1965       every night            0             0                   0   \n",
       "1966       every night            0             0                   0   \n",
       "1967     every morning            0             0                   0   \n",
       "1968       every night            0             0                   0   \n",
       "1969       every night            0             0                   0   \n",
       "\n",
       "      every other day  once daily  twice daily  three times daily  \\\n",
       "0                   0           5            0                  0   \n",
       "1                   0           1            3                  3   \n",
       "2                   0           1            5                  1   \n",
       "3                   1           0            0                  0   \n",
       "4                   0           0            3                  3   \n",
       "...               ...         ...          ...                ...   \n",
       "1965                0           4            0                  0   \n",
       "1966                0           4            0                  0   \n",
       "1967                0           1            0                  0   \n",
       "1968                0           4            0                  0   \n",
       "1969                0           4            0                  0   \n",
       "\n",
       "      four times daily  five times daily  every morning  every night  \n",
       "0                    0                 0              0            0  \n",
       "1                    5                 3              1            1  \n",
       "2                    1                 1              0            0  \n",
       "3                    0                 0              0            0  \n",
       "4                    4                 0              0            0  \n",
       "...                ...               ...            ...          ...  \n",
       "1965                 0                 0              0            5  \n",
       "1966                 0                 0              0            5  \n",
       "1967                 0                 0              5            0  \n",
       "1968                 0                 0              0            5  \n",
       "1969                 0                 0              0            5  \n",
       "\n",
       "[1970 rows x 12 columns]"
      ]
     },
     "execution_count": 45,
     "metadata": {},
     "output_type": "execute_result"
    }
   ],
   "source": [
    "datapoints = []\n",
    "for string in frequencies:\n",
    "    processed_string = post_process(string)\n",
    "    try:\n",
    "        data = mapping_dict.loc[processed_string].to_list()\n",
    "        data.insert(0,processed_string)\n",
    "        datapoints.append(data)\n",
    "    except:\n",
    "        print('No match found for: ', processed_string)\n",
    "\n",
    "columns = standard.copy()\n",
    "columns.insert(0,'string')\n",
    "len(columns)\n",
    "mapping_training_data_full = pd.DataFrame(datapoints, columns=columns)\n",
    "mapping_training_data_full"
   ]
  },
  {
   "cell_type": "code",
   "execution_count": null,
   "metadata": {},
   "outputs": [],
   "source": [
    "from sentence_transformers import SentencesDataset, InputExample, losses, util\n",
    "from torch.utils.data import DataLoader\n",
    "from sklearn.model_selection import train_test_split\n",
    "# https://arxiv.org/abs/2010.08240\n",
    "# creating training sentence pairs\n",
    "data_pairs=[]\n",
    "for index, row in mapping_training_data_full.iterrows():\n",
    "    string = row['string']\n",
    "    for column, value in row.items():\n",
    "        if column != 'string':\n",
    "            data_pairs.append(InputExample(texts=[string, column], label=value/5))\n",
    "training_pairs, test_pairs = train_test_split(data_pairs, test_size=0.33, random_state=1)"
   ]
  },
  {
   "cell_type": "code",
   "execution_count": null,
   "metadata": {},
   "outputs": [],
   "source": [
    "model = SentenceTransformer('sentence-transformers/paraphrase-MiniLM-L6-v2')"
   ]
  },
  {
   "cell_type": "code",
   "execution_count": null,
   "metadata": {},
   "outputs": [],
   "source": [
    "from sentence_transformers.evaluation import EmbeddingSimilarityEvaluator\n",
    "import math\n",
    "train_dataloader = DataLoader(training_pairs, shuffle=True, batch_size=16)\n",
    "train_loss = losses.CosineSimilarityLoss(model)\n",
    "\n",
    "evaluator = EmbeddingSimilarityEvaluator.from_input_examples(test_pairs, name='dev')\n",
    "#Tune the model\n",
    "# model.fit(train_objectives=[(train_dataloader, train_loss)], epochs=10, warmup_steps=100, )\n",
    "train_batch_size = 16\n",
    "num_epochs = 1\n",
    "warmup_steps = math.ceil(len(train_dataloader) * num_epochs  * 0.1)\n",
    "# model.fit(train_objectives=[(train_dataloader, train_loss)],\n",
    "#           evaluator=evaluator,\n",
    "#           epochs=num_epochs,\n",
    "#           evaluation_steps=1000,\n",
    "#           warmup_steps=warmup_steps,\n",
    "#           output_path='final_model_choice/sts-model')"
   ]
  },
  {
   "cell_type": "code",
   "execution_count": null,
   "metadata": {},
   "outputs": [
    {
     "data": {
      "text/plain": [
       "0.8365065014619644"
      ]
     },
     "execution_count": 49,
     "metadata": {},
     "output_type": "execute_result"
    }
   ],
   "source": [
    "model = SentenceTransformer('final_model_choice/sts-model')\n",
    "rrules.loc[:, 'embeddings'] = rrules.loc[:, 'text'].apply(model.encode)\n",
    "def find_most_similar(string: str):\n",
    "    embeddings_stan  = rrules.loc[:, 'embeddings'].to_list()\n",
    "    difference =  cosine_similarity([model.encode(string)], embeddings_stan)\n",
    "    index = difference[0].argmax()\n",
    "    return rrules.iloc[index].loc['text'], difference[0][index]\n",
    "\n",
    "freq = []\n",
    "match = []\n",
    "for each in unique_values:\n",
    "    freq.append(each)\n",
    "    match.append((find_most_similar(each)))\n",
    "\n",
    "test_evaluator = EmbeddingSimilarityEvaluator.from_input_examples(test_pairs, name='sts-test')\n",
    "test_evaluator(model, output_path='final_model_choice/sts-model')"
   ]
  },
  {
   "cell_type": "code",
   "execution_count": null,
   "metadata": {},
   "outputs": [],
   "source": [
    "custom_matches = pd.DataFrame({'cutom_match': match})\n"
   ]
  },
  {
   "cell_type": "code",
   "execution_count": null,
   "metadata": {},
   "outputs": [
    {
     "data": {
      "text/html": [
       "<div>\n",
       "<style scoped>\n",
       "    .dataframe tbody tr th:only-of-type {\n",
       "        vertical-align: middle;\n",
       "    }\n",
       "\n",
       "    .dataframe tbody tr th {\n",
       "        vertical-align: top;\n",
       "    }\n",
       "\n",
       "    .dataframe thead th {\n",
       "        text-align: right;\n",
       "    }\n",
       "</style>\n",
       "<table border=\"1\" class=\"dataframe\">\n",
       "  <thead>\n",
       "    <tr style=\"text-align: right;\">\n",
       "      <th></th>\n",
       "      <th>string</th>\n",
       "      <th>pre-trained match</th>\n",
       "      <th>cutom_match</th>\n",
       "    </tr>\n",
       "  </thead>\n",
       "  <tbody>\n",
       "    <tr>\n",
       "      <th>0</th>\n",
       "      <td>once every night</td>\n",
       "      <td>(once daily, 0.8245864)</td>\n",
       "      <td>(every night, 0.98539037)</td>\n",
       "    </tr>\n",
       "    <tr>\n",
       "      <th>1</th>\n",
       "      <td>five times day</td>\n",
       "      <td>(five times daily, 0.9587241)</td>\n",
       "      <td>(five times daily, 0.96563417)</td>\n",
       "    </tr>\n",
       "    <tr>\n",
       "      <th>2</th>\n",
       "      <td>one weekly</td>\n",
       "      <td>(once weekly, 0.88382715)</td>\n",
       "      <td>(once weekly, 0.9868854)</td>\n",
       "    </tr>\n",
       "    <tr>\n",
       "      <th>3</th>\n",
       "      <td>early evening</td>\n",
       "      <td>(every night, 0.53193414)</td>\n",
       "      <td>(every night, 0.810167)</td>\n",
       "    </tr>\n",
       "    <tr>\n",
       "      <th>4</th>\n",
       "      <td>two times day</td>\n",
       "      <td>(twice daily, 0.86788356)</td>\n",
       "      <td>(twice daily, 0.7460866)</td>\n",
       "    </tr>\n",
       "    <tr>\n",
       "      <th>...</th>\n",
       "      <td>...</td>\n",
       "      <td>...</td>\n",
       "      <td>...</td>\n",
       "    </tr>\n",
       "    <tr>\n",
       "      <th>137</th>\n",
       "      <td>once a week</td>\n",
       "      <td>(once weekly, 0.8903437)</td>\n",
       "      <td>(once weekly, 0.5917779)</td>\n",
       "    </tr>\n",
       "    <tr>\n",
       "      <th>138</th>\n",
       "      <td>five hours</td>\n",
       "      <td>(five times daily, 0.6522585)</td>\n",
       "      <td>(five times daily, 0.755965)</td>\n",
       "    </tr>\n",
       "    <tr>\n",
       "      <th>139</th>\n",
       "      <td>once a day each morning</td>\n",
       "      <td>(once daily, 0.84654903)</td>\n",
       "      <td>(every morning, 0.87832487)</td>\n",
       "    </tr>\n",
       "    <tr>\n",
       "      <th>140</th>\n",
       "      <td>daily</td>\n",
       "      <td>(once daily, 0.79377365)</td>\n",
       "      <td>(once daily, 0.7387885)</td>\n",
       "    </tr>\n",
       "    <tr>\n",
       "      <th>141</th>\n",
       "      <td>six fourteen</td>\n",
       "      <td>(four times daily, 0.42290002)</td>\n",
       "      <td>(five times daily, 0.23866683)</td>\n",
       "    </tr>\n",
       "  </tbody>\n",
       "</table>\n",
       "<p>142 rows × 3 columns</p>\n",
       "</div>"
      ],
      "text/plain": [
       "                      string               pre-trained match  \\\n",
       "0           once every night         (once daily, 0.8245864)   \n",
       "1             five times day   (five times daily, 0.9587241)   \n",
       "2                 one weekly       (once weekly, 0.88382715)   \n",
       "3              early evening       (every night, 0.53193414)   \n",
       "4              two times day       (twice daily, 0.86788356)   \n",
       "..                       ...                             ...   \n",
       "137              once a week        (once weekly, 0.8903437)   \n",
       "138               five hours   (five times daily, 0.6522585)   \n",
       "139  once a day each morning        (once daily, 0.84654903)   \n",
       "140                    daily        (once daily, 0.79377365)   \n",
       "141             six fourteen  (four times daily, 0.42290002)   \n",
       "\n",
       "                        cutom_match  \n",
       "0         (every night, 0.98539037)  \n",
       "1    (five times daily, 0.96563417)  \n",
       "2          (once weekly, 0.9868854)  \n",
       "3           (every night, 0.810167)  \n",
       "4          (twice daily, 0.7460866)  \n",
       "..                              ...  \n",
       "137        (once weekly, 0.5917779)  \n",
       "138    (five times daily, 0.755965)  \n",
       "139     (every morning, 0.87832487)  \n",
       "140         (once daily, 0.7387885)  \n",
       "141  (five times daily, 0.23866683)  \n",
       "\n",
       "[142 rows x 3 columns]"
      ]
     },
     "execution_count": 51,
     "metadata": {},
     "output_type": "execute_result"
    }
   ],
   "source": [
    "pd.concat([pre_trained_matches, custom_matches], axis = 1)"
   ]
  },
  {
   "cell_type": "markdown",
   "metadata": {},
   "source": [
    "Each number represents the degree of similarity between the string, and the nearest match. I think the custom model suits the task much more, for example 'per twenty-four hours' is not very similar to 'four times daily' but still recieves a similarity score of 0.58, whereas the custom_match detects a match with 'twice daily' with low confidence which is much more representative."
   ]
  },
  {
   "cell_type": "code",
   "execution_count": null,
   "metadata": {},
   "outputs": [
    {
     "data": {
      "text/plain": [
       "('every night', 0.7092597)"
      ]
     },
     "execution_count": 52,
     "metadata": {},
     "output_type": "execute_result"
    }
   ],
   "source": [
    "def get_similarity(string1, string2):\n",
    "    model = SentenceTransformer('final_model_choice/sts-model')\n",
    "    return cosine_similarity([model.encode(string1)], [model.encode(string2)])\n",
    "def get_pretrained_similarity(string1, string2):\n",
    "    model = SentenceTransformer('final_model_choice/sts-model')\n",
    "    return cosine_similarity([model.encode(string1)], [model.encode(string2)])\n",
    "    \n",
    "get_similarity('three times', 'thrice')[0][0]\n",
    "find_most_similar('tabletat night')"
   ]
  },
  {
   "cell_type": "code",
   "execution_count": null,
   "metadata": {},
   "outputs": [
    {
     "name": "stdout",
     "output_type": "stream",
     "text": [
      "2022-04-21 11:04:12,540 loading file final_model_choice/taggers/ner/best-model.pt\n",
      "2022-04-21 11:04:15,085 SequenceTagger predicts: Dictionary with 10 tags: <unk>, B-QUANTITY, B-FREQUENCY, I-FREQUENCY, O, I-QUANTITY, B-MEALTIME, I-MEALTIME, <START>, <STOP>\n"
     ]
    }
   ],
   "source": [
    "# data that was not labelled during training, untouched.\n",
    "import nltk\n",
    "from flair.data import Sentence\n",
    "from flair.models import SequenceTagger\n",
    "from sklearn.metrics.pairwise import cosine_similarity\n",
    "import pandas as pd\n",
    "from sentence_transformers import SentenceTransformer\n",
    "from dateutil.rrule import *\n",
    "from dateutil.parser import *\n",
    "from datetime import *\n",
    "import inflect\n",
    "\n",
    "p = inflect.engine()\n",
    "import os\n",
    "\n",
    "tokenizer = nltk.RegexpTokenizer(r\"[\\w'-]+\")\n",
    "\n",
    "# for some reason the current working directory accoding to python is not normalisation-project bu loop-webapps\n",
    "\n",
    "# this defines the best model for\n",
    "best_model_ner = SequenceTagger.load('final_model_choice/taggers/ner/best-model.pt') # FLAIR embedding model\n",
    "\n",
    "# this defines our trained model for STS\n",
    "try:\n",
    "    model_sts = SentenceTransformer('final_model_choice/sts-model')\n",
    "except:\n",
    "    model_sts = SentenceTransformer('sts-model')\n",
    "\n",
    "tokenizer = nltk.RegexpTokenizer(r\"[\\w'-]+\")\n",
    "\n",
    "# this defines our standard string mappping to RRule\n",
    "\n",
    "rrule_dict ={\n",
    "    \"once weekly\":\"FREQ=WEEKLY;BYDAY=MO\",\n",
    "    \"twice weekly\":\"FREQ=WEEKLY;BYDAY=TU,FR\",\n",
    "    \"three times weekly\":\"FREQ=WEEKLY;BYDAY=TU,TH,SU\",\n",
    "    \"every other day\": \"FREQ=DAILY;INTERVAL=2;BYHOUR=9\",\n",
    "    \"once daily\":\"FREQ=DAILY;BYHOUR=9\",\n",
    "    \"twice daily\":\"FREQ=DAILY;BYHOUR=8,20\",\n",
    "    \"three times daily\":\"FREQ=DAILY;BYHOUR=8,13,18\",\n",
    "    \"four times daily\":\"FREQ=DAILY;BYHOUR=8,12,16,20\",\n",
    "    \"five times daily\":\"FREQ=DAILY;BYHOUR=8,11,14,17,20\",\n",
    "    \"every morning\":\"FREQ=DAILY;BYHOUR=9\",\n",
    "    \"every night\":\"FREQ=DAILY;BYHOUR=21\",\n",
    "}\n",
    "\n",
    "rrules_df = pd.DataFrame.from_dict(rrule_dict, orient='index', columns=['rrule']).reset_index()\n",
    "rrules_df.columns = ['text', 'rrule']\n",
    "rrules_df.loc[:, 'embeddings'] = rrules_df.loc[:, 'text'].apply(model_sts.encode)\n",
    "\n",
    "# this defines the dictionary for medical abbreviations\n",
    "f = open('data/abbreviations.txt', \"r\")\n",
    "\n",
    "abb_dict = {}\n",
    "multiple_abbreviations = []\n",
    "\n",
    "def configure_abreviations(line):\n",
    "    strings = line.split(':')\n",
    "    long_form = ' '.join(strings[1].split())\n",
    "    if len(long_form.split('/'))>1:\n",
    "        print(long_form.split('/'))\n",
    "    abbreviation_list=strings[0].split(',')\n",
    "    if len(abbreviation_list) > 1:\n",
    "        multiple_abbreviations.append(abbreviation_list)\n",
    "    abb = abbreviation_list[0] if len(abbreviation_list) == 1 else abbreviation_list[1]\n",
    "    abbreviation, text = ' '.join(abb.split()), long_form\n",
    "    abb_dict[abbreviation] = text\n",
    "\n",
    "[configure_abreviations(line) for line in f]\n",
    "multiple_abb_mapping = [(','.join(abb),abb[1]) for abb in multiple_abbreviations]\n",
    "\n",
    "abb_mappings_dict = {}\n",
    "for mapping in multiple_abb_mapping:\n",
    "    temp = list(map(lambda x : x.split(),mapping[0].split(',')))\n",
    "    key = [item for sublist in temp for item in sublist]\n",
    "    abb_mappings_dict[tuple(key)] = ''.join(mapping[1].split())\n",
    "\n",
    "def process(text):\n",
    "    tokens = list(map(lambda x: x.casefold(), tokenizer.tokenize(text)))\n",
    "    keys1 = abb_mappings_dict.keys() # multiple abbreviations\n",
    "    for i in range(len(tokens)):\n",
    "        token = tokens[i]\n",
    "        mult_abb = next((x for x in keys1 if token in x), None)\n",
    "        if mult_abb != None:\n",
    "            token = abb_mappings_dict[mult_abb]\n",
    "        \n",
    "        if token in abb_dict.keys():\n",
    "            tokens[i] = abb_dict[token]\n",
    "    \n",
    "    return ' '.join(tokens)\n",
    "\n",
    "def post_process(sentence: str):\n",
    "    sentence = Sentence(sentence)\n",
    "    new_string = []\n",
    "    for i in range(len(sentence)):\n",
    "        token = sentence[i].text\n",
    "        try:\n",
    "            number = p.number_to_words(int(token))\n",
    "            new_string.append(str(number))\n",
    "        except:\n",
    "            new_string.append(token)\n",
    "    return ' '.join(new_string)\n",
    "\n",
    "def label(text, model):\n",
    "    # run NER over sentence\n",
    "    text=Sentence(process(text))\n",
    "    model.predict(text)\n",
    "    ents = [(entity.text, entity.get_label(\"ner\").value) for entity in text.get_spans('ner')] #getting NER spans\n",
    "    return ents\n",
    "\n",
    "def find_match(string: str, model):\n",
    "    embeddings_stan  = rrules_df.loc[:, 'embeddings'].to_list()\n",
    "    difference =  cosine_similarity([model.encode(string)], embeddings_stan)\n",
    "    index = difference[0].argmax()\n",
    "    return index, rrules_df.iloc[index].loc['text'], difference[0][index]\n",
    "\n",
    "def current_time_string():\n",
    "    datetime_string = datetime.now().__str__()\n",
    "    date_string = datetime_string.split()[0].split('-')\n",
    "    time_string = datetime_string.split()[1].split(':')\n",
    "    time_string[-1] = '00'\n",
    "    time_string[-2] = '00'\n",
    "    return ''.join(date_string+[\"T\"]+time_string)\n",
    "\n",
    "def take_times(rrule_string: str, start: str, occurences: int = 7):\n",
    "    # can take set amount prescribed as occurences and schedule will stop when presciption\n",
    "    count = \";COUNT=\" + str(occurences)\n",
    "    return list(rrulestr( rrule_string+count, dtstart=parse(start) ))\n",
    "\n",
    "def schedule(string: str, start: str = current_time_string()):\n",
    "    labels = label(process(string), best_model_ner)\n",
    "    frequencies = [post_process(item[0]) for item in labels if item[1] == 'FREQUENCY']\n",
    "    try:\n",
    "        frequency = frequencies[0]\n",
    "        processed_frequency = post_process(frequency)\n",
    "        match_index, match, similarity = find_match(processed_frequency, model_sts)\n",
    "        return list(map(lambda x: x.__str__(), take_times(rrules_df.iloc[match_index].loc['rrule'], start)))\n",
    "    except ParserError:\n",
    "        return 'Invalid start time: '+ start\n",
    "    except IndexError: # probably means that there are no frequencies\n",
    "        return 'No frequencies found.'\n",
    "    except:\n",
    "        return 'Error: invalid input'\n",
    "\n",
    "def schedule_datetimes(string: str, start: str = current_time_string()):\n",
    "    labels = label(process(string), best_model_ner)\n",
    "    frequencies = [post_process(item[0]) for item in labels if item[1] == 'FREQUENCY']\n",
    "    try:   \n",
    "        frequency = frequencies[0]\n",
    "        processed_frequency = post_process(frequency)\n",
    "        match_index, match, similarity = find_match(processed_frequency, model_sts)\n",
    "        return take_times(rrules_df.iloc[match_index].loc['rrule'], start, 50)\n",
    "    except ParserError:\n",
    "        return 'Invalid start time: '+ start\n",
    "    except IndexError: # probably means that there are no frequencies\n",
    "        return 'No frequencies found.'\n",
    "    except:\n",
    "        return frequencies\n",
    "\n",
    "def get_rrule(string: str):\n",
    "    labels = label(process(string), best_model_ner)\n",
    "    frequencies = [post_process(item[0]) for item in labels if item[1] == 'FREQUENCY']\n",
    "    try:   \n",
    "        frequency = frequencies[0]\n",
    "        processed_frequency = post_process(frequency)\n",
    "        match_index, match, similarity = find_match(processed_frequency, model_sts)\n",
    "        return rrules_df.iloc[match_index].loc['rrule']\n",
    "    except:\n",
    "        return frequencies\n"
   ]
  },
  {
   "cell_type": "code",
   "execution_count": null,
   "metadata": {},
   "outputs": [],
   "source": [
    "datetimes = whole_set.iloc[1504:].loc[:,'prescriber_dosage'].apply(schedule_datetimes)\n",
    "rrules_column = whole_set.iloc[1504:].loc[:,'prescriber_dosage'].apply(get_rrule)"
   ]
  },
  {
   "cell_type": "code",
   "execution_count": null,
   "metadata": {},
   "outputs": [
    {
     "name": "stderr",
     "output_type": "stream",
     "text": [
      "/var/folders/89/d0d2vvw54hn9r2smx5prxgrm0000gn/T/ipykernel_10954/2455779331.py:2: SettingWithCopyWarning:\n",
      "\n",
      "\n",
      "A value is trying to be set on a copy of a slice from a DataFrame.\n",
      "Try using .loc[row_indexer,col_indexer] = value instead\n",
      "\n",
      "See the caveats in the documentation: https://pandas.pydata.org/pandas-docs/stable/user_guide/indexing.html#returning-a-view-versus-a-copy\n",
      "\n",
      "/var/folders/89/d0d2vvw54hn9r2smx5prxgrm0000gn/T/ipykernel_10954/2455779331.py:3: SettingWithCopyWarning:\n",
      "\n",
      "\n",
      "A value is trying to be set on a copy of a slice from a DataFrame.\n",
      "Try using .loc[row_indexer,col_indexer] = value instead\n",
      "\n",
      "See the caveats in the documentation: https://pandas.pydata.org/pandas-docs/stable/user_guide/indexing.html#returning-a-view-versus-a-copy\n",
      "\n",
      "/var/folders/89/d0d2vvw54hn9r2smx5prxgrm0000gn/T/ipykernel_10954/2455779331.py:4: SettingWithCopyWarning:\n",
      "\n",
      "\n",
      "A value is trying to be set on a copy of a slice from a DataFrame\n",
      "\n",
      "See the caveats in the documentation: https://pandas.pydata.org/pandas-docs/stable/user_guide/indexing.html#returning-a-view-versus-a-copy\n",
      "\n"
     ]
    },
    {
     "data": {
      "text/html": [
       "<div>\n",
       "<style scoped>\n",
       "    .dataframe tbody tr th:only-of-type {\n",
       "        vertical-align: middle;\n",
       "    }\n",
       "\n",
       "    .dataframe tbody tr th {\n",
       "        vertical-align: top;\n",
       "    }\n",
       "\n",
       "    .dataframe thead th {\n",
       "        text-align: right;\n",
       "    }\n",
       "</style>\n",
       "<table border=\"1\" class=\"dataframe\">\n",
       "  <thead>\n",
       "    <tr style=\"text-align: right;\">\n",
       "      <th></th>\n",
       "      <th>prescriber_dosage</th>\n",
       "      <th>annotation</th>\n",
       "      <th>datetimes</th>\n",
       "      <th>rrule</th>\n",
       "    </tr>\n",
       "  </thead>\n",
       "  <tbody>\n",
       "    <tr>\n",
       "      <th>1504</th>\n",
       "      <td>Take ONE capsule THREE times a day</td>\n",
       "      <td>[(one, QUANTITY), (three times a day, FREQUENCY)]</td>\n",
       "      <td>[2022-04-21 13:00:00, 2022-04-21 18:00:00, 202...</td>\n",
       "      <td>FREQ=DAILY;BYHOUR=8,13,18</td>\n",
       "    </tr>\n",
       "    <tr>\n",
       "      <th>1505</th>\n",
       "      <td>take one capsule twice a day</td>\n",
       "      <td>[(one, QUANTITY), (twice a day, FREQUENCY)]</td>\n",
       "      <td>[2022-04-21 20:00:00, 2022-04-22 08:00:00, 202...</td>\n",
       "      <td>FREQ=DAILY;BYHOUR=8,20</td>\n",
       "    </tr>\n",
       "    <tr>\n",
       "      <th>1506</th>\n",
       "      <td>Take One Capsule Twice A Day, (One In The Morn...</td>\n",
       "      <td>[(one, QUANTITY), (twice a day, FREQUENCY)]</td>\n",
       "      <td>[2022-04-21 20:00:00, 2022-04-22 08:00:00, 202...</td>\n",
       "      <td>FREQ=DAILY;BYHOUR=8,20</td>\n",
       "    </tr>\n",
       "    <tr>\n",
       "      <th>1507</th>\n",
       "      <td>take one capsule twice daily</td>\n",
       "      <td>[(one, QUANTITY), (twice daily, FREQUENCY)]</td>\n",
       "      <td>[2022-04-21 20:00:00, 2022-04-22 08:00:00, 202...</td>\n",
       "      <td>FREQ=DAILY;BYHOUR=8,20</td>\n",
       "    </tr>\n",
       "    <tr>\n",
       "      <th>1508</th>\n",
       "      <td>take one daily</td>\n",
       "      <td>[(one, QUANTITY), (daily, FREQUENCY)]</td>\n",
       "      <td>[2022-04-22 09:00:00, 2022-04-23 09:00:00, 202...</td>\n",
       "      <td>FREQ=DAILY;BYHOUR=9</td>\n",
       "    </tr>\n",
       "    <tr>\n",
       "      <th>...</th>\n",
       "      <td>...</td>\n",
       "      <td>...</td>\n",
       "      <td>...</td>\n",
       "      <td>...</td>\n",
       "    </tr>\n",
       "    <tr>\n",
       "      <th>2181</th>\n",
       "      <td>1 nocte## please do u&amp;e twice a year in jan an...</td>\n",
       "      <td>[(1, QUANTITY), (every night, FREQUENCY), (twi...</td>\n",
       "      <td>[2022-04-21 21:00:00, 2022-04-22 21:00:00, 202...</td>\n",
       "      <td>FREQ=DAILY;BYHOUR=21</td>\n",
       "    </tr>\n",
       "    <tr>\n",
       "      <th>2182</th>\n",
       "      <td>half tab nocte</td>\n",
       "      <td>[(half, QUANTITY), (every night, FREQUENCY)]</td>\n",
       "      <td>[2022-04-21 21:00:00, 2022-04-22 21:00:00, 202...</td>\n",
       "      <td>FREQ=DAILY;BYHOUR=21</td>\n",
       "    </tr>\n",
       "    <tr>\n",
       "      <th>2183</th>\n",
       "      <td>take two at night (total dose 700mg nocte)</td>\n",
       "      <td>[(two, QUANTITY), (at night, FREQUENCY), (ever...</td>\n",
       "      <td>[2022-04-21 21:00:00, 2022-04-22 21:00:00, 202...</td>\n",
       "      <td>FREQ=DAILY;BYHOUR=21</td>\n",
       "    </tr>\n",
       "    <tr>\n",
       "      <th>2184</th>\n",
       "      <td>take one in the morning and one in the evening...</td>\n",
       "      <td>[(one, QUANTITY), (in the morning, FREQUENCY),...</td>\n",
       "      <td>[2022-04-22 09:00:00, 2022-04-23 09:00:00, 202...</td>\n",
       "      <td>FREQ=DAILY;BYHOUR=9</td>\n",
       "    </tr>\n",
       "    <tr>\n",
       "      <th>2185</th>\n",
       "      <td>take one tablet nocte as directed by hospital</td>\n",
       "      <td>[(one, QUANTITY), (every night, FREQUENCY)]</td>\n",
       "      <td>[2022-04-21 21:00:00, 2022-04-22 21:00:00, 202...</td>\n",
       "      <td>FREQ=DAILY;BYHOUR=21</td>\n",
       "    </tr>\n",
       "  </tbody>\n",
       "</table>\n",
       "<p>682 rows × 4 columns</p>\n",
       "</div>"
      ],
      "text/plain": [
       "                                      prescriber_dosage  \\\n",
       "1504                 Take ONE capsule THREE times a day   \n",
       "1505                       take one capsule twice a day   \n",
       "1506  Take One Capsule Twice A Day, (One In The Morn...   \n",
       "1507                       take one capsule twice daily   \n",
       "1508                                     take one daily   \n",
       "...                                                 ...   \n",
       "2181  1 nocte## please do u&e twice a year in jan an...   \n",
       "2182                                     half tab nocte   \n",
       "2183         take two at night (total dose 700mg nocte)   \n",
       "2184  take one in the morning and one in the evening...   \n",
       "2185      take one tablet nocte as directed by hospital   \n",
       "\n",
       "                                             annotation  \\\n",
       "1504  [(one, QUANTITY), (three times a day, FREQUENCY)]   \n",
       "1505        [(one, QUANTITY), (twice a day, FREQUENCY)]   \n",
       "1506        [(one, QUANTITY), (twice a day, FREQUENCY)]   \n",
       "1507        [(one, QUANTITY), (twice daily, FREQUENCY)]   \n",
       "1508              [(one, QUANTITY), (daily, FREQUENCY)]   \n",
       "...                                                 ...   \n",
       "2181  [(1, QUANTITY), (every night, FREQUENCY), (twi...   \n",
       "2182       [(half, QUANTITY), (every night, FREQUENCY)]   \n",
       "2183  [(two, QUANTITY), (at night, FREQUENCY), (ever...   \n",
       "2184  [(one, QUANTITY), (in the morning, FREQUENCY),...   \n",
       "2185        [(one, QUANTITY), (every night, FREQUENCY)]   \n",
       "\n",
       "                                              datetimes  \\\n",
       "1504  [2022-04-21 13:00:00, 2022-04-21 18:00:00, 202...   \n",
       "1505  [2022-04-21 20:00:00, 2022-04-22 08:00:00, 202...   \n",
       "1506  [2022-04-21 20:00:00, 2022-04-22 08:00:00, 202...   \n",
       "1507  [2022-04-21 20:00:00, 2022-04-22 08:00:00, 202...   \n",
       "1508  [2022-04-22 09:00:00, 2022-04-23 09:00:00, 202...   \n",
       "...                                                 ...   \n",
       "2181  [2022-04-21 21:00:00, 2022-04-22 21:00:00, 202...   \n",
       "2182  [2022-04-21 21:00:00, 2022-04-22 21:00:00, 202...   \n",
       "2183  [2022-04-21 21:00:00, 2022-04-22 21:00:00, 202...   \n",
       "2184  [2022-04-22 09:00:00, 2022-04-23 09:00:00, 202...   \n",
       "2185  [2022-04-21 21:00:00, 2022-04-22 21:00:00, 202...   \n",
       "\n",
       "                          rrule  \n",
       "1504  FREQ=DAILY;BYHOUR=8,13,18  \n",
       "1505     FREQ=DAILY;BYHOUR=8,20  \n",
       "1506     FREQ=DAILY;BYHOUR=8,20  \n",
       "1507     FREQ=DAILY;BYHOUR=8,20  \n",
       "1508        FREQ=DAILY;BYHOUR=9  \n",
       "...                         ...  \n",
       "2181       FREQ=DAILY;BYHOUR=21  \n",
       "2182       FREQ=DAILY;BYHOUR=21  \n",
       "2183       FREQ=DAILY;BYHOUR=21  \n",
       "2184        FREQ=DAILY;BYHOUR=9  \n",
       "2185       FREQ=DAILY;BYHOUR=21  \n",
       "\n",
       "[682 rows x 4 columns]"
      ]
     },
     "execution_count": 72,
     "metadata": {},
     "output_type": "execute_result"
    }
   ],
   "source": [
    "untouched = whole_set.iloc[1504:]\n",
    "untouched.loc[:,'datetimes']=datetimes\n",
    "untouched.loc[:,'rrule']=rrules_column\n",
    "untouched.drop('string', axis=1, inplace=True)\n",
    "untouched"
   ]
  },
  {
   "cell_type": "code",
   "execution_count": null,
   "metadata": {},
   "outputs": [],
   "source": [
    "untouched.to_json('feedbackData.json', orient='records')"
   ]
  },
  {
   "cell_type": "code",
   "execution_count": null,
   "metadata": {},
   "outputs": [],
   "source": [
    "untouched = pd.read_json('feedbackData.json', orient='records')"
   ]
  },
  {
   "cell_type": "code",
   "execution_count": null,
   "metadata": {},
   "outputs": [
    {
     "data": {
      "text/html": [
       "<div>\n",
       "<style scoped>\n",
       "    .dataframe tbody tr th:only-of-type {\n",
       "        vertical-align: middle;\n",
       "    }\n",
       "\n",
       "    .dataframe tbody tr th {\n",
       "        vertical-align: top;\n",
       "    }\n",
       "\n",
       "    .dataframe thead th {\n",
       "        text-align: right;\n",
       "    }\n",
       "</style>\n",
       "<table border=\"1\" class=\"dataframe\">\n",
       "  <thead>\n",
       "    <tr style=\"text-align: right;\">\n",
       "      <th></th>\n",
       "      <th>prescriber_dosage</th>\n",
       "      <th>annotation</th>\n",
       "      <th>rrule</th>\n",
       "    </tr>\n",
       "  </thead>\n",
       "  <tbody>\n",
       "    <tr>\n",
       "      <th>16</th>\n",
       "      <td>take one daily *Repeat Dispensed*</td>\n",
       "      <td>[[one, QUANTITY], [daily, FREQUENCY]]</td>\n",
       "      <td>FREQ=DAILY;BYHOUR=9</td>\n",
       "    </tr>\n",
       "    <tr>\n",
       "      <th>7</th>\n",
       "      <td>TAKE ONE DAILY ## FOR LFT CHECK EVERY        A...</td>\n",
       "      <td>[[one, QUANTITY], [daily, FREQUENCY], [every a...</td>\n",
       "      <td>FREQ=DAILY;BYHOUR=9</td>\n",
       "    </tr>\n",
       "    <tr>\n",
       "      <th>517</th>\n",
       "      <td>1 in the morning and one nocte in addition to ...</td>\n",
       "      <td>[[1, QUANTITY], [every night, FREQUENCY]]</td>\n",
       "      <td>FREQ=DAILY;BYHOUR=21</td>\n",
       "    </tr>\n",
       "    <tr>\n",
       "      <th>198</th>\n",
       "      <td>take one with breakfast</td>\n",
       "      <td>[[one, QUANTITY], [with breakfast, MEALTIME]]</td>\n",
       "      <td>[]</td>\n",
       "    </tr>\n",
       "    <tr>\n",
       "      <th>285</th>\n",
       "      <td>To Be Taken As Directed</td>\n",
       "      <td>[]</td>\n",
       "      <td>[]</td>\n",
       "    </tr>\n",
       "  </tbody>\n",
       "</table>\n",
       "</div>"
      ],
      "text/plain": [
       "                                     prescriber_dosage  \\\n",
       "16                   take one daily *Repeat Dispensed*   \n",
       "7    TAKE ONE DAILY ## FOR LFT CHECK EVERY        A...   \n",
       "517  1 in the morning and one nocte in addition to ...   \n",
       "198                            take one with breakfast   \n",
       "285                            To Be Taken As Directed   \n",
       "\n",
       "                                            annotation                 rrule  \n",
       "16               [[one, QUANTITY], [daily, FREQUENCY]]   FREQ=DAILY;BYHOUR=9  \n",
       "7    [[one, QUANTITY], [daily, FREQUENCY], [every a...   FREQ=DAILY;BYHOUR=9  \n",
       "517          [[1, QUANTITY], [every night, FREQUENCY]]  FREQ=DAILY;BYHOUR=21  \n",
       "198      [[one, QUANTITY], [with breakfast, MEALTIME]]                    []  \n",
       "285                                                 []                    []  "
      ]
     },
     "execution_count": 75,
     "metadata": {},
     "output_type": "execute_result"
    }
   ],
   "source": [
    "untouched.sample(5).drop('datetimes', axis=1)"
   ]
  },
  {
   "cell_type": "code",
   "execution_count": null,
   "metadata": {},
   "outputs": [],
   "source": [
    "untouched.iloc[[636, 540, 662, 416, 576, 371, 122, 65]].drop('datetimes', axis=1).to_csv('example_results.csv', index=False)"
   ]
  },
  {
   "cell_type": "code",
   "execution_count": null,
   "metadata": {},
   "outputs": [],
   "source": [
    "# mistakes\n",
    "untouched.iloc[[518, 467]].drop('datetimes', axis=1).to_csv('example_failed_results.csv', index=False)"
   ]
  }
 ],
 "metadata": {
  "interpreter": {
   "hash": "40d3a090f54c6569ab1632332b64b2c03c39dcf918b08424e98f38b5ae0af88f"
  },
  "kernelspec": {
   "display_name": "Python 3.9.7 ('base')",
   "language": "python",
   "name": "python3"
  },
  "language_info": {
   "codemirror_mode": {
    "name": "ipython",
    "version": 3
   },
   "file_extension": ".py",
   "mimetype": "text/x-python",
   "name": "python",
   "nbconvert_exporter": "python",
   "pygments_lexer": "ipython3",
   "version": "3.9.7"
  },
  "orig_nbformat": 4
 },
 "nbformat": 4,
 "nbformat_minor": 2
}
